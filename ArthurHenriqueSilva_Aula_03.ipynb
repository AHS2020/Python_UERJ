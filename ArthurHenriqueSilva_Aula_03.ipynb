{
  "nbformat": 4,
  "nbformat_minor": 0,
  "metadata": {
    "colab": {
      "name": "ArthurHenriqueSilva_Aula_03.ipynb",
      "provenance": [],
      "collapsed_sections": [],
      "authorship_tag": "ABX9TyNkpIf8frmKosZW5MNR1kA4",
      "include_colab_link": true
    },
    "kernelspec": {
      "name": "python3",
      "display_name": "Python 3"
    },
    "language_info": {
      "name": "python"
    }
  },
  "cells": [
    {
      "cell_type": "markdown",
      "metadata": {
        "id": "view-in-github",
        "colab_type": "text"
      },
      "source": [
        "<a href=\"https://colab.research.google.com/github/AHS2020/Python_UERJ/blob/master/ArthurHenriqueSilva_Aula_03.ipynb\" target=\"_parent\"><img src=\"https://colab.research.google.com/assets/colab-badge.svg\" alt=\"Open In Colab\"/></a>"
      ]
    },
    {
      "cell_type": "markdown",
      "metadata": {
        "id": "Ata3SoD41X7E"
      },
      "source": [
        "## Exercícios:\n",
        "1. Crie uma funcão que tome um argumento e imprima o valor e o tipo dele."
      ]
    },
    {
      "cell_type": "code",
      "metadata": {
        "colab": {
          "base_uri": "https://localhost:8080/"
        },
        "id": "RXi-YpHk1v_K",
        "outputId": "73c6a68e-7e21-4834-f459-8ce3fd0898bb"
      },
      "source": [
        "def arg_print_type():\n",
        "    prompt = 'Digite um número ou uma palavra.\\n'\n",
        "    x = input(prompt)\n",
        "    try:\n",
        "        float(x)\n",
        "        f = float(x)\n",
        "        if f==int(f):\n",
        "          f = int(x)\n",
        "          print(f, type(f))\n",
        "        else:\n",
        "          print(f, type(f))\n",
        "\n",
        "    except:\n",
        "        print(x, type(x))\n",
        "\n",
        "arg_print_type()\n",
        "print(' ')\n",
        "arg_print_type()\n",
        "print(' ')\n",
        "arg_print_type()"
      ],
      "execution_count": null,
      "outputs": [
        {
          "output_type": "stream",
          "name": "stdout",
          "text": [
            "Digite um número ou uma palavra.\n",
            "Word\n",
            "Word <class 'str'>\n",
            " \n",
            "Digite um número ou uma palavra.\n",
            "15\n",
            "15 <class 'int'>\n",
            " \n",
            "Digite um número ou uma palavra.\n",
            "1.5\n",
            "1.5 <class 'float'>\n"
          ]
        }
      ]
    },
    {
      "cell_type": "markdown",
      "metadata": {
        "id": "juHPU5qc1YK8"
      },
      "source": [
        "2. Crie uma função que calcule e imprima velocidade media de um objeto a partir de uma posição inicial, a final e o tempo transcorrido para um objeto em MRU. Também crie uma funcão que calcule e imprima a velocidade de um objeto a partir da aceleração constante e o tempo (MRUA) (p.ex. queda libre).\n"
      ]
    },
    {
      "cell_type": "code",
      "metadata": {
        "colab": {
          "base_uri": "https://localhost:8080/"
        },
        "id": "Zdooi4i61wXZ",
        "outputId": "ec31d68b-bd90-47b8-c9df-ab5444bcee15"
      },
      "source": [
        "prompt = 'Digite a posição inicial em metros: '\n",
        "pi = float(input(prompt))\n",
        "\n",
        "print(' ')\n",
        "\n",
        "prompt = 'Digite a posição final em metros: '\n",
        "pf = float(input(prompt))\n",
        "\n",
        "print(' ')\n",
        "\n",
        "prompt = 'Digite tempo transcorrido em segundos: '\n",
        "t = float(input(prompt))\n",
        "\n",
        "print(' ')\n",
        "\n",
        "def MRU(x1, x2, x3):\n",
        "    Vm = (x1-x2)/x3\n",
        "    print(f'Velocidade média = {Vm:.2f} m/s')\n",
        "\n",
        "MRU(pf, pi, t)\n",
        "\n",
        "print(' ')\n",
        "\n",
        "prompt = 'Digite a acelaração em metros por segundo ao quadrado: '\n",
        "a = float(input(prompt))\n",
        "\n",
        "print(' ')\n",
        "\n",
        "prompt = 'Digite tempo em segundos: '\n",
        "t = float(input(prompt))\n",
        "\n",
        "print(' ')\n",
        "\n",
        "def MRUA (x1, x2):\n",
        "    V = x1*x2\n",
        "    print(f'Velocidade = {V:.2f} m/s')\n",
        "\n",
        "MRUA (a, t)"
      ],
      "execution_count": null,
      "outputs": [
        {
          "output_type": "stream",
          "name": "stdout",
          "text": [
            "Digite a posição inicial em metros: 10\n",
            " \n",
            "Digite a posição final em metros: 25\n",
            " \n",
            "Digite tempo transcorrido em segundos: 3\n",
            " \n",
            "Velocidade média = 5.00 m/s\n",
            " \n",
            "Digite a acelaração em metros por segundo ao quadrado: 2\n",
            " \n",
            "Digite tempo em segundos: 3\n",
            " \n",
            "Velocidade = 6.00 m/s\n"
          ]
        }
      ]
    },
    {
      "cell_type": "markdown",
      "metadata": {
        "id": "C3d6Vezn1YSs"
      },
      "source": [
        "3. Crie uma funcão para calcular o ángulo zenital do sol (da semana passada) tomando como argumento as medidas da altura e o comprimento da sombra."
      ]
    },
    {
      "cell_type": "code",
      "metadata": {
        "colab": {
          "base_uri": "https://localhost:8080/"
        },
        "id": "rldl13bA1vXE",
        "outputId": "bb81aa7b-bb26-49e5-8475-74156b894569"
      },
      "source": [
        "import math as mt\n",
        "\n",
        "prompt = 'Digite a altura do objeto em metros: '\n",
        "h = float(input(prompt))\n",
        "\n",
        "print(' ')\n",
        "\n",
        "prompt = 'Digite o comprimento da sombra em metros: '\n",
        "s = float(input(prompt))\n",
        "\n",
        "print(' ')\n",
        "\n",
        "def zenit(x1, x2):\n",
        "    ar = mt.atan(x2/x1)\n",
        "    ag = (180*ar)/mt.pi\n",
        "    zg1 = (180 - ag)\n",
        "    zg2 = int(zg1)\n",
        "    zm1 = (zg1 - zg2)*60\n",
        "    zm2 = int(zm1)\n",
        "    zs1 = (zm1 - zm2)*60\n",
        "    zs2 = int(zs1)\n",
        "    print(f'Ângulo zenital = {zg2}° {zm2}'\"'\",f'{zs2}\"')\n",
        "\n",
        "zenit(h, s)"
      ],
      "execution_count": null,
      "outputs": [
        {
          "output_type": "stream",
          "name": "stdout",
          "text": [
            "Digite a altura do objeto em metros: 2\n",
            " \n",
            "Digite o comprimento da sombra em metros: 0.6\n",
            " \n",
            "Ângulo zenital = 163° 18' 2\"\n"
          ]
        }
      ]
    },
    {
      "cell_type": "markdown",
      "metadata": {
        "id": "Jch5OZ9P1YYv"
      },
      "source": [
        "4. Crie uma função que faça a conversão de uma medida inicialmente em milhas para m, e outra para o inverso; uma de horas para segundos, e o inverso. Utilize estas funções para resolver novamente o primeiro exercício da semana passada (da corrida). Se uma pessoa demora 30 minutos em 4 milhas, qual velocidade media em km/h ? e o tempo medio por kilometro?"
      ]
    },
    {
      "cell_type": "code",
      "metadata": {
        "colab": {
          "base_uri": "https://localhost:8080/"
        },
        "id": "gSQfG6tn1w3d",
        "outputId": "7651bbf8-58fe-4e9e-ea50-7734766cf5c6"
      },
      "source": [
        "def mi_to_km(xmi):\n",
        "    xkm = xmi*1.61\n",
        "    print(f'Distância =  {xkm} km')\n",
        "\n",
        "def km_to_mi(xkm):\n",
        "    xmi = xkm/1.61\n",
        "    print(f'Distância =  {xmi} mi')\n",
        "\n",
        "def h_to_min(xh):\n",
        "    xmin = xh*60\n",
        "    print(f'Tempo =  {xmin} min')\n",
        "\n",
        "def min_to_h(xmin):\n",
        "    xh = xmin/60\n",
        "    print(f'Tempo =  {xh} h')\n",
        "\n",
        "def min_mi(min,mi):\n",
        "    Tmed = min/mi\n",
        "    print(f'Tempo médio por milha =  {Tmed:.2f} min/mi')\n",
        "\n",
        "def mi_h(mi,h):\n",
        "    Vmed = mi/h\n",
        "    print(f'Velocidade média =  {Vmed:.2f} mi/h')\n",
        "\n",
        "def km_h(km,h):\n",
        "    Vmed = km/h\n",
        "    print(f'Velocidade média =  {Vmed:.2f} km/h')\n",
        "\n",
        "\n",
        "prompt = 'Digite a distância em quilometros: '\n",
        "dkm = float(input(prompt))\n",
        "\n",
        "print(' ')\n",
        "\n",
        "prompt = 'Digite o tempo decorrido em minutos: '\n",
        "tmin = float(input(prompt))\n",
        "\n",
        "print(' ')\n",
        "    \n",
        "km_to_mi(dkm)\n",
        "\n",
        "print(' ')\n",
        "\n",
        "prompt = 'Repita a distância em milhas: '\n",
        "dmi = float(input(prompt))\n",
        "\n",
        "print(' ')\n",
        "\n",
        "min_mi(tmin,dmi)\n",
        "\n",
        "print(' ')\n",
        "\n",
        "min_to_h(tmin)\n",
        "\n",
        "print(' ')\n",
        "\n",
        "prompt = 'Repita a tempo em horas: '\n",
        "th = float(input(prompt))\n",
        "\n",
        "print(' ')\n",
        "\n",
        "mi_h(dmi,th)\n",
        "\n",
        "print(' ')\n",
        "\n",
        "prompt = 'Digite a distância em milhas: '\n",
        "dmi2 = float(input(prompt))\n",
        "\n",
        "print(' ')\n",
        "\n",
        "prompt = 'Digite o tempo decorrido em minutos: '\n",
        "tmin2 = float(input(prompt))\n",
        "\n",
        "print(' ')\n",
        "\n",
        "mi_to_km(dmi2)\n",
        "\n",
        "print(' ')\n",
        "\n",
        "prompt = 'Repita a distância em quilometros: '\n",
        "dkm2 = float(input(prompt))\n",
        "\n",
        "print(' ')\n",
        "\n",
        "min_to_h(tmin2)\n",
        "\n",
        "print(' ')\n",
        "\n",
        "prompt = 'Repita a tempo em horas: '\n",
        "th2 = float(input(prompt))\n",
        "\n",
        "print(' ')\n",
        "\n",
        "km_h(dkm2, th2)"
      ],
      "execution_count": null,
      "outputs": [
        {
          "output_type": "stream",
          "name": "stdout",
          "text": [
            "Digite a distância em quilometros: 10\n",
            " \n",
            "Digite o tempo decorrido em minutos: 43.5\n",
            " \n",
            "Distância =  6.211180124223602 mi\n",
            " \n",
            "Repita a distância em milhas: 6.21\n",
            " \n",
            "Tempo médio por milha =  7.00 min/mi\n",
            " \n",
            "Tempo =  0.725 h\n",
            " \n",
            "Repita a tempo em horas: 0.725\n",
            " \n",
            "Velocidade média =  8.57 mi/h\n",
            " \n",
            "Digite a distância em milhas: 4\n",
            " \n",
            "Digite o tempo decorrido em minutos: 30\n",
            " \n",
            "Distância =  6.44 km\n",
            " \n",
            "Repita a distância em quilometros: 6.44\n",
            " \n",
            "Tempo =  0.5 h\n",
            " \n",
            "Repita a tempo em horas: 0.5\n",
            " \n",
            "Velocidade média =  12.88 km/h\n"
          ]
        }
      ]
    },
    {
      "cell_type": "markdown",
      "metadata": {
        "id": "kAzo_U0J1QC4"
      },
      "source": [
        "5. Crie funções para calcular os outros exemplos das aulas anteriores: volume de uma esfera, distancia entre pontos de máximos de difração. Decida quais serão os argumentos e o valor retornado."
      ]
    },
    {
      "cell_type": "code",
      "metadata": {
        "colab": {
          "base_uri": "https://localhost:8080/"
        },
        "id": "sq4NlkHA1xZL",
        "outputId": "e4ff4e2d-f3df-4834-ef5d-76239908a0eb"
      },
      "source": [
        "from numpy import pi\n",
        "\n",
        "prompt = 'Digite o raio da esfera: '\n",
        "r = float(input(prompt))\n",
        "\n",
        "print(' ')\n",
        "\n",
        "def v_esfera(r):\n",
        "    V = (4/3)*(pi)*(r**3)\n",
        "    print(f'Volume = {V:.2f}')\n",
        "\n",
        "v_esfera(r)\n",
        "\n",
        "print(' ')\n",
        "\n",
        "prompt = 'Digite o comprimento de onda \\u03BB em nm: '\n",
        "l = float(input(prompt))*(10**(-9))\n",
        "\n",
        "print(' ')\n",
        "\n",
        "prompt = 'Digite distância D do anteparo à fenda: '\n",
        "D = float(input(prompt))\n",
        "\n",
        "print(' ')\n",
        "\n",
        "prompt = 'Digite o espaçamento d entre as fendas em mm: '\n",
        "d = float(input(prompt))*(10**(-3))\n",
        "\n",
        "print(' ')\n",
        "\n",
        "def deltay(l, D, d):\n",
        "    dy = (l*D*(10**3))/d\n",
        "    print(f'\\u0394y = {dy:.2f} mm')\n",
        "\n",
        "deltay(l, D, d)"
      ],
      "execution_count": null,
      "outputs": [
        {
          "output_type": "stream",
          "name": "stdout",
          "text": [
            "Digite o raio da esfera: 5\n",
            " \n",
            "Volume = 523.60\n",
            " \n",
            "Digite o comprimento de onda λ em nm: 632.8\n",
            " \n",
            "Digite distância D do anteparo à fenda: 1.98\n",
            " \n",
            "Digite o espaçamento d entre as fendas em mm: 0.250\n",
            " \n",
            "Δy = 5.01 mm\n"
          ]
        }
      ]
    }
  ]
}