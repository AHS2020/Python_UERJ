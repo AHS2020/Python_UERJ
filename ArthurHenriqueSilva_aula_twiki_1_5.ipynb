{
  "nbformat": 4,
  "nbformat_minor": 0,
  "metadata": {
    "colab": {
      "name": "ArthurHenriqueSilva_aula_twiki_1_5.ipynb",
      "provenance": [],
      "authorship_tag": "ABX9TyNHBISJPCOG7G6qAR91fz9G",
      "include_colab_link": true
    },
    "kernelspec": {
      "name": "python3",
      "display_name": "Python 3"
    }
  },
  "cells": [
    {
      "cell_type": "markdown",
      "metadata": {
        "id": "view-in-github",
        "colab_type": "text"
      },
      "source": [
        "<a href=\"https://colab.research.google.com/github/AHS2020/Python_UERJ/blob/master/ArthurHenriqueSilva_aula_twiki_1_5.ipynb\" target=\"_parent\"><img src=\"https://colab.research.google.com/assets/colab-badge.svg\" alt=\"Open In Colab\"/></a>"
      ]
    },
    {
      "cell_type": "code",
      "metadata": {
        "id": "jRQR2c1DVC1q",
        "outputId": "911e90ba-a9d9-47e4-adf2-5f2005fad9aa",
        "colab": {
          "base_uri": "https://localhost:8080/",
          "height": 228
        }
      },
      "source": [
        "print()\n",
        "\n",
        "print('Aluno - Arthur Henrique Silva')\n",
        "print('Aula(Twiki) - 1')\n",
        "print('Exercício - 5')\n",
        "\n",
        "print()\n",
        "\n",
        "print('Pergunta:')\n",
        "\n",
        "print('''\t   Calcule o seu IMC = M\\u2215A\\u00B2 (com a massa em Kg e a altura em metros). Um valor saudável estara, em geral, entre 20-25. Um bebê de 6 meses \"gorducho\" tem 70 cm de \"comprimento\" e 11 kg de massa, qual o IMC dele?''')\n",
        "\n",
        "print()\n",
        "\n",
        "print('Resposta:')\n",
        "\n",
        "print(f'''\t  Sendo minha massa Ma = 92.2 kg e minha altura Aa = 1.83 m, meu IMCa = {92.2/(1.83**2):.01f}. Com Mb = 11 kg e Ab = 0.70m, sendo os dados do bebê, tem-se IMCb = {11/(0.7**2):.00f}.''')\n",
        "\n",
        "print()\n",
        "\n",
        "#Division slash = \\u2215\n",
        "#Superscript two = \\u00B2"
      ],
      "execution_count": 1,
      "outputs": [
        {
          "output_type": "stream",
          "text": [
            "\n",
            "Aluno - Arthur Henrique Silva\n",
            "Aula(Twiki) - 1\n",
            "Exercício - 5\n",
            "\n",
            "Pergunta:\n",
            "\t   Calcule o seu IMC = M∕A² (com a massa em Kg e a altura em metros). Um valor saudável estara, em geral, entre 20-25. Um bebê de 6 meses \"gorducho\" tem 70 cm de \"comprimento\" e 11 kg de massa, qual o IMC dele?\n",
            "\n",
            "Resposta:\n",
            "\t  Sendo minha massa Ma = 92.2 kg e minha altura Aa = 1.83 m, meu IMCa = 27.5. Com Mb = 11 kg e Ab = 0.70m, sendo os dados do bebê, tem-se IMCb = 22.\n",
            "\n"
          ],
          "name": "stdout"
        }
      ]
    }
  ]
}