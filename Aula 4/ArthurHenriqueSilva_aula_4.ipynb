{
  "nbformat": 4,
  "nbformat_minor": 0,
  "metadata": {
    "colab": {
      "name": "ArthurHenriqueSilva_aula_4.ipynb",
      "provenance": [],
      "authorship_tag": "ABX9TyPzSEuhOCNVbf/+TbM23pM0",
      "include_colab_link": true
    },
    "kernelspec": {
      "name": "python3",
      "display_name": "Python 3"
    }
  },
  "cells": [
    {
      "cell_type": "markdown",
      "metadata": {
        "id": "view-in-github",
        "colab_type": "text"
      },
      "source": [
        "<a href=\"https://colab.research.google.com/github/AHS2020/Python_UERJ/blob/master/Aula%204/ArthurHenriqueSilva_aula_4.ipynb\" target=\"_parent\"><img src=\"https://colab.research.google.com/assets/colab-badge.svg\" alt=\"Open In Colab\"/></a>"
      ]
    },
    {
      "cell_type": "code",
      "metadata": {
        "id": "iJgyNtFG4Kq9",
        "outputId": "de5fa4ce-7344-4a61-debd-219dc2cf9693",
        "colab": {
          "base_uri": "https://localhost:8080/",
          "height": 469
        }
      },
      "source": [
        "print()\n",
        "\n",
        "print('Aluno - Arthur Henrique Silva')\n",
        "print('Aula - 4')\n",
        "\n",
        "print()\n",
        "\n",
        "#Digite este exemplo em um script e teste-o.\n",
        "\n",
        "def do_twice (f): \n",
        "    f () \n",
        "    f ()\n",
        "\n",
        "def print_spam (): \n",
        "    print('spam') \n",
        "\n",
        "do_twice (print_spam)\n",
        "\n",
        "print()\n",
        "\n",
        "#Modifique do_twice para que sejam necessários dois argumentos, um objeto de função e um valor, e chame a função duas vezes, passando o valor como um argumento.\n",
        "\n",
        "def do_twice (f, x): \n",
        "    f(x) \n",
        "    f(x)\n",
        "\n",
        "def print_spam (x): \n",
        "    print(x) \n",
        "\n",
        "x = 2\n",
        "\n",
        "do_twice (print_spam, x)\n",
        "\n",
        "print()\n",
        "\n",
        "#Escreva uma versão mais geral de print_spam, chamada print_twice, que use uma string como parâmetro e imprima duas vezes.\n",
        "\n",
        "def print_twice (x): \n",
        "    print(x)\n",
        "    print(x)\n",
        "\n",
        "y = 'String'\n",
        "\n",
        "print_twice (y)\n",
        "\n",
        "print()\n",
        "\n",
        "#Use a versão modificada de do_twice para chamar print_twice duas vezes, passando 'spam' como um argumento.\n",
        "\n",
        "z= 'spam'\n",
        "\n",
        "do_twice(print_twice, z)\n",
        "\n",
        "print()\n",
        "\n",
        "#Defina uma nova função chamada do_four que recebe um objeto de função e um valor e chama a função quatro vezes, passando o valor como um parâmetro.\n",
        "\n",
        "def do_four(f, x):\n",
        "    do_twice(f, x)\t\n",
        "    do_twice(f, x)\n",
        "\n",
        "do_four(print_twice, 'spam')\n"
      ],
      "execution_count": 2,
      "outputs": [
        {
          "output_type": "stream",
          "text": [
            "\n",
            "Aluno - Arthur Henrique Silva\n",
            "Aula - 4\n",
            "\n",
            "spam\n",
            "spam\n",
            "\n",
            "2\n",
            "2\n",
            "\n",
            "String\n",
            "String\n",
            "\n",
            "spam\n",
            "spam\n",
            "spam\n",
            "spam\n",
            "\n",
            "spam\n",
            "spam\n",
            "spam\n",
            "spam\n",
            "spam\n",
            "spam\n",
            "spam\n",
            "spam\n"
          ],
          "name": "stdout"
        }
      ]
    }
  ]
}