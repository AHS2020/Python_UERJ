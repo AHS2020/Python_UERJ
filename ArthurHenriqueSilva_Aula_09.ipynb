{
  "nbformat": 4,
  "nbformat_minor": 0,
  "metadata": {
    "colab": {
      "name": "ArthurHenriqueSilva_Aula_09.ipynb",
      "provenance": [],
      "collapsed_sections": [],
      "authorship_tag": "ABX9TyMskrMI0U1tKlzXyeIjhZu/",
      "include_colab_link": true
    },
    "kernelspec": {
      "name": "python3",
      "display_name": "Python 3"
    },
    "language_info": {
      "name": "python"
    }
  },
  "cells": [
    {
      "cell_type": "markdown",
      "metadata": {
        "id": "view-in-github",
        "colab_type": "text"
      },
      "source": [
        "<a href=\"https://colab.research.google.com/github/AHS2020/Python_UERJ/blob/master/ArthurHenriqueSilva_Aula_09.ipynb\" target=\"_parent\"><img src=\"https://colab.research.google.com/assets/colab-badge.svg\" alt=\"Open In Colab\"/></a>"
      ]
    },
    {
      "cell_type": "code",
      "metadata": {
        "colab": {
          "base_uri": "https://localhost:8080/"
        },
        "id": "8ym9NeknvXib",
        "outputId": "742bb30c-f06a-4773-fd0a-70dda5ccf7a9"
      },
      "source": [
        "# Criando dados_alunos_cabecalho.csv\n",
        " \n",
        "%%writefile dados_alunos_cabecalho.csv\n",
        "I(a),A(m),M(Kg)\n",
        "18,1.68,80\n",
        "18,1.94,60\n",
        "18,1.70,80\n",
        "18,1.76,66\n",
        "19,1.73,87.5\n",
        "18,1.66,58\n",
        "21,1.80,92\n",
        "18,1.60,57\n",
        "18,1.67,64\n",
        "18,1.73,57\n",
        "17,1.73,75\n",
        "18,1.61,59\n",
        "18,1.69,90\n",
        "17,1.71,67\n",
        "19,1.78,60\n",
        "22,1.68,72\n",
        "18,1.70,73\n",
        "19,1.64,86\n",
        "18,1.64,75\n",
        "20,1.80,95\n",
        "17,1.75,60\n",
        "18,1.78,75\n",
        "18,1.75,65\n",
        "17,1.69,60\n",
        "19,1.78,73\n",
        "18,1.70,63\n",
        "34,1.75,78\n",
        "18,1.64,64\n",
        "19,1.75,50\n",
        "18,1.67,61\n",
        "18,1.70,70\n",
        "20,1.80,60\n",
        "18,1.63,57\n",
        "23,1.89,110\n",
        "18,1.71,71\n",
        "18,1.65,65\n",
        "17,1.72,67\n",
        "19,1.65,58\n",
        "18,1.75,90\n",
        "18,1.70,64\n",
        "19,1.81,70\n",
        "19,1.65,43\n",
        "28,1.52,50\n",
        "19,1.79,78\n",
        "26,1.79,82\n",
        "19,1.75,61\n",
        "19,1.80,70\n",
        "20,1.75,70\n",
        "20,1.73,70\n",
        "19,1.70,50\n",
        "22,1.78,72\n",
        "19,1.77,55\n",
        "18,1.53,58\n",
        "28,1.54,50\n",
        "20,1.83,70\n",
        "44,1.85,90\n",
        "18,1.60,51"
      ],
      "execution_count": null,
      "outputs": [
        {
          "output_type": "stream",
          "name": "stdout",
          "text": [
            "Overwriting dados_alunos_cabecalho.csv\n"
          ]
        }
      ]
    },
    {
      "cell_type": "markdown",
      "metadata": {
        "id": "E9ITlrNBiutZ"
      },
      "source": [
        "## Exercícios\n",
        "\n",
        "1) Considere a função abaixo. Esse tipo de função é considerada uma **função modificadora** pois modifica o objeto que é passado como argumento. "
      ]
    },
    {
      "cell_type": "code",
      "metadata": {
        "id": "iKwmsYgeiutZ",
        "colab": {
          "base_uri": "https://localhost:8080/"
        },
        "outputId": "a2a04e50-bb96-4b1e-d863-33a85eca434b"
      },
      "source": [
        "def dobrar_elementos(uma_lista):\n",
        "    \"\"\" Reescreve os elementos de uma_lista com o dobro de seus valores originais.\n",
        "    \"\"\"\n",
        "    for (i, valor) in enumerate(uma_lista):\n",
        "        novo_elem = 2 * valor\n",
        "        uma_lista[i] = novo_elem\n",
        "\n",
        "    return uma_lista\n",
        "\n",
        "minha_lista = [2, 4, 6]\n",
        "print(minha_lista)\n",
        "dobrar_elementos(minha_lista)\n",
        "print(minha_lista)"
      ],
      "execution_count": null,
      "outputs": [
        {
          "output_type": "stream",
          "name": "stdout",
          "text": [
            "[2, 4, 6]\n",
            "[4, 8, 12]\n"
          ]
        }
      ]
    },
    {
      "cell_type": "markdown",
      "metadata": {
        "id": "i23JYSmRiutb"
      },
      "source": [
        "a) Modifique a função para retornar uma **nova lista**, sem modificar a lista usada como parâmetro. Esse tipo de função é chamado de **função pura**.\n",
        "\n",
        "\n",
        "b) Modifique a documentação de ajuda da nova função, de tal forma que quando se chame a função ***help*** da nova função, se obtenha a descrição adequada."
      ]
    },
    {
      "cell_type": "code",
      "metadata": {
        "colab": {
          "base_uri": "https://localhost:8080/"
        },
        "id": "t36PV2Gbumlk",
        "outputId": "667330f2-fdc1-402e-8ab2-20e3a7f22072"
      },
      "source": [
        "def dobrar_elementos(uma_lista):\n",
        "    \"\"\" Repassa os valores de uma_lista com o dobro de seus valores originais\n",
        "    para nova_lista.\n",
        "    \"\"\"\n",
        "    for (i, valor) in enumerate(uma_lista):\n",
        "        novo_elem = 2 * valor\n",
        "        nova_lista.append(novo_elem)\n",
        "\n",
        "nova_lista = []\n",
        "minha_lista = [2, 4, 6]\n",
        "print(minha_lista)\n",
        "dobrar_elementos(minha_lista)\n",
        "print(nova_lista)"
      ],
      "execution_count": null,
      "outputs": [
        {
          "output_type": "stream",
          "name": "stdout",
          "text": [
            "[2, 4, 6]\n",
            "[4, 8, 12]\n"
          ]
        }
      ]
    },
    {
      "cell_type": "markdown",
      "metadata": {
        "id": "LkKV2_H23Ts1"
      },
      "source": [
        "## Exercícios:\n",
        "\n",
        "1) Utilizando um arquivo de dados com várias colunas (por exemplo, o arquivo ```dados_alunos.txt```), faça um histograma com os dados de cada uma das colunas. **Dica**: utilize o ***matplotlib*** para fazer os histogramas."
      ]
    },
    {
      "cell_type": "code",
      "metadata": {
        "colab": {
          "base_uri": "https://localhost:8080/",
          "height": 1000
        },
        "id": "SNWsGJ14vTJO",
        "outputId": "8d079d5c-731c-481b-d8f0-c10195cc93fb"
      },
      "source": [
        "import matplotlib.pyplot as plt\n",
        "import pandas as pd\n",
        "\n",
        "df = pd.read_csv('dados_alunos_cabecalho.csv')\n",
        "\n",
        "idade = df['I(a)']\n",
        "\n",
        "plt.figure(figsize=(8, 6))\n",
        "plt.hist(idade)\n",
        "plt.title('Distribuição de Idades')\n",
        "plt.xlabel('Idade')\n",
        "plt.ylabel('Quantidade de alunos')\n",
        "plt.savefig('idade_histograma.png')\n",
        "\n",
        "altura = df['A(m)']\n",
        "\n",
        "plt.figure(figsize=(8, 6))\n",
        "plt.hist(altura)\n",
        "plt.title('Distribuição de Altura')\n",
        "plt.xlabel('Altura')\n",
        "plt.ylabel('Quantidade de alunos')\n",
        "plt.savefig('alturas_histograma.png')\n",
        "\n",
        "massa = df['M(Kg)']\n",
        "\n",
        "plt.figure(figsize=(8, 6))\n",
        "plt.hist(massa)\n",
        "plt.title('Distribuição de Massas')\n",
        "plt.xlabel('Massas')\n",
        "plt.ylabel('Quantidade de alunos')\n",
        "plt.savefig('massas_histograma.png')"
      ],
      "execution_count": null,
      "outputs": [
        {
          "output_type": "display_data",
          "data": {
            "image/png": "[encoded data removed]",
            "text/plain": [
              "<Figure size 576x432 with 1 Axes>"
            ]
          },
          "metadata": {
            "needs_background": "light"
          }
        },
        {
          "output_type": "display_data",
          "data": {
            "image/png": "[encoded data removed]",
            "text/plain": [
              "<Figure size 576x432 with 1 Axes>"
            ]
          },
          "metadata": {
            "needs_background": "light"
          }
        },
        {
          "output_type": "display_data",
          "data": {
            "image/png": "[encoded data removed]",
            "text/plain": [
              "<Figure size 576x432 with 1 Axes>"
            ]
          },
          "metadata": {
            "needs_background": "light"
          }
        }
      ]
    },
    {
      "cell_type": "markdown",
      "metadata": {
        "id": "cDBldQx7utfO"
      },
      "source": [
        "2) Estude os métodos do módulo ```os``` e faça um script que liste todos os arquivos de um dado diretório assim como de seus subdiretórios. **Dica**: use o método ```walk```."
      ]
    },
    {
      "cell_type": "code",
      "metadata": {
        "colab": {
          "base_uri": "https://localhost:8080/"
        },
        "id": "9X5cMCf9vTkc",
        "outputId": "f5ca3d64-1617-4e78-e7ce-711cbef9263d"
      },
      "source": [
        "import os\n",
        "\n",
        "cwd = os.getcwd() #current working directory (diretório de trabalho)\n",
        "\n",
        "for cwd, dirs, files in os.walk('.',topdown=True, onerror=None, followlinks=False):\n",
        "   for name in dirs:\n",
        "      print(os.path.join(cwd, name))\n",
        "   for name in files:\n",
        "      print(os.path.join(cwd, name))"
      ],
      "execution_count": null,
      "outputs": [
        {
          "output_type": "stream",
          "name": "stdout",
          "text": [
            "./.config\n",
            "./sample_data\n",
            "./alturas_histograma.png\n",
            "./massas_histograma.png\n",
            "./dados_alunos_cabecalho.csv\n",
            "./idade_histograma.png\n",
            "./.config/logs\n",
            "./.config/configurations\n",
            "./.config/config_sentinel\n",
            "./.config/gce\n",
            "./.config/.last_opt_in_prompt.yaml\n",
            "./.config/.last_update_check.json\n",
            "./.config/active_config\n",
            "./.config/.last_survey_prompt.yaml\n",
            "./.config/logs/2021.09.16\n",
            "./.config/logs/2021.09.16/13.40.04.258538.log\n",
            "./.config/logs/2021.09.16/13.39.08.594436.log\n",
            "./.config/logs/2021.09.16/13.40.04.910768.log\n",
            "./.config/logs/2021.09.16/13.39.47.632524.log\n",
            "./.config/logs/2021.09.16/13.39.26.986455.log\n",
            "./.config/logs/2021.09.16/13.39.42.091206.log\n",
            "./.config/configurations/config_default\n",
            "./sample_data/anscombe.json\n",
            "./sample_data/README.md\n",
            "./sample_data/mnist_test.csv\n",
            "./sample_data/california_housing_train.csv\n",
            "./sample_data/california_housing_test.csv\n",
            "./sample_data/mnist_train_small.csv\n"
          ]
        }
      ]
    },
    {
      "cell_type": "markdown",
      "metadata": {
        "id": "j80sGTYxut5l"
      },
      "source": [
        "3) **Reescreva o script dessa aula, ```lcount.py``` na forma de um módulo. Qual o valor da variável ```__name__``` quando o módulo é importado?**"
      ]
    },
    {
      "cell_type": "code",
      "metadata": {
        "colab": {
          "base_uri": "https://localhost:8080/"
        },
        "id": "6TbS8BaBvUB5",
        "outputId": "5cede65f-34ad-42d3-f5a7-6ccea57fa08d"
      },
      "source": [
        "%%writefile lcount.py\n",
        "\n",
        "def linecount(filename):\n",
        "    count = 0\n",
        "    for line in open(filename):\n",
        "        count += 1\n",
        "    return count\n",
        "\n",
        "linecount('lcount.py')"
      ],
      "execution_count": null,
      "outputs": [
        {
          "output_type": "stream",
          "name": "stdout",
          "text": [
            "Writing lcount.py\n"
          ]
        }
      ]
    },
    {
      "cell_type": "code",
      "metadata": {
        "colab": {
          "base_uri": "https://localhost:8080/"
        },
        "id": "Gn_EwQ4UxGTi",
        "outputId": "d52606bd-30f1-4654-9688-628dfe2fbf40"
      },
      "source": [
        "import lcount\n",
        "\n",
        "print(__name__)"
      ],
      "execution_count": null,
      "outputs": [
        {
          "output_type": "stream",
          "name": "stdout",
          "text": [
            "__main__\n"
          ]
        }
      ]
    },
    {
      "cell_type": "markdown",
      "metadata": {
        "id": "7Ds1BsN2uuOc"
      },
      "source": [
        "4) Escreva uma função chamada ler_arquivos que tome como argumento um nome de arquivo, leia um arquivo com um número qualquer de colunas e retorne um **dicionário** que tenha como *keys* os números das colunas e como valor uma lista dos valores associados a cada coluna do arquivo. Use o arquivo dados_alunos.txt. Caso o arquivo tiver o cabeçalho das colunas, p.ex. dados_alunos_cabecalho.txt, a key deve ser a palavra do cabeçalho.\n",
        "\n",
        "   * Caso não queria usar dicionários, você pode pensar em uma estrutura de dados alternativa para armazenar os dados do arquivo, como por exemplo uma ou mais listas.\n",
        "   * Também pode usar funções já existentes nos módulos de Python `numpy` ou `pandas` para ler arquivos de texto e armazenar nas estruturas desses módulos (`DataFrames` ou `arrays`).\n",
        "   * Adapte a função acima para, se ocorrer um erro ao abrir, ler ou fechar arquivos, o programa capturar a exceção, imprimir uma mensagem de erro e sair."
      ]
    },
    {
      "cell_type": "code",
      "metadata": {
        "id": "m17fpCsPvUlU",
        "colab": {
          "base_uri": "https://localhost:8080/"
        },
        "outputId": "5fedca52-5243-47f9-d77c-43b263af5464"
      },
      "source": [
        "import pandas as pd                                                   # Importa o módulo pandas como pd\n",
        "\n",
        "def ler_arquivo():                                                    # Definindo a função ler arquivos\n",
        "  \"Essa função lê o arquivo desejado, a partir do nome fornecido.\"    # Documentação da função\n",
        "  arq = input('Digite o nome do arquivo: ')                             # Pede ao usuário para digitar o nome do aquivo que será lido\n",
        "  try:                                                                # Tenta ler o aquivo\n",
        "    df = pd.read_csv(arq)                                             # Le o arquivo e cria um pandas que representa o arquivo\n",
        "    return df                                                         # Retorna df como resultado\n",
        "  except FileNotFoundError:                                           # Se o arquivo não for encontrado\n",
        "    print('Não foi possivel encontrar o arquivo solicitado')          # Imprime uma mensagem de erro\n",
        "\n",
        "df = ler_arquivo()\n",
        "print(df)"
      ],
      "execution_count": null,
      "outputs": [
        {
          "output_type": "stream",
          "name": "stdout",
          "text": [
            "Digite o nome do arquivo: dados_alunos_cabecalho.csv\n",
            "    I(a)  A(m)  M(Kg)\n",
            "0     18  1.68   80.0\n",
            "1     18  1.94   60.0\n",
            "2     18  1.70   80.0\n",
            "3     18  1.76   66.0\n",
            "4     19  1.73   87.5\n",
            "5     18  1.66   58.0\n",
            "6     21  1.80   92.0\n",
            "7     18  1.60   57.0\n",
            "8     18  1.67   64.0\n",
            "9     18  1.73   57.0\n",
            "10    17  1.73   75.0\n",
            "11    18  1.61   59.0\n",
            "12    18  1.69   90.0\n",
            "13    17  1.71   67.0\n",
            "14    19  1.78   60.0\n",
            "15    22  1.68   72.0\n",
            "16    18  1.70   73.0\n",
            "17    19  1.64   86.0\n",
            "18    18  1.64   75.0\n",
            "19    20  1.80   95.0\n",
            "20    17  1.75   60.0\n",
            "21    18  1.78   75.0\n",
            "22    18  1.75   65.0\n",
            "23    17  1.69   60.0\n",
            "24    19  1.78   73.0\n",
            "25    18  1.70   63.0\n",
            "26    34  1.75   78.0\n",
            "27    18  1.64   64.0\n",
            "28    19  1.75   50.0\n",
            "29    18  1.67   61.0\n",
            "30    18  1.70   70.0\n",
            "31    20  1.80   60.0\n",
            "32    18  1.63   57.0\n",
            "33    23  1.89  110.0\n",
            "34    18  1.71   71.0\n",
            "35    18  1.65   65.0\n",
            "36    17  1.72   67.0\n",
            "37    19  1.65   58.0\n",
            "38    18  1.75   90.0\n",
            "39    18  1.70   64.0\n",
            "40    19  1.81   70.0\n",
            "41    19  1.65   43.0\n",
            "42    28  1.52   50.0\n",
            "43    19  1.79   78.0\n",
            "44    26  1.79   82.0\n",
            "45    19  1.75   61.0\n",
            "46    19  1.80   70.0\n",
            "47    20  1.75   70.0\n",
            "48    20  1.73   70.0\n",
            "49    19  1.70   50.0\n",
            "50    22  1.78   72.0\n",
            "51    19  1.77   55.0\n",
            "52    18  1.53   58.0\n",
            "53    28  1.54   50.0\n",
            "54    20  1.83   70.0\n",
            "55    44  1.85   90.0\n",
            "56    18  1.60   51.0\n"
          ]
        }
      ]
    },
    {
      "cell_type": "markdown",
      "metadata": {
        "id": "fGgr7QT2uwaV"
      },
      "source": [
        "5) **Adapte o script acima para ser um módulo.**"
      ]
    },
    {
      "cell_type": "code",
      "metadata": {
        "id": "VxnOrUgKvVXT",
        "colab": {
          "base_uri": "https://localhost:8080/"
        },
        "outputId": "84730ada-4789-4ab7-9e0c-642ae6f4762b"
      },
      "source": [
        "# Criando módulo ler_arquivo\n",
        "\n",
        "%%writefile ler_arquivos.py\n",
        "import pandas as pd                                                     # Importa o módulo pandas como pd\n",
        "\n",
        "class leitor_de_arquivos:                                               # Cria uma classe onde está incluída a função ler_arquivo\n",
        "  def ler_arquivo():                                                    # Definindo a função ler arquivos\n",
        "    \"Essa função lê o arquivo desejado, a partir do nome fornecido.\"    # Documentação da função\n",
        "    try:                                                                # Tenta ler o aquivo\n",
        "        arq = input('Digite o nome do arquivo: ')                       # Pede ao usuário para digitar o nome do aquivo que será lido\n",
        "        df = pd.read_csv(arq)                                           # Le o arquivo e cria um pandas que representa o arquivo\n",
        "        return df                                                       # Retorna df\n",
        "    except FileNotFoundError:                                           # Se o arquivo não for encontrado\n",
        "        print('Não foi possivel achar o seu seu arquivo')               # Imprime uma mensagem de erro"
      ],
      "execution_count": null,
      "outputs": [
        {
          "output_type": "stream",
          "name": "stdout",
          "text": [
            "Writing ler_arquivos.py\n"
          ]
        }
      ]
    },
    {
      "cell_type": "code",
      "metadata": {
        "id": "MqMc-hhqLhiS"
      },
      "source": [
        "import ler_arquivo"
      ],
      "execution_count": null,
      "outputs": []
    },
    {
      "cell_type": "markdown",
      "metadata": {
        "id": "WakFMN1Buwsg"
      },
      "source": [
        "**6) Escreva um script que importe o módulo criado acima e faça um histograma para cada coluna do arquivo, com seus respectivos valores. Use o dicionário ou a estrutura de dados criada em 1).**"
      ]
    },
    {
      "cell_type": "code",
      "metadata": {
        "id": "bKncv00fvVug",
        "colab": {
          "base_uri": "https://localhost:8080/",
          "height": 1000
        },
        "outputId": "a3e367b9-2914-455d-bae9-513a6526556f"
      },
      "source": [
        "from ler_arquivos import leitor_de_arquivos as la\n",
        "import matplotlib.pyplot as plt\n",
        "\n",
        "df = la.ler_arquivo()\n",
        "\n",
        "def hist(df):\n",
        "    idade = df['I(a)']\n",
        "\n",
        "    plt.figure(figsize=(8, 6))\n",
        "    plt.hist(idade)\n",
        "    plt.title('Distribuição de Idades')\n",
        "    plt.xlabel('Idade')\n",
        "    plt.ylabel('Quantidade de alunos')\n",
        "    plt.savefig('idade_histograma.png')\n",
        "\n",
        "    altura = df['A(m)']\n",
        "\n",
        "    plt.figure(figsize=(8, 6))\n",
        "    plt.hist(altura)\n",
        "    plt.title('Distribuição de Altura')\n",
        "    plt.xlabel('Altura')\n",
        "    plt.ylabel('Quantidade de alunos')\n",
        "    plt.savefig('alturas_histograma.png')\n",
        "\n",
        "    massa = df['M(Kg)']\n",
        "\n",
        "    plt.figure(figsize=(8, 6))\n",
        "    plt.hist(massa)\n",
        "    plt.title('Distribuição de Massas')\n",
        "    plt.xlabel('Massas')\n",
        "    plt.ylabel('Quantidade de alunos')\n",
        "    plt.savefig('massas_histograma.png')\n",
        "\n",
        "hist(df)"
      ],
      "execution_count": null,
      "outputs": [
        {
          "name": "stdout",
          "output_type": "stream",
          "text": [
            "Digite o nome do arquivo: dados_alunos_cabecalho.csv\n"
          ]
        },
        {
          "output_type": "display_data",
          "data": {
            "image/png": "[encoded data removed]",
            "text/plain": [
              "<Figure size 576x432 with 1 Axes>"
            ]
          },
          "metadata": {
            "needs_background": "light"
          }
        },
        {
          "output_type": "display_data",
          "data": {
            "image/png": "[encoded data removed]",
            "text/plain": [
              "<Figure size 576x432 with 1 Axes>"
            ]
          },
          "metadata": {
            "needs_background": "light"
          }
        },
        {
          "output_type": "display_data",
          "data": {
            "image/png": "[encoded data removed]",
            "text/plain": [
              "<Figure size 576x432 with 1 Axes>"
            ]
          },
          "metadata": {
            "needs_background": "light"
          }
        }
      ]
    },
    {
      "cell_type": "markdown",
      "metadata": {
        "id": "l3KQJlIJuw6l"
      },
      "source": [
        "7) Adicione uma função ao script criado em **6)**, que calcule o desvio padrão amostral, desvio padrão populacional e média de cada distribuição representada nos histogramas acima. Para tal, use o módulo `statistics` do Python ou outro módulo de Python (`numpy`, `scipy`)."
      ]
    },
    {
      "cell_type": "code",
      "metadata": {
        "id": "OGhyGkSVvWKR",
        "colab": {
          "base_uri": "https://localhost:8080/",
          "height": 1000
        },
        "outputId": "1b3ceeb8-070c-400c-aded-1585fe7eb530"
      },
      "source": [
        "from ler_arquivos import leitor_de_arquivos as la\n",
        "import matplotlib.pyplot as plt\n",
        "import numpy as np\n",
        "\n",
        "df = la.ler_arquivo()\n",
        "\n",
        "def hist(df):\n",
        "    idade = df['I(a)']\n",
        "\n",
        "    M_I = np.mean(idade)\n",
        "    print(f'A média das idades é {M_I:.2f}')\n",
        "    D_P_A_I = np.std(idade,ddof=1)\n",
        "    print(f'O desvio padrão amostral das idades é {D_P_A_I:.2f}')\n",
        "    D_P_P_I = np.std(idade)\n",
        "    print(f'O desvio padrão populacional da idade é {D_P_P_I:.2f}')\n",
        "\n",
        "    plt.figure(figsize=(8, 6))\n",
        "    plt.hist(idade)\n",
        "    plt.title('Distribuição de Idades')\n",
        "    plt.xlabel('Idade')\n",
        "    plt.ylabel('Quantidade de alunos')\n",
        "    plt.savefig('idade_histograma.png')\n",
        "\n",
        "    altura = df['A(m)']\n",
        "\n",
        "    M_I = np.mean(altura)\n",
        "    print(f'A média das alturas é {M_I:.2f}')\n",
        "    D_P_A_I = np.std(altura,ddof=1)\n",
        "    print(f'O desvio padrão amostral das alturas é {D_P_A_I:.2f}')\n",
        "    D_P_P_I = np.std(altura)\n",
        "    print(f'O desvio padrão populacional da alturas é {D_P_P_I:.2f}')\n",
        "\n",
        "    plt.figure(figsize=(8, 6))\n",
        "    plt.hist(altura)\n",
        "    plt.title('Distribuição de Altura')\n",
        "    plt.xlabel('Altura')\n",
        "    plt.ylabel('Quantidade de alunos')\n",
        "    plt.savefig('alturas_histograma.png')\n",
        "\n",
        "    massa = df['M(Kg)']\n",
        "\n",
        "    M_I = np.mean(massa)\n",
        "    print(f'A média das massas é {M_I:.2f}')\n",
        "    D_P_A_I = np.std(massa,ddof=1)\n",
        "    print(f'O desvio padrão amostral das massas é {D_P_A_I:.2f}')\n",
        "    D_P_P_I = np.std(massa)\n",
        "    print(f'O desvio padrão populacional da massas é {D_P_P_I:.2f}')\n",
        "\n",
        "    plt.figure(figsize=(8, 6))\n",
        "    plt.hist(massa)\n",
        "    plt.title('Distribuição de Massas')\n",
        "    plt.xlabel('Massas')\n",
        "    plt.ylabel('Quantidade de alunos')\n",
        "    plt.savefig('massas_histograma.png')\n",
        "\n",
        "hist(df)"
      ],
      "execution_count": null,
      "outputs": [
        {
          "output_type": "stream",
          "name": "stdout",
          "text": [
            "Digite o nome do arquivo: dados_alunos_cabecalho.csv\n",
            "A média das idades é 19.82\n",
            "O desvio padrão amostral das idades é 4.45\n",
            "O desvio padrão populacional da idade é 4.41\n",
            "A média das alturas é 1.72\n",
            "O desvio padrão amostral das alturas é 0.08\n",
            "O desvio padrão populacional da alturas é 0.08\n",
            "A média das massas é 68.50\n",
            "O desvio padrão amostral das massas é 13.23\n",
            "O desvio padrão populacional da massas é 13.11\n"
          ]
        },
        {
          "output_type": "display_data",
          "data": {
            "image/png": "[encoded data removed]",
            "text/plain": [
              "<Figure size 576x432 with 1 Axes>"
            ]
          },
          "metadata": {
            "needs_background": "light"
          }
        },
        {
          "output_type": "display_data",
          "data": {
            "image/png": "[encoded data removed]",
            "text/plain": [
              "<Figure size 576x432 with 1 Axes>"
            ]
          },
          "metadata": {
            "needs_background": "light"
          }
        },
        {
          "output_type": "display_data",
          "data": {
            "image/png": "[encoded data removed]",
            "text/plain": [
              "<Figure size 576x432 with 1 Axes>"
            ]
          },
          "metadata": {
            "needs_background": "light"
          }
        }
      ]
    }
  ]
}