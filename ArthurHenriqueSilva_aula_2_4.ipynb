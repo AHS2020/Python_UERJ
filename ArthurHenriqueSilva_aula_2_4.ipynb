{
  "nbformat": 4,
  "nbformat_minor": 0,
  "metadata": {
    "colab": {
      "name": "ArthurHenriqueSilva_aula_2_4.ipynb",
      "provenance": [],
      "authorship_tag": "ABX9TyMY5+y4l7zBt9JUhkfKERsg",
      "include_colab_link": true
    },
    "kernelspec": {
      "name": "python3",
      "display_name": "Python 3"
    }
  },
  "cells": [
    {
      "cell_type": "markdown",
      "metadata": {
        "id": "view-in-github",
        "colab_type": "text"
      },
      "source": [
        "<a href=\"https://colab.research.google.com/github/AHS2020/Python_UERJ/blob/master/ArthurHenriqueSilva_aula_2_4.ipynb\" target=\"_parent\"><img src=\"https://colab.research.google.com/assets/colab-badge.svg\" alt=\"Open In Colab\"/></a>"
      ]
    },
    {
      "cell_type": "code",
      "metadata": {
        "id": "unYcsSTrSxJM",
        "outputId": "2c237141-3288-4c81-d177-46c29ccc73e5",
        "colab": {
          "base_uri": "https://localhost:8080/",
          "height": 228
        }
      },
      "source": [
        "print()\n",
        "\n",
        "print('Aluno - Arthur Henrique Silva')\n",
        "print('Aula - 2')\n",
        "print('Exercício - 4')\n",
        "\n",
        "print()\n",
        "\n",
        "print('Pergunta:')\n",
        "\n",
        "print('''\t  Um laser vermelho (com comprimento de onda \\U0001D706 = 632.8 nm) incide em uma fenda dupla produzindo um padrão de interferência com franjas claras e escuras, em um anteparo situado a uma distância D = 1.98 m da fenda. Calcule a distância \\u0394y entre dois máximos consecutivos de interferência. Considere o espaçamento entre as fendas, d, como sendo igual a 0.250 mm. Dica: a distância entre dois máximos de interferência consecutivos pode ser aproximada por \\u0394y = \\U0001D706D\\u2215d.''')\n",
        "\n",
        "print()\n",
        "\n",
        "print('Resposta:')\n",
        "\n",
        "print(f'''\t  Como a distância entre dois máximos de interferência consecutivos pode ser aproximada por \\u0394y = \\U0001D706D\\u2215d, pode-se subistituir os valores na equação obtendo \\u0394y = 632.8\\u00D710\\u207B\\u2079\\u00D71.98\\u22150.250\\u00D710\\u207B\\u2076 = {(632.8*(10**(-9))*1.98)/(0.250*(10**(-6))):.02f} mm.''')\n",
        "\n",
        "print()\n",
        "\n",
        "#lambda = \\U0001D706\n",
        "#Lambda = \\u039B\n",
        "#delta = \\u1E9F\n",
        "#Delta = \\u0394\n",
        "#Division slash = \\u2215\n",
        "#Multiplication sign = \\u00D7\n",
        "#Superscript nine = \\u2079\n",
        "#Superscript six = \\u2076\n",
        "#Superscript three = \\u00B3\n",
        "#Superscript minus = \\u207B"
      ],
      "execution_count": 1,
      "outputs": [
        {
          "output_type": "stream",
          "text": [
            "\n",
            "Aluno - Arthur Henrique Silva\n",
            "Aula - 2\n",
            "Exercício - 4\n",
            "\n",
            "Pergunta:\n",
            "\t  Um laser vermelho (com comprimento de onda 𝜆 = 632.8 nm) incide em uma fenda dupla produzindo um padrão de interferência com franjas claras e escuras, em um anteparo situado a uma distância D = 1.98 m da fenda. Calcule a distância Δy entre dois máximos consecutivos de interferência. Considere o espaçamento entre as fendas, d, como sendo igual a 0.250 mm. Dica: a distância entre dois máximos de interferência consecutivos pode ser aproximada por Δy = 𝜆D∕d.\n",
            "\n",
            "Resposta:\n",
            "\t  Como a distância entre dois máximos de interferência consecutivos pode ser aproximada por Δy = 𝜆D∕d, pode-se subistituir os valores na equação obtendo Δy = 632.8×10⁻⁹×1.98∕0.250×10⁻⁶ = 5.01 mm.\n",
            "\n"
          ],
          "name": "stdout"
        }
      ]
    }
  ]
}