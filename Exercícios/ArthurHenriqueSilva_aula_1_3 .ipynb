print(" ")

print("Aluno - Arthur Henrique Silva")
print("Aula - 1")
print("Exercício - 3")

print(" ")

print("Pergunta:")

print("	  Se você fizer uma corrida de 10 quilômetros em 43 minutos")
print("	  e 30 segundos, qual será seu tempo médio por milha?")
print("	  Qual é a sua velocidade média em milhas por hora?") 
print("	  (Dica: há 1,61 quilômetros em uma milha).")

print(" ")

print("Resposta:")

print(f"	  Primeiramente transformamos quilometros em milhas onde")
print(f"	  1 milha = 1.61 km, então, 1 km = {1/1.61:.03f} milhas. Logo,")
s = 10/1.61
print(f"	  10 km = {s:.02f} milhas. Temos então s = {s:.02f} milhas como")
t = 43.5
print(f"	  o espaço percorrido. Também temos t = 43.5 min como tempo")
print(f"	  decorrido.")
print(f"	  A partir disso achamos tempo médio por milha exatamente")
print(f"	  como t dividido por s - t/s = {t/s:.02f} min por milha.")
print(f"	  Já para acharmos a velocidade média, devemos fazer a")
print(f"	  operação contrária s/t, mas antes devemos passar o tempo")
t2 = t/60
print(f"	  para horas dividindo por 60, onde t2 = t/60 = {t2:.03f} horas.")
print(f"	  Fazendo s divido por t2 - s/t2 = {s/t2:.02f} milhas por hora.") 

print(" ")
