{
  "nbformat": 4,
  "nbformat_minor": 0,
  "metadata": {
    "colab": {
      "name": "ArthurHenriqueSilva_Aula_2.ipynb",
      "provenance": [],
      "collapsed_sections": [],
      "authorship_tag": "ABX9TyMnYAboE4/C01rHMdBSYnWJ",
      "include_colab_link": true
    },
    "kernelspec": {
      "name": "python3",
      "display_name": "Python 3"
    },
    "language_info": {
      "name": "python"
    }
  },
  "cells": [
    {
      "cell_type": "markdown",
      "metadata": {
        "id": "view-in-github",
        "colab_type": "text"
      },
      "source": [
        "<a href=\"https://colab.research.google.com/github/AHS2020/Python_UERJ/blob/master/ArthurHenriqueSilva_Aula_2.ipynb\" target=\"_parent\"><img src=\"https://colab.research.google.com/assets/colab-badge.svg\" alt=\"Open In Colab\"/></a>"
      ]
    },
    {
      "cell_type": "markdown",
      "metadata": {
        "id": "Vz8GxGVqyAm5"
      },
      "source": [
        "## Exercícios\n",
        "\n",
        "### Exercício 1:\n",
        "Considere as seguintes declarações de atribuições:\n",
        "   * largura = 17 \n",
        "   * altura = 12.0\n",
        "   * delimitador = \".\"\n",
        "   \n",
        "Para cada uma das expressões a seguir, escreva o valor das expressões e o tipo (do valor da expressão):\n",
        "1. largura/2\n",
        "1. largura/2.0\n",
        "1. altura/3\n",
        "1. 1 + 2 * 5\n",
        "1. delimitador*5\n",
        "\n",
        "Use o interpretador de python para verificar suas respostas."
      ]
    },
    {
      "cell_type": "code",
      "metadata": {
        "colab": {
          "base_uri": "https://localhost:8080/"
        },
        "id": "yCQySepe0kZT",
        "outputId": "a49f16e7-16e6-4ac8-aeff-b2ef61dad009"
      },
      "source": [
        "largura = 18\n",
        "altura = 12.0\n",
        "delimitador = \".\"\n",
        "\n",
        "print('Largura =', largura)\n",
        "print('Altura =', altura)\n",
        "print('Delimitador =', delimitador)\n",
        "\n",
        "print(' ')\n",
        "\n",
        "x1 = largura/2\n",
        "x2 = largura/2.0\n",
        "x3 = altura/3\n",
        "x4 = 1 + 2 * 5\n",
        "x5 = delimitador*5\n",
        "\n",
        "print('Largura/2 =', x1, '//', type(x1))\n",
        "print('Largura/2.0 =', x2, '//', type(x2))\n",
        "print('Altura/3 =', x3, '//', type(x3))\n",
        "print('1 + 2 *5 =', x4, '//', type(x4))\n",
        "print('Delimitador*5 =', x5, '//', type(x5))"
      ],
      "execution_count": null,
      "outputs": [
        {
          "output_type": "stream",
          "name": "stdout",
          "text": [
            "Largura = 18\n",
            "Altura = 12.0\n",
            "Delimitador = .\n",
            " \n",
            "Largura/2 = 9.0 // <class 'float'>\n",
            "Largura/2.0 = 9.0 // <class 'float'>\n",
            "Altura/3 = 4.0 // <class 'float'>\n",
            "1 + 2 *5 = 11 // <class 'int'>\n",
            "Delimitador*5 = ..... // <class 'str'>\n"
          ]
        }
      ]
    },
    {
      "cell_type": "markdown",
      "metadata": {
        "id": "LLhUOK0g0Yi-"
      },
      "source": [
        "### Exercício 2:\n",
        "O volume de uma esfera de raio *r* é $\\frac{4}{3} \\pi r^{3}$ \n",
        "\n",
        "Qual é o volume de uma esfera de raio 5?"
      ]
    },
    {
      "cell_type": "code",
      "metadata": {
        "colab": {
          "base_uri": "https://localhost:8080/"
        },
        "id": "kdAvz_wD0j9I",
        "outputId": "3b6486fc-3b1f-4e9b-8d3c-5c664056d231"
      },
      "source": [
        "from numpy import pi\n",
        "\n",
        "r = 5\n",
        "V = (4/3)*(pi)*(r**3)\n",
        "\n",
        "print('Raio =', r)\n",
        "print(f'Volume = {V:.2f}')"
      ],
      "execution_count": null,
      "outputs": [
        {
          "output_type": "stream",
          "name": "stdout",
          "text": [
            "Raio = 5\n",
            "Volume = 523.60\n"
          ]
        }
      ]
    },
    {
      "cell_type": "markdown",
      "metadata": {
        "id": "yRb12PAJ0Yzf"
      },
      "source": [
        "### Exercício 3:\n",
        "Suponha que o preço de um livro seja 24.95 reais, porém as livrarias têm desconto de 40%. Os custos de envio são de 3.00 reais para o primeiro livro e 0.75 reais para os livros adicionais. Qual é o custo total da compra de 60 livros?"
      ]
    },
    {
      "cell_type": "code",
      "metadata": {
        "colab": {
          "base_uri": "https://localhost:8080/"
        },
        "id": "56yuvR2T0lBG",
        "outputId": "643303cf-35e1-4860-e69b-2a3e9288a355"
      },
      "source": [
        "p = 24.95\n",
        "d = 60/100\n",
        "n = 60\n",
        "e = 3.00 + (n-1)*0.75\n",
        "\n",
        "\n",
        "print(f'Preço = {p:.2f} Reais')\n",
        "print(f'Parte do preço a ser paga = {d:.1f}')\n",
        "print(f'Envio = 3.00 + (n-1)*0.75')\n",
        "print(f'Número de livro = {n:.0f}')\n",
        "\n",
        "print(' ')\n",
        "\n",
        "\n",
        "CT = p*d*n + e\n",
        "\n",
        "print(f'Custo total = {CT:.2f} Reais')"
      ],
      "execution_count": null,
      "outputs": [
        {
          "output_type": "stream",
          "name": "stdout",
          "text": [
            "Preço = 24.95 Reais\n",
            "Parte do preço a ser paga = 0.6\n",
            "Envio = 3.00 + (n-1)*0.75\n",
            "Número de livro = 60\n",
            " \n",
            "Custo total = 945.45 Reais\n"
          ]
        }
      ]
    },
    {
      "cell_type": "markdown",
      "metadata": {
        "id": "yZdIoDb50ZZZ"
      },
      "source": [
        "### Exercício 4:\n",
        "Um laser vermelho (com comprimento de onda $\\lambda = 632.8$ nm) incide em uma fenda dupla produzindo um padrão de interferência com franjas claras e escuras, em um anteparo situado a uma distância D = 1.98 m da fenda. Calcule a distância $\\Delta y$ entre dois máximos consecutivos de interferência. Considere o espaçamento entre as fendas, $d$, como sendo igual a 0.250 mm.\n",
        "*Dica: a distância entre dois máximos de interferência consecutivos pode ser aproximada por $\\Delta y = \\frac{\\lambda D}{d}$.*"
      ]
    },
    {
      "cell_type": "code",
      "metadata": {
        "colab": {
          "base_uri": "https://localhost:8080/"
        },
        "id": "MqgDFKTR0qrd",
        "outputId": "dc014023-bd8d-49c6-ab00-31960c6514dc"
      },
      "source": [
        "l = (632.8)*(10**(-9))\n",
        "D = 1.98\n",
        "d = (0.250)*(10**(-3))\n",
        "\n",
        "print(f'\\u03BB = {l:.10f} m')\n",
        "print(f'D = {D} m')\n",
        "print(f'd = {d:.6f} m')\n",
        "\n",
        "print(' ')\n",
        "\n",
        "dy1 = (l*D)/d\n",
        "dy2 = (l*D*(10**3))/d\n",
        "\n",
        "\n",
        "print(f'\\u0394y = {dy1} m')\n",
        "print(f'ou')\n",
        "print(f'\\u0394y  {dy2:.2f} mm')"
      ],
      "execution_count": null,
      "outputs": [
        {
          "output_type": "stream",
          "name": "stdout",
          "text": [
            "λ = 0.0000006328 m\n",
            "D = 1.98 m\n",
            "d = 0.000250 m\n",
            " \n",
            "Δy = 0.005011776 m\n",
            "ou\n",
            "Δy  5.01 mm\n"
          ]
        }
      ]
    }
  ]
}