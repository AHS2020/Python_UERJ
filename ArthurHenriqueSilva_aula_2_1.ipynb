{
  "nbformat": 4,
  "nbformat_minor": 0,
  "metadata": {
    "colab": {
      "name": "ArthurHenriqueSilva_aula_2_1.ipynb",
      "provenance": [],
      "authorship_tag": "ABX9TyOrnERmq5Sgeht3KBsOj11J",
      "include_colab_link": true
    },
    "kernelspec": {
      "name": "python3",
      "display_name": "Python 3"
    }
  },
  "cells": [
    {
      "cell_type": "markdown",
      "metadata": {
        "id": "view-in-github",
        "colab_type": "text"
      },
      "source": [
        "<a href=\"https://colab.research.google.com/github/AHS2020/Python_UERJ/blob/master/ArthurHenriqueSilva_aula_2_1.ipynb\" target=\"_parent\"><img src=\"https://colab.research.google.com/assets/colab-badge.svg\" alt=\"Open In Colab\"/></a>"
      ]
    },
    {
      "cell_type": "code",
      "metadata": {
        "id": "XUTGHV0jQx1A",
        "outputId": "5844dda9-3c06-4a03-eec5-95be85bb69b5",
        "colab": {
          "base_uri": "https://localhost:8080/",
          "height": 538
        }
      },
      "source": [
        "print()\n",
        "\n",
        "print('Aluno - Arthur Henrique Silva')\n",
        "print('Aula - 2')\n",
        "print('Exercício - 1')\n",
        "\n",
        "print()\n",
        "\n",
        "print('Pergunta:')\n",
        "\n",
        "print('''\t  Considere as seguintes declarações de atribuições:\n",
        "\n",
        "\t      largura = 17\n",
        "\t      altura = 12.0\n",
        "\t      delimitador = \".\"\n",
        "\n",
        "\t  Para cada uma das expressões a seguir, escreva o valor das expressões e o tipo (do valor da expressão):\n",
        "\n",
        "\t      largura/2\n",
        "\t      largura/2.0\n",
        "\t      altura/3\n",
        "\t      1 + 2 * 5\n",
        "\t      delimitador*5\n",
        "\n",
        "\t  Use o interpretador de python para verificar suas respostas.''')\n",
        "\n",
        "largura = 17\n",
        "altura = 12.0\n",
        "delimitador = \".\"\n",
        "\n",
        "print('Resposta:')\n",
        "\n",
        "print('\t  1.  ',largura/2,type(largura/2))\n",
        "print('\t  2.  ',largura/2.0,type(largura/2.0))\n",
        "print('\t  2.1.',largura//2,' ',type(largura//2))\n",
        "print('\t  2.2.',largura//2.0,type(largura//2.0))\n",
        "print('\t  3.  ',altura/3,type(altura/3))\n",
        "print('\t  4.  ',1 + 2 * 5,' ',type(1 + 2 * 5))\n",
        "print('\t  5.  ',delimitador*5,type(delimitador*5))\n",
        "\n",
        "print()"
      ],
      "execution_count": 2,
      "outputs": [
        {
          "output_type": "stream",
          "text": [
            "\n",
            "Aluno - Arthur Henrique Silva\n",
            "Aula - 2\n",
            "Exercício - 1\n",
            "\n",
            "Pergunta:\n",
            "\t  Considere as seguintes declarações de atribuições:\n",
            "\n",
            "\t      largura = 17\n",
            "\t      altura = 12.0\n",
            "\t      delimitador = \".\"\n",
            "\n",
            "\t  Para cada uma das expressões a seguir, escreva o valor das expressões e o tipo (do valor da expressão):\n",
            "\n",
            "\t      largura/2\n",
            "\t      largura/2.0\n",
            "\t      altura/3\n",
            "\t      1 + 2 * 5\n",
            "\t      delimitador*5\n",
            "\n",
            "\t  Use o interpretador de python para verificar suas respostas.\n",
            "Resposta:\n",
            "\t  1.   8.5 <class 'float'>\n",
            "\t  2.   8.5 <class 'float'>\n",
            "\t  2.1. 8   <class 'int'>\n",
            "\t  2.2. 8.0 <class 'float'>\n",
            "\t  3.   4.0 <class 'float'>\n",
            "\t  4.   11   <class 'int'>\n",
            "\t  5.   ..... <class 'str'>\n",
            "\n"
          ],
          "name": "stdout"
        }
      ]
    }
  ]
}