{
  "nbformat": 4,
  "nbformat_minor": 0,
  "metadata": {
    "colab": {
      "name": "ArthurHenriqueSilva_aula_twiki_1_6.ipynb",
      "provenance": [],
      "authorship_tag": "ABX9TyNr9tWrJjrk8xKjsMHKcy2x",
      "include_colab_link": true
    },
    "kernelspec": {
      "name": "python3",
      "display_name": "Python 3"
    }
  },
  "cells": [
    {
      "cell_type": "markdown",
      "metadata": {
        "id": "view-in-github",
        "colab_type": "text"
      },
      "source": [
        "<a href=\"https://colab.research.google.com/github/AHS2020/Python_UERJ/blob/master/ArthurHenriqueSilva_aula_twiki_1_6.ipynb\" target=\"_parent\"><img src=\"https://colab.research.google.com/assets/colab-badge.svg\" alt=\"Open In Colab\"/></a>"
      ]
    },
    {
      "cell_type": "code",
      "metadata": {
        "id": "Gn7yCBrgVlAX",
        "outputId": "a16cb456-e7f6-4869-c9ec-63dd3a455373",
        "colab": {
          "base_uri": "https://localhost:8080/",
          "height": 228
        }
      },
      "source": [
        "print()\n",
        "\n",
        "print('Aluno - Arthur Henrique Silva')\n",
        "print('Aula(Twiki) - 1')\n",
        "print('Exercício - 6')\n",
        "\n",
        "print()\n",
        "\n",
        "print('Pergunta:')\n",
        "\n",
        "print('''\t   Calcule a velocidade final de um objeto em queda livre a partir de 3.00 metros de altura (sem resistencia do ar). Calcule o tempo que esse objeto demora para cair.''')\n",
        "\n",
        "print()\n",
        "\n",
        "print('Resposta:')\n",
        "\n",
        "print(f'''\t  Tendo as equações de velovidade final vf = \\u221A2gh e tempo t = \\u221A(2h\\u2215g) e os valores de h = 3.00 m e g = 9.81 m\\u2215s\\u00B2. Pode-se encontrar vf = {(2*9.81*3)**(0.5):.02f} m\\u2215s e t = {(2*3/9.81)**(0.5):.03f} s.''')\n",
        "\n",
        "print()\n",
        "\n",
        "#Division slash = \\u2215\n",
        "#Square root = \\u221A\n",
        "#Superscript two = \\u00B2"
      ],
      "execution_count": 1,
      "outputs": [
        {
          "output_type": "stream",
          "text": [
            "\n",
            "Aluno - Arthur Henrique Silva\n",
            "Aula(Twiki) - 1\n",
            "Exercício - 6\n",
            "\n",
            "Pergunta:\n",
            "\t   Calcule a velocidade final de um objeto em queda livre a partir de 3.00 metros de altura (sem resistencia do ar). Calcule o tempo que esse objeto demora para cair.\n",
            "\n",
            "Resposta:\n",
            "\t  Tendo as equações de velovidade final vf = √2gh e tempo t = √(2h∕g) e os valores de h = 3.00 m e g = 9.81 m∕s². Pode-se encontrar vf = 7.67 m∕s e t = 0.782 s.\n",
            "\n"
          ],
          "name": "stdout"
        }
      ]
    }
  ]
}
