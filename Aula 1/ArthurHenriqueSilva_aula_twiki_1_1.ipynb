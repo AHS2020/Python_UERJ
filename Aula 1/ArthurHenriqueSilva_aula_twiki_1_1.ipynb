{
  "nbformat": 4,
  "nbformat_minor": 0,
  "metadata": {
    "colab": {
      "name": "ArthurHenriqueSilva_aula_twiki_1_1.ipynb",
      "provenance": [],
      "authorship_tag": "ABX9TyOBTHi+2m/J6Lyu9+GHcpc5",
      "include_colab_link": true
    },
    "kernelspec": {
      "name": "python3",
      "display_name": "Python 3"
    }
  },
  "cells": [
    {
      "cell_type": "markdown",
      "metadata": {
        "id": "view-in-github",
        "colab_type": "text"
      },
      "source": [
        "<a href=\"https://colab.research.google.com/github/AHS2020/Python_UERJ/blob/master/ArthurHenriqueSilva_aula_twiki_1_1.ipynb\" target=\"_parent\"><img src=\"https://colab.research.google.com/assets/colab-badge.svg\" alt=\"Open In Colab\"/></a>"
      ]
    },
    {
      "cell_type": "code",
      "metadata": {
        "id": "DxfgJ_UhTtkT",
        "outputId": "5de21d87-f812-4d8a-eb20-ba0df27514f9",
        "colab": {
          "base_uri": "https://localhost:8080/",
          "height": 228
        }
      },
      "source": [
        "print()\n",
        "\n",
        "print('Aluno - Arthur Henrique Silva')\n",
        "print('Aula(Twiki) - 1')\n",
        "print('Exercício - 1')\n",
        "\n",
        "print()\n",
        "\n",
        "print('Pergunta:')\n",
        "\n",
        "print('''\t  Se você fizer uma corrida de 10 quilômetros em 43 minutos e 30 segundos, qual será seu tempo médio por milha? Qual é a sua velocidade média em milhas por hora? (Dica: há 1,61 quilômetros em uma milha).''')\n",
        "\n",
        "print()\n",
        "\n",
        "print('Resposta:')\n",
        "\n",
        "s = 10/1.61\n",
        "t = 43.5\n",
        "t2 = t/60\n",
        "\n",
        "print(f'''\t  Primeiramente transformamos quilometros em milhas onde 1 milha = 1.61 km, então, 1 km = {1/1.61:.03f} milhas. Logo, 10 km = {s:.02f} milhas. Temos então s = {s:.02f} milhas como o espaço percorrido. Também temos t = 43.5 min como tempo decorrido. A partir disso achamos tempo médio por milha exatamente como t dividido por s, t/s = {t/s:.02f} min por milha. Já para acharmos a velocidade média, devemos fazer a operação contrária s/t, mas antes devemos passar o tempo para horas dividindo por 60, onde t2 = t/60 = {t2:.03f} horas. Fazendo s divido por t2, s/t2 = {s/t2:.02f} milhas por hora.''')\n",
        "\n",
        "print()"
      ],
      "execution_count": 2,
      "outputs": [
        {
          "output_type": "stream",
          "text": [
            "\n",
            "Aluno - Arthur Henrique Silva\n",
            "Aula(Twiki) - 1\n",
            "Exercício - 1\n",
            "\n",
            "Pergunta:\n",
            "\t  Se você fizer uma corrida de 10 quilômetros em 43 minutos e 30 segundos, qual será seu tempo médio por milha? Qual é a sua velocidade média em milhas por hora? (Dica: há 1,61 quilômetros em uma milha).\n",
            "\n",
            "Resposta:\n",
            "\t  Primeiramente transformamos quilometros em milhas onde 1 milha = 1.61 km, então, 1 km = 0.621 milhas. Logo, 10 km = 6.21 milhas. Temos então s = 6.21 milhas como o espaço percorrido. Também temos t = 43.5 min como tempo decorrido. A partir disso achamos tempo médio por milha exatamente como t dividido por s, t/s = 7.00 min por milha. Já para acharmos a velocidade média, devemos fazer a operação contrária s/t, mas antes devemos passar o tempo para horas dividindo por 60, onde t2 = t/60 = 0.725 horas. Fazendo s divido por t2, s/t2 = 8.57 milhas por hora.\n",
            "\n"
          ],
          "name": "stdout"
        }
      ]
    }
  ]
}
