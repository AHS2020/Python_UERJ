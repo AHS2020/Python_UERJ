{
  "nbformat": 4,
  "nbformat_minor": 0,
  "metadata": {
    "colab": {
      "name": "ArthurHenriqueSilva_Aula_13.ipynb",
      "provenance": [],
      "collapsed_sections": [],
      "authorship_tag": "ABX9TyOgPwC9QofhU9u+QMmmmviE",
      "include_colab_link": true
    },
    "kernelspec": {
      "name": "python3",
      "display_name": "Python 3"
    },
    "language_info": {
      "name": "python"
    }
  },
  "cells": [
    {
      "cell_type": "markdown",
      "metadata": {
        "id": "view-in-github",
        "colab_type": "text"
      },
      "source": [
        "<a href=\"https://colab.research.google.com/github/AHS2020/Python_UERJ/blob/master/ArthurHenriqueSilva_Aula_13.ipynb\" target=\"_parent\"><img src=\"https://colab.research.google.com/assets/colab-badge.svg\" alt=\"Open In Colab\"/></a>"
      ]
    },
    {
      "cell_type": "code",
      "metadata": {
        "id": "cFVLEh5jsr2R"
      },
      "source": [
        "class Ponto:\n",
        "    \"\"\" Cria um novo Ponto, com coordenadas x, y \"\"\"\n",
        "\n",
        "    def __init__(self, x=0, y=0):\n",
        "        \"\"\" Inicializa em x, y o novo ponto criado pela classe \"\"\"\n",
        "        self.x = x\n",
        "        self.y = y\n",
        "\n",
        "    def distancia_da_origem(self):\n",
        "        \"\"\" Calcula minha distânica da origem \"\"\"\n",
        "        return ((self.x ** 2) + (self.y ** 2)) ** 0.5\n",
        "    \n",
        "    def ponto_medio(self, alvo):\n",
        "        \"\"\" Retorna o ponto medio entre esse ponto e o alvo \"\"\"\n",
        "        mx = (self.x + alvo.x)/2\n",
        "        my = (self.y + alvo.y)/2\n",
        "        return Ponto(mx, my)\n",
        "    \n",
        "    def para_string(self):\n",
        "        return \"({0}, {1})\".format(self.x, self.y)\n",
        "    \n",
        "    def distancia_entre_pontos(self, alvo):\n",
        "        \"\"\" Calcula a distânica entre dois pontos \"\"\"\n",
        "        return (((self.x - alvo.x) ** 2) + ((self.y - alvo.y) ** 2)) ** 0.5\n",
        "    \n",
        "    def reflexao_x(self):\n",
        "        \"\"\" Retorne o Ponto de modo que seja o reflexo sobre o eixo x \"\"\"\n",
        "        mx = self.x\n",
        "        my = - self.y\n",
        "        return Ponto(mx, my)\n",
        "    \n",
        "    def inclinacao_origem(self):\n",
        "        \"\"\" Calcula o coeficiente angular da reta que une o ponto à origem \"\"\"\n",
        "        return (self.y/self.x)\n",
        "\n",
        "    def parametros_reta(self, alvo):\n",
        "        \"\"\" Calcula a equação da linha reta que une os dois pontos \"\"\"\n",
        "        a = ((self.y - alvo.y)/(self.x - alvo.x))\n",
        "        b = ((self.y)-(a*(self.x)))\n",
        "        return Ponto (a, b)"
      ],
      "execution_count": 4,
      "outputs": []
    },
    {
      "cell_type": "markdown",
      "metadata": {
        "id": "EwvQUSAVEnlD"
      },
      "source": [
        "# Exercícios da aula de hoje:\n",
        "\n",
        "5) Usando a classe **Ponto** criada na última aula escreva uma classe **Retangulo**. A definição da classe Retangulo é:"
      ]
    },
    {
      "cell_type": "code",
      "metadata": {
        "id": "TtQKKKt8EnlD"
      },
      "source": [
        "class Rectangle:\n",
        "    \"\"\"Representa um retangulo. \n",
        "\n",
        "    atributos: \n",
        "    - largura, do tipo float\n",
        "    - altura, do tipo float \n",
        "    - canto, do tipo Ponto.\n",
        "    \"\"\"\n",
        "    def __init__(self, l,w):\n",
        "        \"\"\" Tem como variáveis l e w, length e width, largura e altura \"\"\"\n",
        "        self.l = l\n",
        "        self.w = w"
      ],
      "execution_count": 17,
      "outputs": []
    },
    {
      "cell_type": "markdown",
      "metadata": {
        "id": "JGuVeaQgEnlD"
      },
      "source": [
        "6) Escreva uma definição para uma classe chamada **Circulo** com atributos ***centro*** e ***raio***, em que ***centro*** é um objeto do tipo **Ponto** e ***raio*** é um número.\n",
        "   * Instancie um objeto **Circulo** que represente um círculo com seu centro em (150, 100) e raio 75 e imprima na tela as coordenadas (x,y) do centro do círculo.\n",
        "   * Escreva uma função chamada ponto_no_circulo que use um Circulo e um Ponto e retorne True se o Ponto estiver dentro do círculo ou no limite do mesmo."
      ]
    },
    {
      "cell_type": "code",
      "metadata": {
        "id": "thyO_g8Tts3E"
      },
      "source": [
        "class Circle:\n",
        "    \"\"\"Representa um circulo. \n",
        "\n",
        "    atributos: \n",
        "    - raio, do tipo float.\n",
        "    - centro, do tipo Ponto.\n",
        "    \"\"\"\n",
        "    def __init__(self, r, x, y):\n",
        "        \"\"\" Tem como variáveis r, raio do circulo \"\"\"\n",
        "        self.r = r\n",
        "        self.x = x\n",
        "        self.y = y\n",
        "        \n",
        "        return print(\"Centro = ({0}, {1})\".format(self.x, self.y))"
      ],
      "execution_count": 45,
      "outputs": []
    },
    {
      "cell_type": "code",
      "metadata": {
        "colab": {
          "base_uri": "https://localhost:8080/"
        },
        "id": "30NHcYRiyazB",
        "outputId": "650c85b1-6e68-4bdb-e3b6-6046cf8038e2"
      },
      "source": [
        "c = Circle(75, 150, 100)"
      ],
      "execution_count": 46,
      "outputs": [
        {
          "output_type": "stream",
          "name": "stdout",
          "text": [
            "Centro = (150, 100)\n"
          ]
        }
      ]
    },
    {
      "cell_type": "code",
      "metadata": {
        "id": "gDADZT-e4RbL"
      },
      "source": [
        "class Circle:\n",
        "    \"\"\"Representa um circulo. \n",
        "\n",
        "    atributos: \n",
        "    - raio, do tipo float.\n",
        "    - centro, do tipo Ponto.\n",
        "    \"\"\"\n",
        "    def __init__(self, r, x, y):\n",
        "        \"\"\" Tem como variáveis r, raio do circulo \"\"\"\n",
        "        self.r = r\n",
        "        self.x = x\n",
        "        self.y = y\n",
        "        \n",
        "        return print(\"Centro = ({0}, {1})\".format(self.x, self.y))\n",
        "\n",
        "    def ponto_no_circulo(self, alvo):\n",
        "        \"\"\" O Ponto está dentro do círculo ? \"\"\"\n",
        "        if ((alvo.x - self.x)**2 + (alvo.y - self.y)**2) <= ((self.r)**2):\n",
        "          return \"True\"\n",
        "        else:\n",
        "          return \"False\"\n"
      ],
      "execution_count": 59,
      "outputs": []
    },
    {
      "cell_type": "code",
      "metadata": {
        "colab": {
          "base_uri": "https://localhost:8080/"
        },
        "id": "HfquLlZL5uTM",
        "outputId": "a3f322b5-1bdf-438a-af62-fce476453b05"
      },
      "source": [
        "c = Circle(75, 150, 100)\n",
        "p = Ponto(225,175)\n",
        "q = Ponto(225,100)\n",
        "r = Ponto(150,175)"
      ],
      "execution_count": 60,
      "outputs": [
        {
          "output_type": "stream",
          "name": "stdout",
          "text": [
            "Centro = (150, 100)\n"
          ]
        }
      ]
    },
    {
      "cell_type": "code",
      "metadata": {
        "colab": {
          "base_uri": "https://localhost:8080/",
          "height": 36
        },
        "id": "dUW2xy6k6iAx",
        "outputId": "347466b4-bb6e-418d-f621-a08b888739d3"
      },
      "source": [
        "c.ponto_no_circulo(p)"
      ],
      "execution_count": 61,
      "outputs": [
        {
          "output_type": "execute_result",
          "data": {
            "application/vnd.google.colaboratory.intrinsic+json": {
              "type": "string"
            },
            "text/plain": [
              "'False'"
            ]
          },
          "metadata": {},
          "execution_count": 61
        }
      ]
    },
    {
      "cell_type": "code",
      "metadata": {
        "colab": {
          "base_uri": "https://localhost:8080/",
          "height": 36
        },
        "id": "QRSJ6yr16j5l",
        "outputId": "f34bf295-3cb6-45b6-e29b-fcc7a96f7686"
      },
      "source": [
        "c.ponto_no_circulo(q)"
      ],
      "execution_count": 62,
      "outputs": [
        {
          "output_type": "execute_result",
          "data": {
            "application/vnd.google.colaboratory.intrinsic+json": {
              "type": "string"
            },
            "text/plain": [
              "'True'"
            ]
          },
          "metadata": {},
          "execution_count": 62
        }
      ]
    },
    {
      "cell_type": "code",
      "metadata": {
        "colab": {
          "base_uri": "https://localhost:8080/",
          "height": 36
        },
        "id": "0F15sErQ6l0D",
        "outputId": "e2fd0df6-5c99-42bf-89a3-dc0e0476532a"
      },
      "source": [
        "c.ponto_no_circulo(r)"
      ],
      "execution_count": 63,
      "outputs": [
        {
          "output_type": "execute_result",
          "data": {
            "application/vnd.google.colaboratory.intrinsic+json": {
              "type": "string"
            },
            "text/plain": [
              "'True'"
            ]
          },
          "metadata": {},
          "execution_count": 63
        }
      ]
    },
    {
      "cell_type": "markdown",
      "metadata": {
        "id": "SdEEMG15saO7"
      },
      "source": [
        "7) Escreva uma função chamada **desenhar_ret** que use um objeto ***Turtle*** e um ***Retangulo*** e use o Turtle para desenhar o retângulo."
      ]
    },
    {
      "cell_type": "code",
      "metadata": {
        "id": "CQUrpuYH1Qzw"
      },
      "source": [
        "class Rectangle:\n",
        "    \"\"\"Representa um retangulo. \n",
        "\n",
        "    atributos: \n",
        "    - largura, do tipo float\n",
        "    - altura, do tipo float \n",
        "    - canto, do tipo Ponto.\n",
        "    \"\"\"\n",
        "    def __init__(self, l,w):\n",
        "        \"\"\" Tem como variáveis l e w, length e width, largura e altura \"\"\"\n",
        "        self.l = l\n",
        "        self.w = w\n",
        "\n",
        "    def draw_rectangle(self, alvo):\n",
        "        \"\"\" Desenha o retangulo no turtle \"\"\"\n",
        "\n",
        "        mx = 400 + alvo.x\n",
        "        my = 250 - alvo.y\n",
        "\n",
        "        !pip3 install ColabTurtle\n",
        "        from ColabTurtle import Turtle\n",
        "        joana = Turtle\n",
        "        joana.initializeTurtle() \n",
        "        joana.color('red')\n",
        "        joana.up()\n",
        "        joana.goto(mx, my)\n",
        "        joana.down()\n",
        "        joana.right(90)\n",
        "        joana.forward(self.l)\n",
        "        joana.right(90)\n",
        "        joana.forward(self.w)\n",
        "        joana.right(90)\n",
        "        joana.forward(self.l)\n",
        "        joana.right(90)\n",
        "        joana.forward(self.w)\n",
        "        joana.hideturtle()"
      ],
      "execution_count": 18,
      "outputs": []
    },
    {
      "cell_type": "code",
      "metadata": {
        "colab": {
          "base_uri": "https://localhost:8080/",
          "height": 539
        },
        "id": "r0pgQqi51VOA",
        "outputId": "10fed855-aa09-43c1-e0d1-4ce295777821"
      },
      "source": [
        "r = Rectangle(150,75)\n",
        "p = Ponto(-75, 37)\n",
        "\n",
        "r.draw_rectangle(p)"
      ],
      "execution_count": 19,
      "outputs": [
        {
          "output_type": "stream",
          "name": "stdout",
          "text": [
            "Requirement already satisfied: ColabTurtle in /usr/local/lib/python3.7/dist-packages (2.1.0)\n"
          ]
        },
        {
          "output_type": "display_data",
          "data": {
            "text/html": [
              "\n",
              "      <svg width=\"800\" height=\"500\">\n",
              "        <rect width=\"100%\" height=\"100%\" fill=\"black\"/>\n",
              "        <line x1=\"325\" y1=\"213\" x2=\"475.0\" y2=\"213.0\" stroke-linecap=\"round\" style=\"stroke:red;stroke-width:4\"/><line x1=\"475.0\" y1=\"213.0\" x2=\"475.0\" y2=\"288.0\" stroke-linecap=\"round\" style=\"stroke:red;stroke-width:4\"/><line x1=\"475.0\" y1=\"288.0\" x2=\"325.0\" y2=\"288.0\" stroke-linecap=\"round\" style=\"stroke:red;stroke-width:4\"/><line x1=\"325.0\" y1=\"288.0\" x2=\"325.0\" y2=\"213.0\" stroke-linecap=\"round\" style=\"stroke:red;stroke-width:4\"/>\n",
              "        <g visibility=hidden transform=\"rotate(360,325.0,213.0) translate(307.0, 195.0)\">\n",
              "<path style=\" stroke:none;fill-rule:evenodd;fill:red;fill-opacity:1;\" d=\"M 18.214844 0.632812 C 16.109375 1.800781 15.011719 4.074219 15.074219 7.132812 L 15.085938 7.652344 L 14.785156 7.496094 C 13.476562 6.824219 11.957031 6.671875 10.40625 7.066406 C 8.46875 7.550781 6.515625 9.15625 4.394531 11.992188 C 3.0625 13.777344 2.679688 14.636719 3.042969 15.027344 L 3.15625 15.152344 L 3.519531 15.152344 C 4.238281 15.152344 4.828125 14.886719 8.1875 13.039062 C 9.386719 12.378906 10.371094 11.839844 10.378906 11.839844 C 10.386719 11.839844 10.355469 11.929688 10.304688 12.035156 C 9.832031 13.09375 9.257812 14.820312 8.96875 16.078125 C 7.914062 20.652344 8.617188 24.53125 11.070312 27.660156 C 11.351562 28.015625 11.363281 27.914062 10.972656 28.382812 C 8.925781 30.84375 7.945312 33.28125 8.238281 35.1875 C 8.289062 35.527344 8.28125 35.523438 8.917969 35.523438 C 10.941406 35.523438 13.074219 34.207031 15.136719 31.6875 C 15.359375 31.417969 15.328125 31.425781 15.5625 31.574219 C 16.292969 32.042969 18.023438 32.964844 18.175781 32.964844 C 18.335938 32.964844 19.941406 32.210938 20.828125 31.71875 C 20.996094 31.625 21.136719 31.554688 21.136719 31.558594 C 21.203125 31.664062 21.898438 32.414062 22.222656 32.730469 C 23.835938 34.300781 25.5625 35.132812 27.582031 35.300781 C 27.90625 35.328125 27.9375 35.308594 28.007812 34.984375 C 28.382812 33.242188 27.625 30.925781 25.863281 28.425781 L 25.542969 27.96875 L 25.699219 27.785156 C 28.945312 23.960938 29.132812 18.699219 26.257812 11.96875 L 26.207031 11.84375 L 27.945312 12.703125 C 31.53125 14.476562 32.316406 14.800781 33.03125 14.800781 C 33.976562 14.800781 33.78125 13.9375 32.472656 12.292969 C 28.519531 7.355469 25.394531 5.925781 21.921875 7.472656 L 21.558594 7.636719 L 21.578125 7.542969 C 21.699219 6.992188 21.761719 5.742188 21.699219 5.164062 C 21.496094 3.296875 20.664062 1.964844 19.003906 0.855469 C 18.480469 0.503906 18.457031 0.5 18.214844 0.632812\"/>\n",
              "</g>\n",
              "      </svg>\n",
              "    "
            ],
            "text/plain": [
              "<IPython.core.display.HTML object>"
            ]
          },
          "metadata": {}
        }
      ]
    },
    {
      "cell_type": "markdown",
      "metadata": {
        "id": "5xY-x4grscLN"
      },
      "source": [
        "8) Escreva uma função chamada desenhar_circulo que use uma ***Turtle*** e um ***Circulo*** e desenhe o ***Circulo***."
      ]
    },
    {
      "cell_type": "code",
      "metadata": {
        "id": "AYaTDGT52iZJ"
      },
      "source": [
        "class Circle:\n",
        "    \"\"\"Representa um circulo. \n",
        "\n",
        "    atributos: \n",
        "    - raio, do tipo float.\n",
        "    - centro, do tipo Ponto.\n",
        "    \"\"\"\n",
        "    def __init__(self, r, x, y):\n",
        "        \"\"\" Tem como variáveis r, raio do circulo \"\"\"\n",
        "        self.r = r\n",
        "        self.x = x\n",
        "        self.y = y\n",
        "        \n",
        "        return print(\"Centro = ({0}, {1})\".format(self.x, self.y))\n",
        "\n",
        "    def ponto_no_circulo(self, alvo):\n",
        "        \"\"\" O Ponto está dentro do círculo ? \"\"\"\n",
        "        if ((alvo.x - self.x)**2 + (alvo.y - self.y)**2) <= ((self.r)**2):\n",
        "          return \"True\"\n",
        "        else:\n",
        "          return \"False\"\n",
        "\n",
        "    def draw_circle(self):\n",
        "        \"\"\" Desenha o retangulo no turtle \"\"\"\n",
        "\n",
        "        mx = 400 + self.x\n",
        "        my = 250 - self.y\n",
        "\n",
        "        !pip3 install ColabTurtle\n",
        "        from ColabTurtle import Turtle\n",
        "        import math\n",
        "\n",
        "        joana = Turtle\n",
        "        joana.initializeTurtle() \n",
        "        joana.color('red')\n",
        "        joana.up()\n",
        "        joana.goto(mx, my)\n",
        "        joana.down()\n",
        "\n",
        "        def circle (t, r, n):\n",
        "        \n",
        "          t.up()\n",
        "          t.right(90)\n",
        "          t.forward(r)\n",
        "          t.left(90)\n",
        "          t.down()\n",
        "\n",
        "\n",
        "          for i in range(n):\n",
        "            t.left(360/n)\n",
        "            t.forward(r*math.sqrt(2*(1-math.cos((2*math.pi)/n))))\n",
        "\n",
        "          t.up()\n",
        "          t.left(90)\n",
        "          t.forward(r)\n",
        "          t.right(90)\n",
        "          t.down()\n",
        "\n",
        "        circle(joana, self.r, self.r)\n",
        "        joana.hideturtle()"
      ],
      "execution_count": 64,
      "outputs": []
    },
    {
      "cell_type": "code",
      "metadata": {
        "colab": {
          "base_uri": "https://localhost:8080/",
          "height": 557
        },
        "id": "vcqG1bT07E2W",
        "outputId": "03b1dc89-32e6-491b-8893-a153fbe02e8a"
      },
      "source": [
        "c = Circle(75, 150, 100)\n",
        "\n",
        "c.draw_circle()"
      ],
      "execution_count": 65,
      "outputs": [
        {
          "output_type": "stream",
          "name": "stdout",
          "text": [
            "Centro = (150, 100)\n",
            "Requirement already satisfied: ColabTurtle in /usr/local/lib/python3.7/dist-packages (2.1.0)\n"
          ]
        },
        {
          "output_type": "display_data",
          "data": {
            "text/html": [
              "\n",
              "      <svg width=\"800\" height=\"500\">\n",
              "        <rect width=\"100%\" height=\"100%\" fill=\"black\"/>\n",
              "        <line x1=\"625.0\" y1=\"150.0\" x2=\"624.474\" y2=\"143.741\" stroke-linecap=\"round\" style=\"stroke:red;stroke-width:4\"/><line x1=\"624.474\" y1=\"143.741\" x2=\"623.426\" y2=\"137.548\" stroke-linecap=\"round\" style=\"stroke:red;stroke-width:4\"/><line x1=\"623.426\" y1=\"137.548\" x2=\"621.864\" y2=\"131.464\" stroke-linecap=\"round\" style=\"stroke:red;stroke-width:4\"/><line x1=\"621.864\" y1=\"131.464\" x2=\"619.798\" y2=\"125.532\" stroke-linecap=\"round\" style=\"stroke:red;stroke-width:4\"/><line x1=\"619.798\" y1=\"125.532\" x2=\"617.243\" y2=\"119.794\" stroke-linecap=\"round\" style=\"stroke:red;stroke-width:4\"/><line x1=\"617.243\" y1=\"119.794\" x2=\"614.217\" y2=\"114.29\" stroke-linecap=\"round\" style=\"stroke:red;stroke-width:4\"/><line x1=\"614.217\" y1=\"114.29\" x2=\"610.741\" y2=\"109.058\" stroke-linecap=\"round\" style=\"stroke:red;stroke-width:4\"/><line x1=\"610.741\" y1=\"109.058\" x2=\"606.839\" y2=\"104.135\" stroke-linecap=\"round\" style=\"stroke:red;stroke-width:4\"/><line x1=\"606.839\" y1=\"104.135\" x2=\"602.539\" y2=\"99.556\" stroke-linecap=\"round\" style=\"stroke:red;stroke-width:4\"/><line x1=\"602.539\" y1=\"99.556\" x2=\"597.871\" y2=\"95.353\" stroke-linecap=\"round\" style=\"stroke:red;stroke-width:4\"/><line x1=\"597.871\" y1=\"95.353\" x2=\"592.868\" y2=\"91.555\" stroke-linecap=\"round\" style=\"stroke:red;stroke-width:4\"/><line x1=\"592.868\" y1=\"91.555\" x2=\"587.564\" y2=\"88.189\" stroke-linecap=\"round\" style=\"stroke:red;stroke-width:4\"/><line x1=\"587.564\" y1=\"88.189\" x2=\"581.997\" y2=\"85.279\" stroke-linecap=\"round\" style=\"stroke:red;stroke-width:4\"/><line x1=\"581.997\" y1=\"85.279\" x2=\"576.206\" y2=\"82.845\" stroke-linecap=\"round\" style=\"stroke:red;stroke-width:4\"/><line x1=\"576.206\" y1=\"82.845\" x2=\"570.232\" y2=\"80.904\" stroke-linecap=\"round\" style=\"stroke:red;stroke-width:4\"/><line x1=\"570.232\" y1=\"80.904\" x2=\"564.117\" y2=\"79.47\" stroke-linecap=\"round\" style=\"stroke:red;stroke-width:4\"/><line x1=\"564.117\" y1=\"79.47\" x2=\"557.903\" y2=\"78.552\" stroke-linecap=\"round\" style=\"stroke:red;stroke-width:4\"/><line x1=\"557.903\" y1=\"78.552\" x2=\"551.634\" y2=\"78.158\" stroke-linecap=\"round\" style=\"stroke:red;stroke-width:4\"/><line x1=\"551.634\" y1=\"78.158\" x2=\"545.354\" y2=\"78.29\" stroke-linecap=\"round\" style=\"stroke:red;stroke-width:4\"/><line x1=\"545.354\" y1=\"78.29\" x2=\"539.107\" y2=\"78.947\" stroke-linecap=\"round\" style=\"stroke:red;stroke-width:4\"/><line x1=\"539.107\" y1=\"78.947\" x2=\"532.937\" y2=\"80.124\" stroke-linecap=\"round\" style=\"stroke:red;stroke-width:4\"/><line x1=\"532.937\" y1=\"80.124\" x2=\"526.887\" y2=\"81.813\" stroke-linecap=\"round\" style=\"stroke:red;stroke-width:4\"/><line x1=\"526.887\" y1=\"81.813\" x2=\"521.0\" y2=\"84.003\" stroke-linecap=\"round\" style=\"stroke:red;stroke-width:4\"/><line x1=\"521.0\" y1=\"84.003\" x2=\"515.316\" y2=\"86.677\" stroke-linecap=\"round\" style=\"stroke:red;stroke-width:4\"/><line x1=\"515.316\" y1=\"86.677\" x2=\"509.876\" y2=\"89.818\" stroke-linecap=\"round\" style=\"stroke:red;stroke-width:4\"/><line x1=\"509.876\" y1=\"89.818\" x2=\"504.718\" y2=\"93.403\" stroke-linecap=\"round\" style=\"stroke:red;stroke-width:4\"/><line x1=\"504.718\" y1=\"93.403\" x2=\"499.878\" y2=\"97.407\" stroke-linecap=\"round\" style=\"stroke:red;stroke-width:4\"/><line x1=\"499.878\" y1=\"97.407\" x2=\"495.39\" y2=\"101.802\" stroke-linecap=\"round\" style=\"stroke:red;stroke-width:4\"/><line x1=\"495.39\" y1=\"101.802\" x2=\"491.286\" y2=\"106.557\" stroke-linecap=\"round\" style=\"stroke:red;stroke-width:4\"/><line x1=\"491.286\" y1=\"106.557\" x2=\"487.594\" y2=\"111.639\" stroke-linecap=\"round\" style=\"stroke:red;stroke-width:4\"/><line x1=\"487.594\" y1=\"111.639\" x2=\"484.34\" y2=\"117.012\" stroke-linecap=\"round\" style=\"stroke:red;stroke-width:4\"/><line x1=\"484.34\" y1=\"117.012\" x2=\"481.547\" y2=\"122.638\" stroke-linecap=\"round\" style=\"stroke:red;stroke-width:4\"/><line x1=\"481.547\" y1=\"122.638\" x2=\"479.235\" y2=\"128.478\" stroke-linecap=\"round\" style=\"stroke:red;stroke-width:4\"/><line x1=\"479.235\" y1=\"128.478\" x2=\"477.419\" y2=\"134.491\" stroke-linecap=\"round\" style=\"stroke:red;stroke-width:4\"/><line x1=\"477.419\" y1=\"134.491\" x2=\"476.113\" y2=\"140.635\" stroke-linecap=\"round\" style=\"stroke:red;stroke-width:4\"/><line x1=\"476.113\" y1=\"140.635\" x2=\"475.326\" y2=\"146.867\" stroke-linecap=\"round\" style=\"stroke:red;stroke-width:4\"/><line x1=\"475.326\" y1=\"146.867\" x2=\"475.063\" y2=\"153.143\" stroke-linecap=\"round\" style=\"stroke:red;stroke-width:4\"/><line x1=\"475.063\" y1=\"153.143\" x2=\"475.326\" y2=\"159.419\" stroke-linecap=\"round\" style=\"stroke:red;stroke-width:4\"/><line x1=\"475.326\" y1=\"159.419\" x2=\"476.113\" y2=\"165.651\" stroke-linecap=\"round\" style=\"stroke:red;stroke-width:4\"/><line x1=\"476.113\" y1=\"165.651\" x2=\"477.419\" y2=\"171.795\" stroke-linecap=\"round\" style=\"stroke:red;stroke-width:4\"/><line x1=\"477.419\" y1=\"171.795\" x2=\"479.235\" y2=\"177.808\" stroke-linecap=\"round\" style=\"stroke:red;stroke-width:4\"/><line x1=\"479.235\" y1=\"177.808\" x2=\"481.547\" y2=\"183.648\" stroke-linecap=\"round\" style=\"stroke:red;stroke-width:4\"/><line x1=\"481.547\" y1=\"183.648\" x2=\"484.34\" y2=\"189.274\" stroke-linecap=\"round\" style=\"stroke:red;stroke-width:4\"/><line x1=\"484.34\" y1=\"189.274\" x2=\"487.594\" y2=\"194.647\" stroke-linecap=\"round\" style=\"stroke:red;stroke-width:4\"/><line x1=\"487.594\" y1=\"194.647\" x2=\"491.286\" y2=\"199.729\" stroke-linecap=\"round\" style=\"stroke:red;stroke-width:4\"/><line x1=\"491.286\" y1=\"199.729\" x2=\"495.39\" y2=\"204.484\" stroke-linecap=\"round\" style=\"stroke:red;stroke-width:4\"/><line x1=\"495.39\" y1=\"204.484\" x2=\"499.878\" y2=\"208.879\" stroke-linecap=\"round\" style=\"stroke:red;stroke-width:4\"/><line x1=\"499.878\" y1=\"208.879\" x2=\"504.718\" y2=\"212.883\" stroke-linecap=\"round\" style=\"stroke:red;stroke-width:4\"/><line x1=\"504.718\" y1=\"212.883\" x2=\"509.876\" y2=\"216.468\" stroke-linecap=\"round\" style=\"stroke:red;stroke-width:4\"/><line x1=\"509.876\" y1=\"216.468\" x2=\"515.316\" y2=\"219.609\" stroke-linecap=\"round\" style=\"stroke:red;stroke-width:4\"/><line x1=\"515.316\" y1=\"219.609\" x2=\"521.0\" y2=\"222.283\" stroke-linecap=\"round\" style=\"stroke:red;stroke-width:4\"/><line x1=\"521.0\" y1=\"222.283\" x2=\"526.887\" y2=\"224.473\" stroke-linecap=\"round\" style=\"stroke:red;stroke-width:4\"/><line x1=\"526.887\" y1=\"224.473\" x2=\"532.937\" y2=\"226.162\" stroke-linecap=\"round\" style=\"stroke:red;stroke-width:4\"/><line x1=\"532.937\" y1=\"226.162\" x2=\"539.107\" y2=\"227.339\" stroke-linecap=\"round\" style=\"stroke:red;stroke-width:4\"/><line x1=\"539.107\" y1=\"227.339\" x2=\"545.354\" y2=\"227.996\" stroke-linecap=\"round\" style=\"stroke:red;stroke-width:4\"/><line x1=\"545.354\" y1=\"227.996\" x2=\"551.634\" y2=\"228.128\" stroke-linecap=\"round\" style=\"stroke:red;stroke-width:4\"/><line x1=\"551.634\" y1=\"228.128\" x2=\"557.903\" y2=\"227.734\" stroke-linecap=\"round\" style=\"stroke:red;stroke-width:4\"/><line x1=\"557.903\" y1=\"227.734\" x2=\"564.117\" y2=\"226.816\" stroke-linecap=\"round\" style=\"stroke:red;stroke-width:4\"/><line x1=\"564.117\" y1=\"226.816\" x2=\"570.232\" y2=\"225.382\" stroke-linecap=\"round\" style=\"stroke:red;stroke-width:4\"/><line x1=\"570.232\" y1=\"225.382\" x2=\"576.206\" y2=\"223.441\" stroke-linecap=\"round\" style=\"stroke:red;stroke-width:4\"/><line x1=\"576.206\" y1=\"223.441\" x2=\"581.997\" y2=\"221.007\" stroke-linecap=\"round\" style=\"stroke:red;stroke-width:4\"/><line x1=\"581.997\" y1=\"221.007\" x2=\"587.564\" y2=\"218.097\" stroke-linecap=\"round\" style=\"stroke:red;stroke-width:4\"/><line x1=\"587.564\" y1=\"218.097\" x2=\"592.868\" y2=\"214.731\" stroke-linecap=\"round\" style=\"stroke:red;stroke-width:4\"/><line x1=\"592.868\" y1=\"214.731\" x2=\"597.871\" y2=\"210.933\" stroke-linecap=\"round\" style=\"stroke:red;stroke-width:4\"/><line x1=\"597.871\" y1=\"210.933\" x2=\"602.539\" y2=\"206.73\" stroke-linecap=\"round\" style=\"stroke:red;stroke-width:4\"/><line x1=\"602.539\" y1=\"206.73\" x2=\"606.839\" y2=\"202.151\" stroke-linecap=\"round\" style=\"stroke:red;stroke-width:4\"/><line x1=\"606.839\" y1=\"202.151\" x2=\"610.741\" y2=\"197.228\" stroke-linecap=\"round\" style=\"stroke:red;stroke-width:4\"/><line x1=\"610.741\" y1=\"197.228\" x2=\"614.217\" y2=\"191.996\" stroke-linecap=\"round\" style=\"stroke:red;stroke-width:4\"/><line x1=\"614.217\" y1=\"191.996\" x2=\"617.243\" y2=\"186.492\" stroke-linecap=\"round\" style=\"stroke:red;stroke-width:4\"/><line x1=\"617.243\" y1=\"186.492\" x2=\"619.798\" y2=\"180.754\" stroke-linecap=\"round\" style=\"stroke:red;stroke-width:4\"/><line x1=\"619.798\" y1=\"180.754\" x2=\"621.864\" y2=\"174.822\" stroke-linecap=\"round\" style=\"stroke:red;stroke-width:4\"/><line x1=\"621.864\" y1=\"174.822\" x2=\"623.426\" y2=\"168.738\" stroke-linecap=\"round\" style=\"stroke:red;stroke-width:4\"/><line x1=\"623.426\" y1=\"168.738\" x2=\"624.474\" y2=\"162.545\" stroke-linecap=\"round\" style=\"stroke:red;stroke-width:4\"/><line x1=\"624.474\" y1=\"162.545\" x2=\"625.0\" y2=\"156.286\" stroke-linecap=\"round\" style=\"stroke:red;stroke-width:4\"/><line x1=\"625.0\" y1=\"156.286\" x2=\"625.0\" y2=\"150.005\" stroke-linecap=\"round\" style=\"stroke:red;stroke-width:4\"/>\n",
              "        <g visibility=hidden transform=\"rotate(359.99999999999955,550.0,150.005) translate(532.0, 132.005)\">\n",
              "<path style=\" stroke:none;fill-rule:evenodd;fill:red;fill-opacity:1;\" d=\"M 18.214844 0.632812 C 16.109375 1.800781 15.011719 4.074219 15.074219 7.132812 L 15.085938 7.652344 L 14.785156 7.496094 C 13.476562 6.824219 11.957031 6.671875 10.40625 7.066406 C 8.46875 7.550781 6.515625 9.15625 4.394531 11.992188 C 3.0625 13.777344 2.679688 14.636719 3.042969 15.027344 L 3.15625 15.152344 L 3.519531 15.152344 C 4.238281 15.152344 4.828125 14.886719 8.1875 13.039062 C 9.386719 12.378906 10.371094 11.839844 10.378906 11.839844 C 10.386719 11.839844 10.355469 11.929688 10.304688 12.035156 C 9.832031 13.09375 9.257812 14.820312 8.96875 16.078125 C 7.914062 20.652344 8.617188 24.53125 11.070312 27.660156 C 11.351562 28.015625 11.363281 27.914062 10.972656 28.382812 C 8.925781 30.84375 7.945312 33.28125 8.238281 35.1875 C 8.289062 35.527344 8.28125 35.523438 8.917969 35.523438 C 10.941406 35.523438 13.074219 34.207031 15.136719 31.6875 C 15.359375 31.417969 15.328125 31.425781 15.5625 31.574219 C 16.292969 32.042969 18.023438 32.964844 18.175781 32.964844 C 18.335938 32.964844 19.941406 32.210938 20.828125 31.71875 C 20.996094 31.625 21.136719 31.554688 21.136719 31.558594 C 21.203125 31.664062 21.898438 32.414062 22.222656 32.730469 C 23.835938 34.300781 25.5625 35.132812 27.582031 35.300781 C 27.90625 35.328125 27.9375 35.308594 28.007812 34.984375 C 28.382812 33.242188 27.625 30.925781 25.863281 28.425781 L 25.542969 27.96875 L 25.699219 27.785156 C 28.945312 23.960938 29.132812 18.699219 26.257812 11.96875 L 26.207031 11.84375 L 27.945312 12.703125 C 31.53125 14.476562 32.316406 14.800781 33.03125 14.800781 C 33.976562 14.800781 33.78125 13.9375 32.472656 12.292969 C 28.519531 7.355469 25.394531 5.925781 21.921875 7.472656 L 21.558594 7.636719 L 21.578125 7.542969 C 21.699219 6.992188 21.761719 5.742188 21.699219 5.164062 C 21.496094 3.296875 20.664062 1.964844 19.003906 0.855469 C 18.480469 0.503906 18.457031 0.5 18.214844 0.632812\"/>\n",
              "</g>\n",
              "      </svg>\n",
              "    "
            ],
            "text/plain": [
              "<IPython.core.display.HTML object>"
            ]
          },
          "metadata": {}
        }
      ]
    }
  ]
}