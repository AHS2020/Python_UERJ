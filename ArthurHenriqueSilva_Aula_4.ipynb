{
  "nbformat": 4,
  "nbformat_minor": 0,
  "metadata": {
    "colab": {
      "name": "ArthurHenriqueSilva_Aula_4.ipynb",
      "provenance": [],
      "collapsed_sections": [],
      "authorship_tag": "ABX9TyN5CvdcYb/twWVgfMzBlux+",
      "include_colab_link": true
    },
    "kernelspec": {
      "name": "python3",
      "display_name": "Python 3"
    },
    "language_info": {
      "name": "python"
    }
  },
  "cells": [
    {
      "cell_type": "markdown",
      "metadata": {
        "id": "view-in-github",
        "colab_type": "text"
      },
      "source": [
        "<a href=\"https://colab.research.google.com/github/AHS2020/Python_UERJ/blob/master/ArthurHenriqueSilva_Aula_4.ipynb\" target=\"_parent\"><img src=\"https://colab.research.google.com/assets/colab-badge.svg\" alt=\"Open In Colab\"/></a>"
      ]
    },
    {
      "cell_type": "markdown",
      "metadata": {
        "id": "lLw95iEWzVdr"
      },
      "source": [
        "### Exercício:\n",
        "\n",
        "   1. Escreva uma função com um valor de retorno que:\n",
        "      * tome como _input_ dois argumentos;\n",
        "      * execute a soma dos dois parâmetros que foram passados como argumento e atribua o resultado a uma variável;\n",
        "      * tenha como valor de retorno o dobro da soma dos dois parâmetros."
      ]
    },
    {
      "cell_type": "code",
      "metadata": {
        "colab": {
          "base_uri": "https://localhost:8080/"
        },
        "id": "BT6_wNVH5qd2",
        "outputId": "83dd17dd-b047-4151-895c-8202b944a354"
      },
      "source": [
        "def arg_print_type():\n",
        "    prompt = 'Digite um número ou uma palavra: '\n",
        "    x = input(prompt)\n",
        "    try:\n",
        "        float(x)\n",
        "        f = float(x)\n",
        "        if f==int(f):\n",
        "          f = int(x)\n",
        "          print(f, type(f))\n",
        "        else:\n",
        "          print(f, type(f))\n",
        "\n",
        "    except:\n",
        "        print(x, type(x))\n",
        "\n",
        "    print(' ')\n",
        "\n",
        "    prompt = 'Digite um número ou uma palavra: '\n",
        "    y = input(prompt)\n",
        "    try:\n",
        "        float(y)\n",
        "        g = float(y)\n",
        "        if g==int(g):\n",
        "          g = int(y)\n",
        "          print(g, type(g))\n",
        "        else:\n",
        "          print(g, type(g))\n",
        "\n",
        "    except:\n",
        "        print(y, type(y))\n",
        "    \n",
        "    print(' ')\n",
        "\n",
        "    try:\n",
        "      z = f + g\n",
        "      print(2*z)\n",
        "\n",
        "    except:\n",
        "      z = x + y\n",
        "      print(z, ' ', z)\n",
        "\n",
        "print(' ')\n",
        "arg_print_type()\n",
        "print(' ')\n",
        "arg_print_type()"
      ],
      "execution_count": null,
      "outputs": [
        {
          "output_type": "stream",
          "name": "stdout",
          "text": [
            " \n",
            "Digite um número ou uma palavra: 10\n",
            "10 <class 'int'>\n",
            " \n",
            "Digite um número ou uma palavra: 20\n",
            "20 <class 'int'>\n",
            " \n",
            "60\n",
            " \n",
            "Digite um número ou uma palavra: 10\n",
            "10 <class 'int'>\n",
            " \n",
            "Digite um número ou uma palavra: Banana\n",
            "Banana <class 'str'>\n",
            " \n",
            "10Banana   10Banana\n"
          ]
        }
      ]
    },
    {
      "cell_type": "markdown",
      "metadata": {
        "id": "RCEh9ELv5fLs"
      },
      "source": [
        " 2. Um objeto de função é um valor que você pode atribuir a uma variável ou passar como um argumento. Por exemplo, ```do_twice``` é uma função que usa um objeto de função como argumento e o chama duas vezes:\n"
      ]
    },
    {
      "cell_type": "code",
      "metadata": {
        "id": "woArOSSNzVds"
      },
      "source": [
        "def do_twice (f): \n",
        "    f () \n",
        "    f ()"
      ],
      "execution_count": null,
      "outputs": []
    },
    {
      "cell_type": "markdown",
      "metadata": {
        "id": "lbP8VjuQzVdu"
      },
      "source": [
        "Aqui está um exemplo que usa ```do_twice``` para chamar uma função chamada ```print_spam``` duas vezes.\n"
      ]
    },
    {
      "cell_type": "code",
      "metadata": {
        "id": "-h-QwkrvzVdw",
        "colab": {
          "base_uri": "https://localhost:8080/"
        },
        "outputId": "de1ae636-bb28-4cc5-d387-3164986268d0"
      },
      "source": [
        "def print_spam (): \n",
        "    print('spam') \n",
        "\n",
        "do_twice (print_spam)"
      ],
      "execution_count": null,
      "outputs": [
        {
          "output_type": "stream",
          "name": "stdout",
          "text": [
            "spam\n",
            "spam\n"
          ]
        }
      ]
    },
    {
      "cell_type": "markdown",
      "metadata": {
        "id": "DL4IUvnOzVdz"
      },
      "source": [
        "Para este exercício :\n",
        "\n",
        "  a. Digite este exemplo em um script e teste-o.\n",
        "\n",
        "  "
      ]
    },
    {
      "cell_type": "code",
      "metadata": {
        "colab": {
          "base_uri": "https://localhost:8080/"
        },
        "id": "s-F5OfT26Gys",
        "outputId": "3e33a2a5-fe75-45ee-ae27-f2b45b04369a"
      },
      "source": [
        "def do_twice (f): \n",
        "    f () \n",
        "    f ()\n",
        "\n",
        "def print_spam (): \n",
        "    print('spam') \n",
        "\n",
        "do_twice (print_spam)"
      ],
      "execution_count": null,
      "outputs": [
        {
          "output_type": "stream",
          "name": "stdout",
          "text": [
            "spam\n",
            "spam\n"
          ]
        }
      ]
    },
    {
      "cell_type": "markdown",
      "metadata": {
        "id": "JIq77vQr6HF1"
      },
      "source": [
        "b. Modifique ```do_twice``` para que sejam necessários dois argumentos, um objeto de função ``f`` e um valor ``x``, e chame a função duas vezes, passando o valor como um argumento.\n"
      ]
    },
    {
      "cell_type": "code",
      "metadata": {
        "colab": {
          "base_uri": "https://localhost:8080/"
        },
        "id": "R_gPSU5R6M79",
        "outputId": "06564ebd-917b-42f9-8d84-01ebf33a29a7"
      },
      "source": [
        "def do_twice (g,x): \n",
        "  g (x)\n",
        "  g (x)\n",
        "\n",
        "\n",
        "def print_spam (x):  \n",
        "    print(x) \n",
        "\n",
        "x = 'spam'\n",
        "do_twice (print_spam, x)"
      ],
      "execution_count": null,
      "outputs": [
        {
          "output_type": "stream",
          "name": "stdout",
          "text": [
            "spam\n",
            "spam\n"
          ]
        }
      ]
    },
    {
      "cell_type": "markdown",
      "metadata": {
        "id": "2A5xd3J06Jdp"
      },
      "source": [
        "  c. Escreva uma versão mais geral de ```print_spam```, chamada ```print_twice```, que use uma _string_ como parâmetro e imprima duas vezes.\n",
        "\n"
      ]
    },
    {
      "cell_type": "code",
      "metadata": {
        "colab": {
          "base_uri": "https://localhost:8080/"
        },
        "id": "j_icEJIN6PuS",
        "outputId": "75ab7794-b481-4394-c41c-2735270f3103"
      },
      "source": [
        "def do_twice (h,y): \n",
        "  h (y)\n",
        "  h (y)\n",
        "\n",
        "\n",
        "def print_twice (y):  \n",
        "    print(y) \n",
        "    print(y) \n",
        "\n",
        "y = 'spam'\n",
        "do_twice (print_twice, y)"
      ],
      "execution_count": null,
      "outputs": [
        {
          "output_type": "stream",
          "name": "stdout",
          "text": [
            "spam\n",
            "spam\n",
            "spam\n",
            "spam\n"
          ]
        }
      ]
    },
    {
      "cell_type": "markdown",
      "metadata": {
        "id": "3Q9reLZs6QBK"
      },
      "source": [
        "  d. Use a versão modificada (no item b) de ``` do_twice``` para chamar ```print_twice``` duas vezes, passando ```'spam'``` como um argumento."
      ]
    },
    {
      "cell_type": "code",
      "metadata": {
        "colab": {
          "base_uri": "https://localhost:8080/"
        },
        "id": "RUOhUgCf6R1R",
        "outputId": "c1e39128-444b-4fe8-bcc1-663a241a2900"
      },
      "source": [
        "def do_twice (j,z): \n",
        "  j (z)\n",
        "  j (z)\n",
        "\n",
        "\n",
        "def print_twice (z):  \n",
        "    print(z) \n",
        "    print(z) \n",
        "\n",
        "z = 'spam'\n",
        "do_twice (print_twice, z)"
      ],
      "execution_count": null,
      "outputs": [
        {
          "output_type": "stream",
          "name": "stdout",
          "text": [
            "spam\n",
            "spam\n",
            "spam\n",
            "spam\n"
          ]
        }
      ]
    },
    {
      "cell_type": "markdown",
      "metadata": {
        "id": "B90kfm2W6SHH"
      },
      "source": [
        "  e. Defina uma nova função chamada ```do_four``` que recebe um objeto de função e um valor e chama a função ___quatro___ vezes, passando o valor como um parâmetro. Deve haver apenas duas declarações no corpo desta função, e não quatro."
      ]
    },
    {
      "cell_type": "code",
      "metadata": {
        "colab": {
          "base_uri": "https://localhost:8080/"
        },
        "id": "pPAM7I3l6oh5",
        "outputId": "118a4cff-26cf-46be-fc42-b494328662a0"
      },
      "source": [
        "def do_four (k,w): \n",
        "  do_twice (k,w)\n",
        "  do_twice (k,w)\n",
        "\n",
        "def do_twice (k,w): \n",
        "  k (w)\n",
        "  k (w)\n",
        "\n",
        "def print_twice (w):  \n",
        "    print(w) \n",
        "    print(w) \n",
        "\n",
        "w = 'spam'\n",
        "do_four (print_twice,w)"
      ],
      "execution_count": null,
      "outputs": [
        {
          "output_type": "stream",
          "name": "stdout",
          "text": [
            "spam\n",
            "spam\n",
            "spam\n",
            "spam\n",
            "spam\n",
            "spam\n",
            "spam\n",
            "spam\n"
          ]
        }
      ]
    }
  ]
}