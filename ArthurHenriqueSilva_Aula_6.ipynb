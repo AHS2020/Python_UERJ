{
  "nbformat": 4,
  "nbformat_minor": 0,
  "metadata": {
    "colab": {
      "name": "ArthurHenriqueSilva_Aula_6.ipynb",
      "provenance": [],
      "collapsed_sections": [],
      "authorship_tag": "ABX9TyMuq0Ja4IL7YPt2qOmLmG5c",
      "include_colab_link": true
    },
    "kernelspec": {
      "name": "python3",
      "display_name": "Python 3"
    },
    "language_info": {
      "name": "python"
    }
  },
  "cells": [
    {
      "cell_type": "markdown",
      "metadata": {
        "id": "view-in-github",
        "colab_type": "text"
      },
      "source": [
        "<a href=\"https://colab.research.google.com/github/AHS2020/Python_UERJ/blob/master/ArthurHenriqueSilva_Aula_6.ipynb\" target=\"_parent\"><img src=\"https://colab.research.google.com/assets/colab-badge.svg\" alt=\"Open In Colab\"/></a>"
      ]
    },
    {
      "cell_type": "markdown",
      "metadata": {
        "id": "7xJo458eRIz_"
      },
      "source": [
        "### Exercícios\n",
        "\n",
        "1. Considere o seguinte script:"
      ]
    },
    {
      "cell_type": "code",
      "metadata": {
        "id": "vB4IycDrhrGa"
      },
      "source": [
        "import turtle\n",
        "\n",
        "def draw_bar(t, height):\n",
        "    \"\"\" Get turtle t to draw one bar, of height. \"\"\"\n",
        "    t.left(90)\n",
        "    t.forward(height)\n",
        "    t.right(90)\n",
        "    t.forward(40)\n",
        "    t.right(90)\n",
        "    t.forward(height)\n",
        "    t.left(90)\n",
        "    t.forward(10)\n",
        "    #t.leftt(90)\n",
        "\n",
        "tess = turtle.Turtle() #instanciação\n",
        "jn = turtle.Screen()\n",
        "\n",
        "tess.color(\"blue\")\n",
        "jn.bgcolor(\"white\")\n",
        "tess.penup() #levantar a caneta\n",
        "tess.goto(-200,-150) #mudar posicao de inicio \n",
        "tess.pendown() #abaixar a caneta\n",
        "\n",
        "xs = [48,117,200,240,160,260,220]\n",
        "\n",
        "for a in xs:\n",
        "    draw_bar(tess, a)"
      ],
      "execution_count": null,
      "outputs": []
    },
    {
      "cell_type": "markdown",
      "metadata": {
        "id": "7UXSE3AaRI0H"
      },
      "source": [
        "a) Modifique-o para que o resultado seja um **histograma**, como o mostrado na figura abaixo.\n",
        "Amplie seu script para que seja possível passar ao programa dados (frequência), com o valor do bin (classe de frequência) e cores determinados pelo usuário.\n",
        "\n",
        "\n",
        "Adicione declarações condicionais à função para casos passíveis de gerar erros, como por exemplo, se alguma variável do argumento da função não for definida.\n",
        "\n",
        "***Exemplo***: Generalize sua função para tomar como argumento uma lista que contenha as frequências do histograma e verifique que o argumento realmente é uma lista. Caso não seja, imprima uma mensagem de erro.\n",
        "\n",
        "![](https://raw.githubusercontent.com/malbouis/Python_intro/master/aulas_2019/pics/histo.png)"
      ]
    },
    {
      "cell_type": "code",
      "metadata": {
        "id": "gvMRRRBaAGdo"
      },
      "source": [
        "import turtle\n",
        "\n",
        "def draw_bar(t, lista):\n",
        "  for a in lista:\n",
        "    t.begin_fill()\n",
        "    t.left(90)\n",
        "    t.forward(a)\n",
        "    t.right(90)\n",
        "    t.forward(40)\n",
        "    t.right(90)\n",
        "    t.forward(a)\n",
        "    t.left(90)\n",
        "    t.forward(1)\n",
        "    t.end_fill()\n",
        "\n",
        "def draw_ind(t, lista):\n",
        "  t.goto(-150,-150)\n",
        "  t.fillcolor(c_ind)\n",
        "  t.forward(3)\n",
        "  for a in lista:\n",
        "    t.penup()\n",
        "    t.left(90)\n",
        "    t.forward(a)\n",
        "    t.forward(3)\n",
        "    t.pendown()\n",
        "    t.write(a)\n",
        "    t.penup()\n",
        "    t.backward(3)\n",
        "    t.right(90)\n",
        "    t.forward(40)\n",
        "    t.right(90)\n",
        "    t.forward(a)\n",
        "    t.left(90)\n",
        "    t.forward(1)\n",
        "    t.pendown()\n",
        "\n",
        "tess = turtle.Turtle() #instanciação\n",
        "jn = turtle.Screen()\n",
        "\n",
        "print(\"As cores são encontradas em:\")\n",
        "print(\"https://www.tcl.tk/man/tcl8.4/TkCmd/colors.html\")\n",
        "\n",
        "print(' ')\n",
        "\n",
        "c_lin = input(\"Diga a cor das linhas: \")\n",
        "c_col = input(\"Diga a cor das colunas: \")\n",
        "c_ind = input(\"Diga a cor dos indices: \")\n",
        "c_fun = input(\"Diga a cor do fundo: \")\n",
        "\n",
        "tess.color(c_lin)\n",
        "tess.fillcolor(c_col)\n",
        "jn.bgcolor(c_fun)\n",
        "tess.speed(10)\n",
        "tess.pensize(2)\n",
        "tess.penup() #levantar a caneta\n",
        "tess.goto(-150,-150) #mudar posicao de inicio \n",
        "tess.pendown() #abaixar a caneta\n",
        "\n",
        "#xs = [48,117,200,240,160,260,220]\n",
        "\n",
        "n = int(input('Digite o número de itens na lista: '))\n",
        "xs = list()\n",
        "\n",
        "for a in range(1, n + 1):\n",
        "    x = input(f\"Digite o {a}º item: \")\n",
        "    xs.append(x)\n",
        "\n",
        "if type(xs) is list:\n",
        "  print(type(xs))\n",
        "else:\n",
        "  print(\"Não foi possível criar a lista\")\n",
        "  exit()\n",
        "\n",
        "\n",
        "draw_bar(tess, xs)\n",
        "draw_ind(tess, xs)\n"
      ],
      "execution_count": null,
      "outputs": []
    },
    {
      "cell_type": "markdown",
      "metadata": {
        "id": "9bgkVu2v_9xM"
      },
      "source": [
        "b) Repita o exercício 1) usando **Manipulação de exceção em Python** (pesquisem!!!!), com as cláusulas ```try``` e ```except```.  <=== **A ser apresentado em sala de aula**."
      ]
    },
    {
      "cell_type": "code",
      "metadata": {
        "id": "fLJ4aktFt-Ss"
      },
      "source": [
        "import turtle\n",
        "\n",
        "def draw_bar(t, lista):\n",
        "  for a in lista:\n",
        "    t.begin_fill()\n",
        "    t.left(90)\n",
        "    t.forward(a)\n",
        "    t.right(90)\n",
        "    t.forward(40)\n",
        "    t.right(90)\n",
        "    t.forward(a)\n",
        "    t.left(90)\n",
        "    t.forward(1)\n",
        "    t.end_fill()\n",
        "\n",
        "def draw_ind(t, lista):\n",
        "  t.goto(-150,-150)\n",
        "  t.fillcolor(c_ind)\n",
        "  t.forward(3)\n",
        "  for a in lista:\n",
        "    t.penup()\n",
        "    t.left(90)\n",
        "    t.forward(a)\n",
        "    t.forward(3)\n",
        "    t.pendown()\n",
        "    t.write(str(a))\n",
        "    t.penup()\n",
        "    t.backward(3)\n",
        "    t.right(90)\n",
        "    t.forward(40)\n",
        "    t.right(90)\n",
        "    t.forward(a)\n",
        "    t.left(90)\n",
        "    t.forward(1)\n",
        "    t.pendown()\n",
        "\n",
        "tess = turtle.Turtle() #instanciação\n",
        "jn = turtle.Screen()\n",
        "\n",
        "print(\"As cores são encontradas em:\")\n",
        "print(\"https://www.tcl.tk/man/tcl8.4/TkCmd/colors.html\")\n",
        "\n",
        "print(' ')\n",
        "\n",
        "c_lin = input(\"Diga a cor das linhas: \")\n",
        "c_col = input(\"Diga a cor das colunas: \")\n",
        "c_ind = input(\"Diga a cor dos indices: \")\n",
        "c_fun = input(\"Diga a cor do fundo: \")\n",
        "\n",
        "print(' ')\n",
        "\n",
        "tess.color(c_lin)\n",
        "tess.fillcolor(c_col)\n",
        "jn.bgcolor(c_fun)\n",
        "tess.speed(10)\n",
        "tess.pensize(2)\n",
        "tess.penup() #levantar a caneta\n",
        "tess.goto(-150,-150) #mudar posicao de inicio \n",
        "tess.pendown() #abaixar a caneta\n",
        "\n",
        "#xs = [48,117,200,240,160,260,220]\n",
        "\n",
        "print('Criando uma lista de números inteiros!')\n",
        "\n",
        "n = int(input('Digite o número de itens na lista: '))\n",
        "xs = list()\n",
        "\n",
        "for a in range(1, n + 1):\n",
        "  try:\n",
        "    x = int(input(f\"Digite o {a}º item: \"))\n",
        "    xs.append(x)\n",
        "  except:\n",
        "    b = True\n",
        "    while  b == True:\n",
        "      print(\"Houve um erro na tentativa de introduzir o item na lista.\")\n",
        "      try:\n",
        "        x = int(input(f\"Digite o {a}º item: \"))\n",
        "        xs.append(x)\n",
        "        b = False\n",
        "      except:\n",
        "        b = True\n",
        "\n",
        "if type(xs) is list:\n",
        "  print(type(xs))\n",
        "else:\n",
        "  print(\"Não foi possível criar a lista\")\n",
        "  exit()\n",
        "\n",
        "\n",
        "draw_bar(tess, xs)\n",
        "draw_ind(tess, xs)"
      ],
      "execution_count": null,
      "outputs": []
    },
    {
      "cell_type": "markdown",
      "metadata": {
        "id": "_N-rNNHy_97z"
      },
      "source": [
        "c) **Desafio**: Faça um programa equivalente ao do item 1., utilizando ***matplotlib*** e ***numpy*** ao invés de ***turtle***"
      ]
    },
    {
      "cell_type": "code",
      "metadata": {
        "colab": {
          "base_uri": "https://localhost:8080/",
          "height": 542
        },
        "id": "pehAjbbqytnO",
        "outputId": "e4646643-c686-4f19-a367-563383878cfd"
      },
      "source": [
        "import matplotlib.pyplot as plt\n",
        "import numpy as np\n",
        "\n",
        "print('Criando uma lista de números inteiros!')\n",
        "\n",
        "print(' ')\n",
        "\n",
        "c_lin = input(\"Diga a cor das linhas: \")\n",
        "c_col = input(\"Diga a cor das colunas: \")\n",
        "c_ind = input(\"Diga a cor dos indices: \")\n",
        "c_fun = input(\"Diga a cor do fundo: \")\n",
        "\n",
        "print(' ')\n",
        "\n",
        "n = int(input('Digite o número de itens na lista: '))\n",
        "xs = list()\n",
        "\n",
        "for a in range(1, n + 1):\n",
        "  try:\n",
        "    x = int(input(f\"Digite o {a}º item: \"))\n",
        "    xs.append(x)\n",
        "  except:\n",
        "    b = True\n",
        "    while  b == True:\n",
        "      print(\"Houve um erro na tentativa de introduzir o item na lista.\")\n",
        "      try:\n",
        "        x = int(input(f\"Digite o {a}º item: \"))\n",
        "        xs.append(x)\n",
        "        b = False\n",
        "      except:\n",
        "        b = True\n",
        "\n",
        "#xs = [48,117,200,240,160,260,220]\n",
        "\n",
        "b = np.arange(n)\n",
        "\n",
        "plt.bar(b, xs, width=1, color=c_col, edgecolor=c_lin)\n",
        "plt.rcParams['figure.facecolor'] = c_fun\n",
        "plt.axis(\"off\")\n",
        "\n",
        "for i, v in enumerate(xs):\n",
        "    plt.text(i - .5, v + 3, str(v), color=c_ind, fontweight='bold')\n",
        "\n",
        "print(' ')\n",
        "\n",
        "plt.show()"
      ],
      "execution_count": 2,
      "outputs": [
        {
          "output_type": "stream",
          "name": "stdout",
          "text": [
            "Criando uma lista de números inteiros!\n",
            " \n",
            "Diga a cor das linhas: blue\n",
            "Diga a cor das colunas: red\n",
            "Diga a cor dos indices: blue\n",
            "Diga a cor do fundo: pink\n",
            " \n",
            "Digite o número de itens na lista: 7\n",
            "Digite o 1º item: 48\n",
            "Digite o 2º item: 117\n",
            "Digite o 3º item: 200\n",
            "Digite o 4º item: 240\n",
            "Digite o 5º item: 160\n",
            "Digite o 6º item: 260\n",
            "Digite o 7º item: 220\n",
            " \n"
          ]
        },
        {
          "output_type": "display_data",
          "data": {
            "image/png": "[encoded data removed]",
            "text/plain": [
              "<Figure size 432x288 with 1 Axes>"
            ]
          },
          "metadata": {
            "needs_background": "light"
          }
        }
      ]
    }
  ]
}