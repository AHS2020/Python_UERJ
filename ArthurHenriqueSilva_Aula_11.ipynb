{
  "nbformat": 4,
  "nbformat_minor": 0,
  "metadata": {
    "colab": {
      "name": "ArthurHenriqueSilva_Aula_11.ipynb",
      "provenance": [],
      "collapsed_sections": [],
      "authorship_tag": "ABX9TyOGqVvEli2mk236v7mVfIqJ",
      "include_colab_link": true
    },
    "kernelspec": {
      "name": "python3",
      "display_name": "Python 3"
    },
    "language_info": {
      "name": "python"
    }
  },
  "cells": [
    {
      "cell_type": "markdown",
      "metadata": {
        "id": "view-in-github",
        "colab_type": "text"
      },
      "source": [
        "<a href=\"https://colab.research.google.com/github/AHS2020/Python_UERJ/blob/master/ArthurHenriqueSilva_Aula_11.ipynb\" target=\"_parent\"><img src=\"https://colab.research.google.com/assets/colab-badge.svg\" alt=\"Open In Colab\"/></a>"
      ]
    },
    {
      "cell_type": "markdown",
      "metadata": {
        "id": "rDXrBE-d7Nky"
      },
      "source": [
        "## Exercícios:\n",
        "\n",
        "1. Utilizando dicionários e o método `get` dos dicionários, contrua a seguinte matriz em Python e acesse os valores de índices (0,3), (2,1), (4,3) e (2,2).\n",
        "![matrix](https://github.com/malbouis/Python_intro/blob/master/aulas_2019/pics/matrix_aula12.png?raw=1)"
      ]
    },
    {
      "cell_type": "code",
      "metadata": {
        "id": "aNASwy3pvpX6"
      },
      "source": [
        "matriz = {}\n",
        "matriz[(0,0)] = 0\n",
        "matriz[(0,1)] = 0\n",
        "matriz[(0,2)] = 0\n",
        "matriz[(0,3)] = 1\n",
        "matriz[(0,4)] = 0\n",
        "matriz[(1,0)] = 0\n",
        "matriz[(1,1)] = 0\n",
        "matriz[(1,2)] = 0\n",
        "matriz[(1,3)] = 0\n",
        "matriz[(1,4)] = 0\n",
        "matriz[(2,0)] = 0\n",
        "matriz[(2,1)] = 2\n",
        "matriz[(2,2)] = 0\n",
        "matriz[(2,3)] = 0\n",
        "matriz[(2,4)] = 0\n",
        "matriz[(3,0)] = 0\n",
        "matriz[(3,1)] = 0\n",
        "matriz[(3,2)] = 0\n",
        "matriz[(3,3)] = 0\n",
        "matriz[(3,4)] = 0\n",
        "matriz[(4,0)] = 0\n",
        "matriz[(4,1)] = 0\n",
        "matriz[(4,2)] = 0\n",
        "matriz[(4,3)] = 3\n",
        "matriz[(4,4)] = 0"
      ],
      "execution_count": 6,
      "outputs": []
    },
    {
      "cell_type": "code",
      "metadata": {
        "colab": {
          "base_uri": "https://localhost:8080/"
        },
        "id": "ZiYu4yqe4etJ",
        "outputId": "16eb2011-58cf-45ff-b5ef-9ff7f31bcf5e"
      },
      "source": [
        "a = matriz.get((0,3))\n",
        "b = matriz.get((2,1))\n",
        "c = matriz.get((4,3))\n",
        "d = matriz.get((2,2))\n",
        "print(a,b,c,d)"
      ],
      "execution_count": 8,
      "outputs": [
        {
          "output_type": "stream",
          "name": "stdout",
          "text": [
            "1 2 3 0\n"
          ]
        }
      ]
    },
    {
      "cell_type": "markdown",
      "metadata": {
        "id": "Uq6sTtnq7Nky"
      },
      "source": [
        "2. Contagem de Letras. \n",
        "\n",
        "  a.  Utilizando dicionários, escreva uma função que tome como argumento uma palavra (string) e  retorne um dicionário que tenha como ***key*** cada  letra da  palavra e como ***valor*** o número de vezes que ela aparece na palavra. Tal dicionário é chamado de **tabela de frequência**. ***Dica***: Utilize novamente o método `get` dos dicionários."
      ]
    },
    {
      "cell_type": "code",
      "metadata": {
        "colab": {
          "base_uri": "https://localhost:8080/"
        },
        "id": "r7yYiKkd5xVq",
        "outputId": "36ce9708-29bb-4d7d-bb0e-3ba282f4c5ae"
      },
      "source": [
        "def dici():\n",
        "\n",
        "  x = input('Escreva uma palavra: ')\n",
        "\n",
        "  print(' ')\n",
        "  \n",
        "  dicionário = {}\n",
        "\n",
        "  for i in range(len(x)):\n",
        "    if i == 0:\n",
        "      dicionário[x[i]] = 1\n",
        "    else:\n",
        "      a = dicionário.get(x[i])\n",
        "      if a == None:\n",
        "        dicionário[x[i]] = 1\n",
        "      elif a >= 1:\n",
        "        b = a + 1\n",
        "        dicionário[x[i]] = b \n",
        "\n",
        "  LIST = dicionário.keys()\n",
        "  LIST_Ord = sorted(LIST)\n",
        "\n",
        "  dicionário2 = {}\n",
        "\n",
        "  for i in range(len(LIST_Ord)):\n",
        "    dicionário2[LIST_Ord[i]] =  dicionário[LIST_Ord[i]]\n",
        "\n",
        "  print(dicionário2)\n",
        "\n",
        "dici()"
      ],
      "execution_count": 33,
      "outputs": [
        {
          "output_type": "stream",
          "name": "stdout",
          "text": [
            "Escreva uma palavra: paralelepipedo\n",
            " \n",
            "{'a': 2, 'd': 1, 'e': 3, 'i': 1, 'l': 2, 'o': 1, 'p': 3, 'r': 1}\n"
          ]
        }
      ]
    },
    {
      "cell_type": "markdown",
      "metadata": {
        "id": "xqIz1Lhg5pjQ"
      },
      "source": [
        "  b.  Utilizando os métodos `sort` (referente a listas) e `items` (referente a dicionários), imprima na tela uma lista ordenada alfabeticamente da tabela de frequência obtida no item a.*texto em itálico*"
      ]
    },
    {
      "cell_type": "code",
      "metadata": {
        "id": "WBI8xAqHvryW",
        "colab": {
          "base_uri": "https://localhost:8080/"
        },
        "outputId": "bd3dfe5c-e2a4-4aaa-c236-3891f4995dbf"
      },
      "source": [
        "def dici():\n",
        "\n",
        "  x = input('Escreva uma palavra: ')\n",
        "\n",
        "  print(' ')\n",
        "  \n",
        "  dicionário = {}\n",
        "\n",
        "  for i in range(len(x)):\n",
        "    if i == 0:\n",
        "      dicionário[x[i]] = 1\n",
        "    else:\n",
        "      a = dicionário.get(x[i])\n",
        "      if a == None:\n",
        "        dicionário[x[i]] = 1\n",
        "      elif a >= 1:\n",
        "        b = a + 1\n",
        "        dicionário[x[i]] = b \n",
        "\n",
        "  LIST = dicionário.keys()\n",
        "  LIST_Ord = sorted(LIST)\n",
        "\n",
        "  dicionário2 = {}\n",
        "\n",
        "  for i in range(len(LIST_Ord)):\n",
        "    dicionário2[LIST_Ord[i]] =  dicionário[LIST_Ord[i]]\n",
        "  \n",
        "  for (k,v) in dicionário2.items():\n",
        "    print(k,v)\n",
        "\n",
        "dici()"
      ],
      "execution_count": 35,
      "outputs": [
        {
          "output_type": "stream",
          "name": "stdout",
          "text": [
            "Escreva uma palavra: paralelepipedo\n",
            " \n",
            "a 2\n",
            "d 1\n",
            "e 3\n",
            "i 1\n",
            "l 2\n",
            "o 1\n",
            "p 3\n",
            "r 1\n"
          ]
        }
      ]
    },
    {
      "cell_type": "markdown",
      "metadata": {
        "id": "XO898Foq7Nkz"
      },
      "source": [
        "3. Escreva um programa que leia uma string e retorne uma tabela das letras do alfabeto em ordem alfabética que ocorrem na string junto com o número de vezes que cada letra ocorre. Deve ser ignorado se a letra ocorre em maiúscula ou minúscula (contar da mesma forma \"A\" e \"a\"). Um exemplo de saída do programa quando o usuário digita os dados “ThiS is String with Upper and lower case Letters”, seria o seguinte:\n",
        "\n",
        "a  2\n",
        "\n",
        "c  1\n",
        "\n",
        "\n",
        "d  1\n",
        "\n",
        "\n",
        "e  5\n",
        "\n",
        "\n",
        "g  1\n",
        "\n",
        "\n",
        "h  2\n",
        "\n",
        "\n",
        "i  4\n",
        "\n",
        "\n",
        "l  2\n",
        "\n",
        "\n",
        "n  2\n",
        "\n",
        "\n",
        "o  1\n",
        "\n",
        "\n",
        "p  2\n",
        "\n",
        "\n",
        "r  4\n",
        "\n",
        "\n",
        "s  5\n",
        "\n",
        "\n",
        "t  5\n",
        "\n",
        "\n",
        "u  1\n",
        "\n",
        "\n",
        "w  2"
      ]
    },
    {
      "cell_type": "code",
      "metadata": {
        "id": "dNwLhb-UvsPO",
        "colab": {
          "base_uri": "https://localhost:8080/"
        },
        "outputId": "39fff797-edd2-4f1c-9418-0952cc100466"
      },
      "source": [
        "def dici():\n",
        "\n",
        "  x = input('Escreva uma palavra: ')\n",
        "\n",
        "  print(' ')\n",
        "  \n",
        "  x = ''.join(  i.lower() for i  in x.split()  )\n",
        "\n",
        "  dicionário = {}\n",
        "\n",
        "  for i in range(len(x)):\n",
        "    if i == 0:\n",
        "      dicionário[x[i]] = 1\n",
        "    else:\n",
        "      a = dicionário.get(x[i])\n",
        "      if a == None:\n",
        "        dicionário[x[i]] = 1\n",
        "      elif a >= 1:\n",
        "        b = a + 1\n",
        "        dicionário[x[i]] = b \n",
        "\n",
        "  LIST = dicionário.keys()\n",
        "  LIST_Ord = sorted(LIST)\n",
        "\n",
        "  dicionário2 = {}\n",
        "\n",
        "  for i in range(len(LIST_Ord)):\n",
        "    dicionário2[LIST_Ord[i]] =  dicionário[LIST_Ord[i]]\n",
        "  \n",
        "  for (k,v) in dicionário2.items():\n",
        "    print(k,v)\n",
        "\n",
        "dici()"
      ],
      "execution_count": 38,
      "outputs": [
        {
          "output_type": "stream",
          "name": "stdout",
          "text": [
            "Escreva uma palavra: ThiS is String with Upper and lower case Letters\n",
            " \n",
            "a 2\n",
            "c 1\n",
            "d 1\n",
            "e 5\n",
            "g 1\n",
            "h 2\n",
            "i 4\n",
            "l 2\n",
            "n 2\n",
            "o 1\n",
            "p 2\n",
            "r 4\n",
            "s 5\n",
            "t 5\n",
            "u 1\n",
            "w 2\n"
          ]
        }
      ]
    }
  ]
}