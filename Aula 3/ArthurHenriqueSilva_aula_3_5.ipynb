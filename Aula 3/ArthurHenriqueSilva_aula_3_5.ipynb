{
  "nbformat": 4,
  "nbformat_minor": 0,
  "metadata": {
    "colab": {
      "name": "ArthurHenriqueSilva_aula_3_5.ipynb",
      "provenance": [],
      "authorship_tag": "ABX9TyODwf0sUq6Knz2BXWruWS1/",
      "include_colab_link": true
    },
    "kernelspec": {
      "name": "python3",
      "display_name": "Python 3"
    }
  },
  "cells": [
    {
      "cell_type": "markdown",
      "metadata": {
        "id": "view-in-github",
        "colab_type": "text"
      },
      "source": [
        "<a href=\"https://colab.research.google.com/github/AHS2020/Python_UERJ/blob/master/Aula%203/ArthurHenriqueSilva_aula_3_5.ipynb\" target=\"_parent\"><img src=\"https://colab.research.google.com/assets/colab-badge.svg\" alt=\"Open In Colab\"/></a>"
      ]
    },
    {
      "cell_type": "code",
      "metadata": {
        "id": "E_XRwQyRqTs0",
        "outputId": "41d39cdb-9f3c-4420-86bb-56405671f6b6",
        "colab": {
          "base_uri": "https://localhost:8080/",
          "height": 541
        }
      },
      "source": [
        "print()\n",
        "\n",
        "print('Aluno - Arthur Henrique Silva')\n",
        "print('Aula - 3')\n",
        "print('Exercício - 5')\n",
        "\n",
        "print()\n",
        "\n",
        "def fun_1():\n",
        "\tprint('''\t   Calcule o seu IMC = M\\u2215A\\u00B2 (com a massa em Kg e a altura em metros). Um valor saudável estara, em geral, entre 20-25.''')\n",
        "\tprint()\n",
        "\tx = float(input('Digite sua massa em Kg: '))\n",
        "\tprint()\n",
        "\ty = float(input('Digite sua altura em metros: '))\n",
        "\tprint()\n",
        "\tprint(f'Seu IMC é {x/y**2:.01f}')\n",
        "\n",
        "def fun_2():\n",
        "\timport math as mt\n",
        "\tprint(f'O volume de uma esfera de raio r é (4/3)\\U0001D70Br³')\n",
        "\tx= float(input('Digite o valor de r em cm: '))\n",
        "\tV = (4/3)*mt.pi*(x**3)\n",
        "\tprint(f'Se r= {x:.02f} cm então o volume V= {V:.02f} cm³')\n",
        "\n",
        "def fun_3():\n",
        "\tprint('Pergunta:')\n",
        "\tprint('''Um laser vermelho (com comprimento de onda \\U0001D706) incide em uma fenda dupla produzindo um padrão de interferência com franjas claras e escuras, em um anteparo situado a uma distância D da fenda. Calcule a distância \\u0394y entre dois máximos consecutivos de interferência. Considere o espaçamento entre as fendas, d.''')\n",
        "\tprint()\n",
        "\tl= float(input('Digite o valor de \\U0001D706 em nm: ')) \n",
        "\tprint()\n",
        "\tD= float(input('Digite o valor de D em m: '))\n",
        "\tprint()\n",
        "\td= float(input('Digite o valor de d em mm: '))\n",
        "\tprint()\n",
        "\tprint('Resposta:')\n",
        "\tprint(f'''Como a distância entre dois máximos de interferência consecutivos pode ser aproximada por \\u0394y = \\U0001D706D\\u2215d, pode-se subistituir os valores na equação obtendo \\u0394y = \\U0001D706\\u00D710\\u207B\\u2079\\u00D7D\\u2215d\\u00D710\\u207B\\u2076 = {(l*(10**(-9))*D)/(d*(10**(-6))):.02f} mm.''')\n",
        "\tprint()\n",
        "\n",
        "fun_1()\n",
        "print()\n",
        "fun_2()\n",
        "print()\n",
        "fun_3()\n",
        "\n",
        "\n",
        "#Division slash = \\u2215\n",
        "#Superscript two = \\u00B2\n",
        "# Pi= \\U0001D70B\n",
        "#lambda = \\U0001D706\n",
        "#Lambda = \\u039B\n",
        "#delta = \\u1E9F\n",
        "#Delta = \\u0394\n",
        "#Multiplication sign = \\u00D7\n",
        "#Superscript nine = \\u2079"
      ],
      "execution_count": 5,
      "outputs": [
        {
          "output_type": "stream",
          "text": [
            "\n",
            "Aluno - Arthur Henrique Silva\n",
            "Aula - 3\n",
            "Exercício - 5\n",
            "\n",
            "\t   Calcule o seu IMC = M∕A² (com a massa em Kg e a altura em metros). Um valor saudável estara, em geral, entre 20-25.\n",
            "\n",
            "Digite sua massa em Kg: 92.2\n",
            "\n",
            "Digite sua altura em metros: 1.83\n",
            "\n",
            "Seu IMC é 27.5\n",
            "\n",
            "O volume de uma esfera de raio r é (4/3)𝜋r³\n",
            "Digite o valor de r em cm: 5\n",
            "Se r= 5.00 cm então o volume V= 523.60 cm³\n",
            "\n",
            "Pergunta:\n",
            "Um laser vermelho (com comprimento de onda 𝜆) incide em uma fenda dupla produzindo um padrão de interferência com franjas claras e escuras, em um anteparo situado a uma distância D da fenda. Calcule a distância Δy entre dois máximos consecutivos de interferência. Considere o espaçamento entre as fendas, d.\n",
            "\n",
            "Digite o valor de 𝜆 em nm: 632.8\n",
            "\n",
            "Digite o valor de D em m: 1.98\n",
            "\n",
            "Digite o valor de d em mm: 0.250\n",
            "\n",
            "Resposta:\n",
            "Como a distância entre dois máximos de interferência consecutivos pode ser aproximada por Δy = 𝜆D∕d, pode-se subistituir os valores na equação obtendo Δy = 𝜆×10⁻⁹×D∕d×10⁻⁶ = 5.01 mm.\n",
            "\n"
          ],
          "name": "stdout"
        }
      ]
    }
  ]
}