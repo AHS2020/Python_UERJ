{
  "nbformat": 4,
  "nbformat_minor": 0,
  "metadata": {
    "colab": {
      "name": "ArthurHenriqueSilva_aula_3_3.ipynb",
      "provenance": [],
      "authorship_tag": "ABX9TyNvd8giSS8cU13O4WqmM52F",
      "include_colab_link": true
    },
    "kernelspec": {
      "name": "python3",
      "display_name": "Python 3"
    }
  },
  "cells": [
    {
      "cell_type": "markdown",
      "metadata": {
        "id": "view-in-github",
        "colab_type": "text"
      },
      "source": [
        "<a href=\"https://colab.research.google.com/github/AHS2020/Python_UERJ/blob/master/Aula%203/ArthurHenriqueSilva_aula_3_3.ipynb\" target=\"_parent\"><img src=\"https://colab.research.google.com/assets/colab-badge.svg\" alt=\"Open In Colab\"/></a>"
      ]
    },
    {
      "cell_type": "code",
      "metadata": {
        "id": "4E7eWH1Egk_q",
        "outputId": "50e3b781-a620-4a0b-a98c-ac531c84024c",
        "colab": {
          "base_uri": "https://localhost:8080/",
          "height": 243
        }
      },
      "source": [
        "print()\n",
        "\n",
        "print('Aluno - Arthur Henrique Silva')\n",
        "print('Aula - 3')\n",
        "print('Exercício - 3')\n",
        "\n",
        "print()\n",
        "\n",
        "def fun():\n",
        "\tprint('''Se, ao meio dia, a sombra de uma pessoa de x m de altura tem apenas y cm de comprimento no chão, qual o ângulo zenital do sol?''')\n",
        "\tprint()\n",
        "\tx = float(input('Digite a altura da pessoa em metros: '))\n",
        "\tprint()\n",
        "\ty = float(input('Digite a comprimento da sombra em metros: '))\n",
        "\tprint()\n",
        "\tprint('Resposta:')\n",
        "\timport numpy as np\n",
        "\tprint(f'''Nomeando o angulo zenital como \\u03B8, tem-se tan(\\u03B8) = y\\u2215x, logo, \\u03B8 = arctan(y\\u2215x) = {np.degrees(np.arctan(y/x)):.02f}\\u00B0.''')\n",
        "\n",
        "fun()\n",
        "\n",
        "#Division slash = \\u2215\n",
        "#theta = \\u03B8\n",
        "#Theta = \\u03F4\n",
        "#Degrees sing = \\u00B0"
      ],
      "execution_count": 2,
      "outputs": [
        {
          "output_type": "stream",
          "text": [
            "\n",
            "Aluno - Arthur Henrique Silva\n",
            "Aula - 3\n",
            "Exercício - 3\n",
            "\n",
            "Se, ao meio dia, a sombra de uma pessoa de x m de altura tem apenas y cm de comprimento no chão, qual o ângulo zenital do sol?\n",
            "\n",
            "Digite a altura da pessoa em metros: 1.83\n",
            "\n",
            "Digite a comprimento da sombra em metros: 0.77\n",
            "\n",
            "Resposta:\n",
            "Nomeando o angulo zenital como θ, tem-se tan(θ) = y∕x, logo, θ = arctan(y∕x) = 22.82°.\n"
          ],
          "name": "stdout"
        }
      ]
    }
  ]
}