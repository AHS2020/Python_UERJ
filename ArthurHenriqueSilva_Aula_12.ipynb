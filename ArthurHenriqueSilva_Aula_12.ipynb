{
  "nbformat": 4,
  "nbformat_minor": 0,
  "metadata": {
    "colab": {
      "name": "ArthurHenriqueSilva_Aula_12.ipynb",
      "provenance": [],
      "authorship_tag": "ABX9TyPyIoqgz6CB/3esKLgDjQlX",
      "include_colab_link": true
    },
    "kernelspec": {
      "name": "python3",
      "display_name": "Python 3"
    },
    "language_info": {
      "name": "python"
    }
  },
  "cells": [
    {
      "cell_type": "markdown",
      "metadata": {
        "id": "view-in-github",
        "colab_type": "text"
      },
      "source": [
        "<a href=\"https://colab.research.google.com/github/AHS2020/Python_UERJ/blob/master/ArthurHenriqueSilva_Aula_12.ipynb\" target=\"_parent\"><img src=\"https://colab.research.google.com/assets/colab-badge.svg\" alt=\"Open In Colab\"/></a>"
      ]
    },
    {
      "cell_type": "markdown",
      "metadata": {
        "id": "kYesxbGAzRlG"
      },
      "source": [
        "## Exercícios:\n",
        "\n",
        "1) Escreva **uma função** que calcule a distância entre dois pontos, usando a classe `Ponto` que fizemos nesta aula."
      ]
    },
    {
      "cell_type": "code",
      "metadata": {
        "id": "xNC2NAvxzRlG"
      },
      "source": [
        "class Ponto:\n",
        "    \"\"\" Cria um novo Ponto, com coordenadas x, y \"\"\"\n",
        "\n",
        "    def __init__(self, x=0, y=0):\n",
        "        \"\"\" Inicializa em x, y o novo ponto criado pela classe \"\"\"\n",
        "        self.x = x\n",
        "        self.y = y\n",
        "\n",
        "    def distancia_da_origem(self):\n",
        "        \"\"\" Calcula minha distânica da origem \"\"\"\n",
        "        return ((self.x ** 2) + (self.y ** 2)) ** 0.5\n",
        "    \n",
        "    def ponto_medio(self, alvo):\n",
        "        \"\"\" Retorna o ponto medio entre esse ponto e o alvo \"\"\"\n",
        "        mx = (self.x + alvo.x)/2\n",
        "        my = (self.y + alvo.y)/2\n",
        "        return Ponto(mx, my)\n",
        "    \n",
        "    def para_string(self):\n",
        "        return \"({0}, {1})\".format(self.x, self.y)\n",
        "    \n",
        "    def distancia_entre_pontos(self, alvo):\n",
        "        \"\"\" Calcula a distânica entre dois pontos \"\"\"\n",
        "        return (((self.x - alvo.x) ** 2) + ((self.y - alvo.y) ** 2)) ** 0.5"
      ],
      "execution_count": 8,
      "outputs": []
    },
    {
      "cell_type": "code",
      "metadata": {
        "colab": {
          "base_uri": "https://localhost:8080/"
        },
        "id": "5DJ2LU94j1RI",
        "outputId": "72d4d6b7-9543-49b2-9f65-8fa2e0e028a6"
      },
      "source": [
        "p = Ponto(3, 4)\n",
        "q = Ponto(5, 12)\n",
        "D = p.distancia_entre_pontos(q)\n",
        "\n",
        "print(D)"
      ],
      "execution_count": 9,
      "outputs": [
        {
          "output_type": "stream",
          "name": "stdout",
          "text": [
            "8.246211251235321\n"
          ]
        }
      ]
    },
    {
      "cell_type": "markdown",
      "metadata": {
        "id": "WMZ2mjMafZhj"
      },
      "source": [
        "2) Adicione um método reflexao_x à classe Ponto que retorne uma instância de Ponto que seja o reflexo sobre o eixo x. Por exemplo, o resultado de Ponto(3, 5).reflexao_x() deve ser um ponto com coordenadas (3, -5). Imagine um espelho colado no eixo x."
      ]
    },
    {
      "cell_type": "code",
      "metadata": {
        "id": "c0KXjbxul2va"
      },
      "source": [
        "class Ponto:\n",
        "    \"\"\" Cria um novo Ponto, com coordenadas x, y \"\"\"\n",
        "\n",
        "    def __init__(self, x=0, y=0):\n",
        "        \"\"\" Inicializa em x, y o novo ponto criado pela classe \"\"\"\n",
        "        self.x = x\n",
        "        self.y = y\n",
        "\n",
        "    def distancia_da_origem(self):\n",
        "        \"\"\" Calcula minha distânica da origem \"\"\"\n",
        "        return ((self.x ** 2) + (self.y ** 2)) ** 0.5\n",
        "    \n",
        "    def ponto_medio(self, alvo):\n",
        "        \"\"\" Retorna o ponto medio entre esse ponto e o alvo \"\"\"\n",
        "        mx = (self.x + alvo.x)/2\n",
        "        my = (self.y + alvo.y)/2\n",
        "        return Ponto(mx, my)\n",
        "    \n",
        "    def para_string(self):\n",
        "        return \"({0}, {1})\".format(self.x, self.y)\n",
        "    \n",
        "    def distancia_entre_pontos(self, alvo):\n",
        "        \"\"\" Calcula a distânica entre dois pontos \"\"\"\n",
        "        return (((self.x - alvo.x) ** 2) + ((self.y - alvo.y) ** 2)) ** 0.5\n",
        "    \n",
        "    def reflexao_x(self):\n",
        "        \"\"\" Retorne o Ponto de modo que seja o reflexo sobre o eixo x \"\"\"\n",
        "        mx = self.x\n",
        "        my = - self.y\n",
        "        return Ponto(mx, my)"
      ],
      "execution_count": 11,
      "outputs": []
    },
    {
      "cell_type": "code",
      "metadata": {
        "colab": {
          "base_uri": "https://localhost:8080/"
        },
        "id": "bvme_oksl6sb",
        "outputId": "174da17f-10b7-4d68-c136-bb364275b269"
      },
      "source": [
        "p = Ponto(3, 4)\n",
        "q = p.reflexao_x()\n",
        "\n",
        "print(q.para_string())"
      ],
      "execution_count": 16,
      "outputs": [
        {
          "output_type": "stream",
          "name": "stdout",
          "text": [
            "(3, -4)\n"
          ]
        }
      ]
    },
    {
      "cell_type": "markdown",
      "metadata": {
        "id": "3CSg5PNQfmAj"
      },
      "source": [
        "3) Adicione um método inclinacao_da_origem à classe Ponto, que retorne a inclinação da linha que une a origem ao Ponto. Por exemplo,\n",
        "\n",
        "```python\n",
        ">>> from Ponto import *\n",
        ">>> Ponto(4, 10).inclinacao_origem()\n",
        "2.5\n",
        "```"
      ]
    },
    {
      "cell_type": "code",
      "metadata": {
        "id": "C3u4IFIFm7X0"
      },
      "source": [
        "class Ponto:\n",
        "    \"\"\" Cria um novo Ponto, com coordenadas x, y \"\"\"\n",
        "\n",
        "    def __init__(self, x=0, y=0):\n",
        "        \"\"\" Inicializa em x, y o novo ponto criado pela classe \"\"\"\n",
        "        self.x = x\n",
        "        self.y = y\n",
        "\n",
        "    def distancia_da_origem(self):\n",
        "        \"\"\" Calcula minha distânica da origem \"\"\"\n",
        "        return ((self.x ** 2) + (self.y ** 2)) ** 0.5\n",
        "    \n",
        "    def ponto_medio(self, alvo):\n",
        "        \"\"\" Retorna o ponto medio entre esse ponto e o alvo \"\"\"\n",
        "        mx = (self.x + alvo.x)/2\n",
        "        my = (self.y + alvo.y)/2\n",
        "        return Ponto(mx, my)\n",
        "    \n",
        "    def para_string(self):\n",
        "        return \"({0}, {1})\".format(self.x, self.y)\n",
        "    \n",
        "    def distancia_entre_pontos(self, alvo):\n",
        "        \"\"\" Calcula a distânica entre dois pontos \"\"\"\n",
        "        return (((self.x - alvo.x) ** 2) + ((self.y - alvo.y) ** 2)) ** 0.5\n",
        "    \n",
        "    def reflexao_x(self):\n",
        "        \"\"\" Retorne o Ponto de modo que seja o reflexo sobre o eixo x \"\"\"\n",
        "        mx = self.x\n",
        "        my = - self.y\n",
        "        return Ponto(mx, my)\n",
        "    \n",
        "    def inclinacao_origem(self):\n",
        "        \"\"\" Calcula o coeficiente angular da reta que une o ponto à origem \"\"\"\n",
        "        return (self.y/self.x)"
      ],
      "execution_count": 17,
      "outputs": []
    },
    {
      "cell_type": "code",
      "metadata": {
        "colab": {
          "base_uri": "https://localhost:8080/"
        },
        "id": "MxeKOF-YnoVd",
        "outputId": "3913537c-f65f-4739-9afc-b9dd5460d59b"
      },
      "source": [
        "p = Ponto(4, 10)\n",
        "\n",
        "print(p.inclinacao_origem())"
      ],
      "execution_count": 18,
      "outputs": [
        {
          "output_type": "stream",
          "name": "stdout",
          "text": [
            "2.5\n"
          ]
        }
      ]
    },
    {
      "cell_type": "markdown",
      "metadata": {
        "id": "xmBIFq2VzRlG"
      },
      "source": [
        "O que pode dar errado com esse programa?"
      ]
    },
    {
      "cell_type": "markdown",
      "metadata": {
        "id": "32eWisHXn2zH"
      },
      "source": [
        "Não se pode utilizar nenhum ponto cuja coordenada x seja 0."
      ]
    },
    {
      "cell_type": "markdown",
      "metadata": {
        "id": "z8NZmLEYfqmO"
      },
      "source": [
        "4) A equação de uma linha reta é $y = a x  + b$. Os coeficientes $a$ e $b$ descrevem completamente a reta. Escreva um método na classe `Ponto` para que, se uma instância `Ponto` receber outro `Ponto`, calcule a equação da linha reta que une os dois pontos. Deve retornar os dois coeficientes como uma **tupla de dois valores** $(a,b)$. Por exemplo,\n",
        "\n",
        "```python\n",
        ">>> from Ponto import *\n",
        ">>> print(Ponto(4,11).parametros_reta(Ponto(6,15)))\n",
        "(2.0,3.0)\n",
        "```"
      ]
    },
    {
      "cell_type": "code",
      "metadata": {
        "id": "ZSrwyU2_qgJ_"
      },
      "source": [
        "class Ponto:\n",
        "    \"\"\" Cria um novo Ponto, com coordenadas x, y \"\"\"\n",
        "\n",
        "    def __init__(self, x=0, y=0):\n",
        "        \"\"\" Inicializa em x, y o novo ponto criado pela classe \"\"\"\n",
        "        self.x = x\n",
        "        self.y = y\n",
        "\n",
        "    def distancia_da_origem(self):\n",
        "        \"\"\" Calcula minha distânica da origem \"\"\"\n",
        "        return ((self.x ** 2) + (self.y ** 2)) ** 0.5\n",
        "    \n",
        "    def ponto_medio(self, alvo):\n",
        "        \"\"\" Retorna o ponto medio entre esse ponto e o alvo \"\"\"\n",
        "        mx = (self.x + alvo.x)/2\n",
        "        my = (self.y + alvo.y)/2\n",
        "        return Ponto(mx, my)\n",
        "    \n",
        "    def para_string(self):\n",
        "        return \"({0}, {1})\".format(self.x, self.y)\n",
        "    \n",
        "    def distancia_entre_pontos(self, alvo):\n",
        "        \"\"\" Calcula a distânica entre dois pontos \"\"\"\n",
        "        return (((self.x - alvo.x) ** 2) + ((self.y - alvo.y) ** 2)) ** 0.5\n",
        "    \n",
        "    def reflexao_x(self):\n",
        "        \"\"\" Retorne o Ponto de modo que seja o reflexo sobre o eixo x \"\"\"\n",
        "        mx = self.x\n",
        "        my = - self.y\n",
        "        return Ponto(mx, my)\n",
        "    \n",
        "    def inclinacao_origem(self):\n",
        "        \"\"\" Calcula o coeficiente angular da reta que une o ponto à origem \"\"\"\n",
        "        return (self.y/self.x)\n",
        "\n",
        "    def parametros_reta(self, alvo):\n",
        "        \"\"\" Calcula a equação da linha reta que une os dois pontos \"\"\"\n",
        "        a = ((self.y - alvo.y)/(self.x - alvo.x))\n",
        "        b = ((self.y)-(a*(self.x)))\n",
        "        return Ponto (a, b)"
      ],
      "execution_count": 21,
      "outputs": []
    },
    {
      "cell_type": "code",
      "metadata": {
        "colab": {
          "base_uri": "https://localhost:8080/"
        },
        "id": "Cx8jon6Bqjla",
        "outputId": "8b279fb2-82d5-4ae1-9db6-b8ca2d6b88d3"
      },
      "source": [
        "p = Ponto(4, 11)\n",
        "q = Ponto(6,15)\n",
        "r = p.parametros_reta(q)\n",
        "\n",
        "print(r.para_string())"
      ],
      "execution_count": 23,
      "outputs": [
        {
          "output_type": "stream",
          "name": "stdout",
          "text": [
            "(2.0, 3.0)\n"
          ]
        }
      ]
    },
    {
      "cell_type": "markdown",
      "metadata": {
        "id": "bxUd3bSezRlH"
      },
      "source": [
        "O resultado acima nos diz que a equação da reta é $y = 2 x + 3$. Quando esse método falha?"
      ]
    },
    {
      "cell_type": "markdown",
      "metadata": {
        "id": "B-d5xntwrN6g"
      },
      "source": [
        "Esse método falha quando os dois pontos que formam a reta possuem a mesma coordenada x."
      ]
    }
  ]
}