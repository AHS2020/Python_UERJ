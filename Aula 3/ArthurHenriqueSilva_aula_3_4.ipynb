{
  "nbformat": 4,
  "nbformat_minor": 0,
  "metadata": {
    "colab": {
      "name": "ArthurHenriqueSilva_aula_3_4.ipynb",
      "provenance": [],
      "authorship_tag": "ABX9TyNzl/Sx3YLs7mn/P+wfGy7b",
      "include_colab_link": true
    },
    "kernelspec": {
      "name": "python3",
      "display_name": "Python 3"
    }
  },
  "cells": [
    {
      "cell_type": "markdown",
      "metadata": {
        "id": "view-in-github",
        "colab_type": "text"
      },
      "source": [
        "<a href=\"https://colab.research.google.com/github/AHS2020/Python_UERJ/blob/master/Aula%203/ArthurHenriqueSilva_aula_3_4.ipynb\" target=\"_parent\"><img src=\"https://colab.research.google.com/assets/colab-badge.svg\" alt=\"Open In Colab\"/></a>"
      ]
    },
    {
      "cell_type": "code",
      "metadata": {
        "id": "fbsnx6echy_w",
        "outputId": "c2e5b136-4979-48f1-fce7-863af41eb043",
        "colab": {
          "base_uri": "https://localhost:8080/",
          "height": 573
        }
      },
      "source": [
        "print()\n",
        "\n",
        "print('Aluno - Arthur Henrique Silva')\n",
        "print('Aula - 3')\n",
        "print('Exercício - 4')\n",
        "\n",
        "print()\n",
        "\n",
        "\n",
        "def fun_1():\n",
        "\tx= float(input('Coloque aki o valor em km para converte-lo para milhas: '))\n",
        "\tx1=x/1.61\n",
        "\tprint()\n",
        "\tprint(f'{x:.2f} km são {x1:.2f} milhas')\n",
        "\tprint()\n",
        "\treturn x1\n",
        " \n",
        "def fun_2():\n",
        "\ty= float(input('Coloque aki o valor em milhas para converte-lo para km: '))\n",
        "\ty1 = y*1.61\n",
        "\tprint()\n",
        "\tprint(f'{y:.2f} milhas são {y1:.2f} km')\n",
        "\tprint()\n",
        "\treturn y1\n",
        " \n",
        "def fun_3():\n",
        "\tw= float(input('Coloque aki o valor em horas para converte-lo para segundos: '))\n",
        "\tw1= w*3600\n",
        "\tprint()\n",
        "\tprint(f'{w:.2f} h são {w1:.2f} s')\n",
        "\tprint()\n",
        "\treturn w1\n",
        " \n",
        "def fun_4():\n",
        "\tz= float(input('Coloque aki o valor em segundos para converte-lo para horas: '))\n",
        "\tz1= z/3600\n",
        "\tprint()\n",
        "\tprint(f'{z:.2f} s são {z1:.2f} h')\n",
        "\tprint()\n",
        "\treturn z1\n",
        "\n",
        "def eq_1():\n",
        "\tprint('Calcule a tempo médio por milha e a velocidade média tendo a distância em km e o tempo em minutos.')\n",
        "\tprint()\n",
        "\tx1 = fun_1()\n",
        "\tw= float(input('Coloque aki o valor em minutos para converte-lo para horas: '))\n",
        "\tt= w/60\n",
        "\tprint()\n",
        "\tprint(f'{t:.2f} min são {t:.2f} h')\n",
        "\tprint()\t\n",
        "\tprint(f'{t:.2f} h é o tempo total')\n",
        "\tprint()\n",
        "\tprint(f'O tempo médio por milha é {t/x1:.02f} h/milha')\n",
        "\tprint()\n",
        "\tprint(f'A velocida média é {x1/t:.02f} milhas/h')\n",
        "\n",
        "def eq_2():\n",
        "\ty1= fun_2()\n",
        "\tw= float(input('Coloque aki o valor em minutos para converte-lo para horas: '))\n",
        "\tw1= w/60\n",
        "\tprint()\n",
        "\tprint(f'{w:.2f} min são {w1:.2f} h')\n",
        "\tprint()\n",
        "\tprint(f'O tempo médio por milha é {w/y1:.02f} min/km')\n",
        "\tprint()\n",
        "\tprint(f'A velocida média é {y1/w1:.02f} km/h')\n",
        "\n",
        "eq_1()\n",
        "\n",
        "print()\n",
        "\n",
        "eq_2()"
      ],
      "execution_count": 8,
      "outputs": [
        {
          "output_type": "stream",
          "text": [
            "\n",
            "Aluno - Arthur Henrique Silva\n",
            "Aula - 3\n",
            "Exercício - 4\n",
            "\n",
            "Calcule a tempo médio por milha e a velocidade média tendo a distância em km e o tempo em minutos.\n",
            "\n",
            "Coloque aki o valor em km para converte-lo para milhas: 10\n",
            "\n",
            "10.00 km são 6.21 milhas\n",
            "\n",
            "Coloque aki o valor em minutos para converte-lo para horas: 43.5\n",
            "\n",
            "0.72 min são 0.72 h\n",
            "\n",
            "0.72 h é o tempo total\n",
            "\n",
            "O tempo médio por milha é 0.12 h/milha\n",
            "\n",
            "A velocida média é 8.57 milhas/h\n",
            "\n",
            "Coloque aki o valor em milhas para converte-lo para km: 4\n",
            "\n",
            "4.00 milhas são 6.44 km\n",
            "\n",
            "Coloque aki o valor em minutos para converte-lo para horas: 30\n",
            "\n",
            "30.00 min são 0.50 h\n",
            "\n",
            "O tempo médio por milha é 4.66 min/km\n",
            "\n",
            "A velocida média é 12.88 km/h\n"
          ],
          "name": "stdout"
        }
      ]
    }
  ]
}