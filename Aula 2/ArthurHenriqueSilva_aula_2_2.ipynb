{
  "nbformat": 4,
  "nbformat_minor": 0,
  "metadata": {
    "colab": {
      "name": "ArthurHenriqueSilva_aula_2_2.ipynb",
      "provenance": [],
      "authorship_tag": "ABX9TyMW9lkPE3LSKn4MwqH8HGFE",
      "include_colab_link": true
    },
    "kernelspec": {
      "name": "python3",
      "display_name": "Python 3"
    }
  },
  "cells": [
    {
      "cell_type": "markdown",
      "metadata": {
        "id": "view-in-github",
        "colab_type": "text"
      },
      "source": [
        "<a href=\"https://colab.research.google.com/github/AHS2020/Python_UERJ/blob/master/ArthurHenriqueSilva_aula_2_2.ipynb\" target=\"_parent\"><img src=\"https://colab.research.google.com/assets/colab-badge.svg\" alt=\"Open In Colab\"/></a>"
      ]
    },
    {
      "cell_type": "code",
      "metadata": {
        "id": "xnkG7f62Rpt8",
        "outputId": "7938ae65-a911-4340-a5c0-b74aa27a3eda",
        "colab": {
          "base_uri": "https://localhost:8080/",
          "height": 208
        }
      },
      "source": [
        "import math as mt\n",
        "\n",
        "print()\n",
        "\n",
        "print('Aluno - Arthur Henrique Silva')\n",
        "print('Aula - 2')\n",
        "print('Exercício - 2')\n",
        "\n",
        "print()\n",
        "\n",
        "print('Pergunta:')\n",
        "\n",
        "print('\t  O volume de uma esfera de raio r é (4/3).pi.r^3')\n",
        "print('\t  Qual é o volume de uma esfera de raio 5 u.c.?')\n",
        "\n",
        "print('Resposta:')\n",
        "\n",
        "V = (4/3)*mt.pi*(5**3)\n",
        "print(f'\t  Se r= 5 u.c. então o volume V= (4/3).pi.5^3 = {V:.02f} u.v.')\n",
        "\n",
        "print()\n"
      ],
      "execution_count": 2,
      "outputs": [
        {
          "output_type": "stream",
          "text": [
            "\n",
            "Aluno - Arthur Henrique Silva\n",
            "Aula - 2\n",
            "Exercício - 2\n",
            "\n",
            "Pergunta:\n",
            "\t  O volume de uma esfera de raio r é (4/3).pi.r^3\n",
            "\t  Qual é o volume de uma esfera de raio 5 u.c.?\n",
            "Resposta:\n",
            "\t  Se r= 5 u.c. então o volume V= (4/3).pi.5^3 = 523.60 u.v.\n",
            "\n"
          ],
          "name": "stdout"
        }
      ]
    }
  ]
}
