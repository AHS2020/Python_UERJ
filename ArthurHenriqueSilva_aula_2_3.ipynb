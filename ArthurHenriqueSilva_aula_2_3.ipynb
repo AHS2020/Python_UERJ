{
  "nbformat": 4,
  "nbformat_minor": 0,
  "metadata": {
    "colab": {
      "name": "ArthurHenriqueSilva_aula_2_3.ipynb",
      "provenance": [],
      "authorship_tag": "ABX9TyNXsRiMv9Ny9/7c65W35eEz",
      "include_colab_link": true
    },
    "kernelspec": {
      "name": "python3",
      "display_name": "Python 3"
    }
  },
  "cells": [
    {
      "cell_type": "markdown",
      "metadata": {
        "id": "view-in-github",
        "colab_type": "text"
      },
      "source": [
        "<a href=\"https://colab.research.google.com/github/AHS2020/Python_UERJ/blob/master/ArthurHenriqueSilva_aula_2_3.ipynb\" target=\"_parent\"><img src=\"https://colab.research.google.com/assets/colab-badge.svg\" alt=\"Open In Colab\"/></a>"
      ]
    },
    {
      "cell_type": "code",
      "metadata": {
        "id": "tNcxjt5dSj1n",
        "outputId": "7305bf8d-65b4-48bc-bb16-cb94caae8fc4",
        "colab": {
          "base_uri": "https://localhost:8080/",
          "height": 228
        }
      },
      "source": [
        "print()\n",
        "\n",
        "print('Aluno - Arthur Henrique Silva')\n",
        "print('Aula - 2')\n",
        "print('Exercício - 3')\n",
        "\n",
        "print()\n",
        "\n",
        "print('Pergunta:')\n",
        "\n",
        "print('''\t  Suponha que o preço de um livro seja R$ 24.95, porém as livrarias têm desconto de 40%. Os custos de envio são de R$ 3.00 para o primeiro livro e R$ 0.75 para os livros adicionais. Qual é o custo total da compra de 60 livros?''')\n",
        "\n",
        "print()\n",
        "\n",
        "print('Resposta:')\n",
        "\n",
        "VL = 60 * 24.95 * 60/100\n",
        "VF = 3.00 + 59*0.75\n",
        "\n",
        "print(f'''\t  Tem-se 60 livros a R$ 24.95 com 40% de desconto, então o valor dos livros é VL = 60x24.95x60% = R$ {VL:.02f}. Já no frete tem-se R$ 3.00 para o primeiro livro e R$ 0.75 para os 59 livros restantes, então o valor do frete é VF = 3.00+59x0.75 = R$ {VF:.02f}. Resultando em um valor total VT = R$ {VL+VF:.02f}''')\n",
        "\n",
        "print()"
      ],
      "execution_count": 1,
      "outputs": [
        {
          "output_type": "stream",
          "text": [
            "\n",
            "Aluno - Arthur Henrique Silva\n",
            "Aula - 2\n",
            "Exercício - 3\n",
            "\n",
            "Pergunta:\n",
            "\t  Suponha que o preço de um livro seja R$ 24.95, porém as livrarias têm desconto de 40%. Os custos de envio são de R$ 3.00 para o primeiro livro e R$ 0.75 para os livros adicionais. Qual é o custo total da compra de 60 livros?\n",
            "\n",
            "Resposta:\n",
            "\t  Tem-se 60 livros a R$ 24.95 com 40% de desconto, então o valor dos livros é VL = 60x24.95x60% = R$ 898.20. Já no frete tem-se R$ 3.00 para o primeiro livro e R$ 0.75 para os 59 livros restantes, então o valor do frete é VF = 3.00+59x0.75 = R$ 47.25. Resultando em um valor total VT = R$ 945.45\n",
            "\n"
          ],
          "name": "stdout"
        }
      ]
    }
  ]
}