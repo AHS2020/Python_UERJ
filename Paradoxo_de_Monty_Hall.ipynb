{
  "nbformat": 4,
  "nbformat_minor": 0,
  "metadata": {
    "colab": {
      "provenance": [],
      "authorship_tag": "ABX9TyO1SJj+YPoVpvQ8li0Dh/ak",
      "include_colab_link": true
    },
    "kernelspec": {
      "name": "python3",
      "display_name": "Python 3"
    },
    "language_info": {
      "name": "python"
    }
  },
  "cells": [
    {
      "cell_type": "markdown",
      "metadata": {
        "id": "view-in-github",
        "colab_type": "text"
      },
      "source": [
        "<a href=\"https://colab.research.google.com/github/AHS2020/Python_UERJ/blob/master/Paradoxo_de_Monty_Hall.ipynb\" target=\"_parent\"><img src=\"https://colab.research.google.com/assets/colab-badge.svg\" alt=\"Open In Colab\"/></a>"
      ]
    },
    {
      "cell_type": "code",
      "execution_count": 169,
      "metadata": {
        "id": "Z4oXJEFMMY6A"
      },
      "outputs": [],
      "source": [
        "import numpy as np"
      ]
    },
    {
      "cell_type": "code",
      "source": [
        "a = 0\n",
        "b = 0\n",
        "c = 0\n",
        "d = 0\n",
        "e = 0"
      ],
      "metadata": {
        "id": "03Z6HQXtNOEz"
      },
      "execution_count": 170,
      "outputs": []
    },
    {
      "cell_type": "code",
      "source": [
        "x = range(1000000)\n",
        "for n in x:\n",
        "  a = a + 1\n",
        "  portas_1 = [1,2,3]\n",
        "  premio = np.random.choice(portas_1)\n",
        "  escolha_1 = np.random.choice(portas_1)\n",
        "  portas_1.remove(premio)\n",
        "  if escolha_1 in portas_1:\n",
        "    portas_1.remove(escolha_1)\n",
        "  abre_porta = np.random.choice(portas_1)\n",
        "  portas_2 = [1,2,3]\n",
        "  portas_2.remove(abre_porta)\n",
        "  escolha_2 = np.random.choice(portas_2)\n",
        "  if escolha_2 == escolha_1:\n",
        "    b = b + 1\n",
        "    if escolha_2 == premio:\n",
        "      d = d + 1\n",
        "  else:\n",
        "    c = c + 1\n",
        "    if escolha_2 == premio:\n",
        "      e = e + 1\n"
      ],
      "metadata": {
        "id": "EhvGe8neTgUM"
      },
      "execution_count": 171,
      "outputs": []
    },
    {
      "cell_type": "code",
      "source": [
        "print(a, \"quantidade de rodadas\")\n",
        "print(b, \"vezes que ficou\")\n",
        "print(c, \"vezes que trocou\")\n",
        "print(d, \"vezes que ficou e ganhou\")\n",
        "print(e, \"vezes que trocou e ganhou\")\n",
        "print(d/b, \"probabilidade de ganhar quando fica\")\n",
        "print(e/c, \"probabilidade de ganhar quando troca\")\n",
        "print((d+e)/(c+b), \"probabilidade de ganhar independente da escolha feita\")"
      ],
      "metadata": {
        "colab": {
          "base_uri": "https://localhost:8080/"
        },
        "id": "yQJLXqe2UDPz",
        "outputId": "b7030377-89dd-4ad3-889b-b02bae8fb5b5"
      },
      "execution_count": 172,
      "outputs": [
        {
          "output_type": "stream",
          "name": "stdout",
          "text": [
            "1000000 quantidade de rodadas\n",
            "501008 vezes que ficou\n",
            "498992 vezes que trocou\n",
            "167121 vezes que ficou e ganhou\n",
            "332338 vezes que trocou e ganhou\n",
            "0.3335695238399387 probabilidade de ganhar quando fica\n",
            "0.6660186936864719 probabilidade de ganhar quando troca\n",
            "0.499459 probabilidade de ganhar independente da escolha feita\n"
          ]
        }
      ]
    }
  ]
}