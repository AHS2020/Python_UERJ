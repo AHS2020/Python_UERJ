{
  "nbformat": 4,
  "nbformat_minor": 0,
  "metadata": {
    "colab": {
      "name": "ArthurHenriqueSilva_aula_twiki_1_2.ipynb",
      "provenance": [],
      "authorship_tag": "ABX9TyNFIeSWks6+6K31FHRkOiYG",
      "include_colab_link": true
    },
    "kernelspec": {
      "name": "python3",
      "display_name": "Python 3"
    }
  },
  "cells": [
    {
      "cell_type": "markdown",
      "metadata": {
        "id": "view-in-github",
        "colab_type": "text"
      },
      "source": [
        "<a href=\"https://colab.research.google.com/github/AHS2020/Python_UERJ/blob/master/ArthurHenriqueSilva_aula_twiki_1_2.ipynb\" target=\"_parent\"><img src=\"https://colab.research.google.com/assets/colab-badge.svg\" alt=\"Open In Colab\"/></a>"
      ]
    },
    {
      "cell_type": "code",
      "metadata": {
        "id": "GEdlpewPUQiR",
        "outputId": "413c9beb-8bc6-4349-c238-6fb2b4ac52f3",
        "colab": {
          "base_uri": "https://localhost:8080/",
          "height": 228
        }
      },
      "source": [
        "print()\n",
        "\n",
        "print('Aluno - Arthur Henrique Silva')\n",
        "print('Aula(Twiki) - 1')\n",
        "print('Exercício - 2')\n",
        "\n",
        "print()\n",
        "\n",
        "print('Pergunta:')\n",
        "\n",
        "print('''\t  Desde sua varanda você escuta o som do primeiro fogo artificial do reveillon 3 segundos depois de ver a luz, qual a distância? (o som tem velocidade VS = 343 m/s e a luz VL = 3\\u00D710\\u2078 m/s). ''')\n",
        "\n",
        "print()\n",
        "\n",
        "print('Resposta:')\n",
        "\n",
        "VS = 343\n",
        "VL = 3*(10**8)\n",
        "\n",
        "print(f'''\t  Sabe-se que VS = D\\u2215TS e VL = D\\u2215TL onde TS e TL são os tempos de percorrimento respectivos, sabe-se também que TS = TL + 3 segundos, logo, D\\u2215VS = D\\u2215VL + 3, multiplicando por VS.VL tem-se, D.VL = D.VS + 3.VS.VL, separando D obtem-se, D = 3.VS.VL\\u2215(VL - VS) = {3*VS*VL/(VL-VS):.00f} m.''')\n",
        "\n",
        "print()\n",
        "\n",
        "#Multiplication sign = \\u00D7\n",
        "#Superscript eight = \\u2078\n",
        "#Division slash = \\u2215"
      ],
      "execution_count": 1,
      "outputs": [
        {
          "output_type": "stream",
          "text": [
            "\n",
            "Aluno - Arthur Henrique Silva\n",
            "Aula(Twiki) - 1\n",
            "Exercício - 2\n",
            "\n",
            "Pergunta:\n",
            "\t  Desde sua varanda você escuta o som do primeiro fogo artificial do reveillon 3 segundos depois de ver a luz, qual a distância? (o som tem velocidade VS = 343 m/s e a luz VL = 3×10⁸ m/s). \n",
            "\n",
            "Resposta:\n",
            "\t  Sabe-se que VS = D∕TS e VL = D∕TL onde TS e TL são os tempos de percorrimento respectivos, sabe-se também que TS = TL + 3 segundos, logo, D∕VS = D∕VL + 3, multiplicando por VS.VL tem-se, D.VL = D.VS + 3.VS.VL, separando D obtem-se, D = 3.VS.VL∕(VL - VS) = 1029 m.\n",
            "\n"
          ],
          "name": "stdout"
        }
      ]
    }
  ]
}
