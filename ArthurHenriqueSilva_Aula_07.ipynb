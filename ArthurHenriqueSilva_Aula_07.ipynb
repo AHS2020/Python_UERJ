{
  "nbformat": 4,
  "nbformat_minor": 0,
  "metadata": {
    "colab": {
      "name": "ArthurHenriqueSilva_Aula_07.ipynb",
      "provenance": [],
      "collapsed_sections": [],
      "authorship_tag": "ABX9TyP5kr78Ktrsdm0ZUX+ZIoJB",
      "include_colab_link": true
    },
    "kernelspec": {
      "name": "python3",
      "display_name": "Python 3"
    },
    "language_info": {
      "name": "python"
    }
  },
  "cells": [
    {
      "cell_type": "markdown",
      "metadata": {
        "id": "view-in-github",
        "colab_type": "text"
      },
      "source": [
        "<a href=\"https://colab.research.google.com/github/AHS2020/Python_UERJ/blob/master/ArthurHenriqueSilva_Aula_07.ipynb\" target=\"_parent\"><img src=\"https://colab.research.google.com/assets/colab-badge.svg\" alt=\"Open In Colab\"/></a>"
      ]
    },
    {
      "cell_type": "markdown",
      "metadata": {
        "id": "_L86htJ301CQ"
      },
      "source": [
        "## Exercícios Parte 1\n",
        "\n",
        "1) A **conjectura de Collatz**, diz que \"Todos os inteiros positivos irão eventualmente convergir para 1 usando as regras do Collatz\". Faça um programa que ___verifique___ a conjectura de Collatz para alguns valores. As regras de Collatz são: \n",
        "\n",
        "Dado um número ***n***: \n",
        "   * se ***n*** for par, divida-o por ***2***;\n",
        "   * se ***n*** for ímpar, atualize-o para 3*n + 1;\n",
        "   * repetir até chegar ao valor 1."
      ]
    },
    {
      "cell_type": "code",
      "metadata": {
        "colab": {
          "base_uri": "https://localhost:8080/"
        },
        "id": "qayVhPUABCBF",
        "outputId": "6147dafa-0a44-4059-e1c4-1c1256aaa5e5"
      },
      "source": [
        "n = int(input(\"Digite um número inteiro maior que 1: \"))\n",
        "\n",
        "print(' ')\n",
        "\n",
        "while n < 2:\n",
        "  print(f'O número {n} não pode ser utilizado.')\n",
        "  n = int(input(\"Digite um número inteiro maior que 1: \"))\n",
        "  print(' ')\n",
        "\n",
        "print(f'n = {n}')\n",
        "\n",
        "print(' ')\n",
        "\n",
        "def collatz(n):\n",
        "  while n != 1:\n",
        "    if n % 2==0:\n",
        "      print(n, \"é par\")\n",
        "      n = n/2\n",
        "      print(f'n/2 = {n}')\n",
        "      print(' ')\n",
        "    else:\n",
        "      print(n, \"é ímpar\")\n",
        "      n= 3*n +1\n",
        "      print(f'(3 x n) + 1 = {n}')\n",
        "      print(' ')\n",
        "  print(n)\n",
        "\n",
        "collatz(n)"
      ],
      "execution_count": null,
      "outputs": [
        {
          "output_type": "stream",
          "name": "stdout",
          "text": [
            "Digite um número inteiro maior que 1: 50325\n",
            " \n",
            "n = 50325\n",
            " \n",
            "50325 é ímpar\n",
            "(3 x n) + 1 = 150976\n",
            " \n",
            "150976 é par\n",
            "n/2 = 75488.0\n",
            " \n",
            "75488.0 é par\n",
            "n/2 = 37744.0\n",
            " \n",
            "37744.0 é par\n",
            "n/2 = 18872.0\n",
            " \n",
            "18872.0 é par\n",
            "n/2 = 9436.0\n",
            " \n",
            "9436.0 é par\n",
            "n/2 = 4718.0\n",
            " \n",
            "4718.0 é par\n",
            "n/2 = 2359.0\n",
            " \n",
            "2359.0 é ímpar\n",
            "(3 x n) + 1 = 7078.0\n",
            " \n",
            "7078.0 é par\n",
            "n/2 = 3539.0\n",
            " \n",
            "3539.0 é ímpar\n",
            "(3 x n) + 1 = 10618.0\n",
            " \n",
            "10618.0 é par\n",
            "n/2 = 5309.0\n",
            " \n",
            "5309.0 é ímpar\n",
            "(3 x n) + 1 = 15928.0\n",
            " \n",
            "15928.0 é par\n",
            "n/2 = 7964.0\n",
            " \n",
            "7964.0 é par\n",
            "n/2 = 3982.0\n",
            " \n",
            "3982.0 é par\n",
            "n/2 = 1991.0\n",
            " \n",
            "1991.0 é ímpar\n",
            "(3 x n) + 1 = 5974.0\n",
            " \n",
            "5974.0 é par\n",
            "n/2 = 2987.0\n",
            " \n",
            "2987.0 é ímpar\n",
            "(3 x n) + 1 = 8962.0\n",
            " \n",
            "8962.0 é par\n",
            "n/2 = 4481.0\n",
            " \n",
            "4481.0 é ímpar\n",
            "(3 x n) + 1 = 13444.0\n",
            " \n",
            "13444.0 é par\n",
            "n/2 = 6722.0\n",
            " \n",
            "6722.0 é par\n",
            "n/2 = 3361.0\n",
            " \n",
            "3361.0 é ímpar\n",
            "(3 x n) + 1 = 10084.0\n",
            " \n",
            "10084.0 é par\n",
            "n/2 = 5042.0\n",
            " \n",
            "5042.0 é par\n",
            "n/2 = 2521.0\n",
            " \n",
            "2521.0 é ímpar\n",
            "(3 x n) + 1 = 7564.0\n",
            " \n",
            "7564.0 é par\n",
            "n/2 = 3782.0\n",
            " \n",
            "3782.0 é par\n",
            "n/2 = 1891.0\n",
            " \n",
            "1891.0 é ímpar\n",
            "(3 x n) + 1 = 5674.0\n",
            " \n",
            "5674.0 é par\n",
            "n/2 = 2837.0\n",
            " \n",
            "2837.0 é ímpar\n",
            "(3 x n) + 1 = 8512.0\n",
            " \n",
            "8512.0 é par\n",
            "n/2 = 4256.0\n",
            " \n",
            "4256.0 é par\n",
            "n/2 = 2128.0\n",
            " \n",
            "2128.0 é par\n",
            "n/2 = 1064.0\n",
            " \n",
            "1064.0 é par\n",
            "n/2 = 532.0\n",
            " \n",
            "532.0 é par\n",
            "n/2 = 266.0\n",
            " \n",
            "266.0 é par\n",
            "n/2 = 133.0\n",
            " \n",
            "133.0 é ímpar\n",
            "(3 x n) + 1 = 400.0\n",
            " \n",
            "400.0 é par\n",
            "n/2 = 200.0\n",
            " \n",
            "200.0 é par\n",
            "n/2 = 100.0\n",
            " \n",
            "100.0 é par\n",
            "n/2 = 50.0\n",
            " \n",
            "50.0 é par\n",
            "n/2 = 25.0\n",
            " \n",
            "25.0 é ímpar\n",
            "(3 x n) + 1 = 76.0\n",
            " \n",
            "76.0 é par\n",
            "n/2 = 38.0\n",
            " \n",
            "38.0 é par\n",
            "n/2 = 19.0\n",
            " \n",
            "19.0 é ímpar\n",
            "(3 x n) + 1 = 58.0\n",
            " \n",
            "58.0 é par\n",
            "n/2 = 29.0\n",
            " \n",
            "29.0 é ímpar\n",
            "(3 x n) + 1 = 88.0\n",
            " \n",
            "88.0 é par\n",
            "n/2 = 44.0\n",
            " \n",
            "44.0 é par\n",
            "n/2 = 22.0\n",
            " \n",
            "22.0 é par\n",
            "n/2 = 11.0\n",
            " \n",
            "11.0 é ímpar\n",
            "(3 x n) + 1 = 34.0\n",
            " \n",
            "34.0 é par\n",
            "n/2 = 17.0\n",
            " \n",
            "17.0 é ímpar\n",
            "(3 x n) + 1 = 52.0\n",
            " \n",
            "52.0 é par\n",
            "n/2 = 26.0\n",
            " \n",
            "26.0 é par\n",
            "n/2 = 13.0\n",
            " \n",
            "13.0 é ímpar\n",
            "(3 x n) + 1 = 40.0\n",
            " \n",
            "40.0 é par\n",
            "n/2 = 20.0\n",
            " \n",
            "20.0 é par\n",
            "n/2 = 10.0\n",
            " \n",
            "10.0 é par\n",
            "n/2 = 5.0\n",
            " \n",
            "5.0 é ímpar\n",
            "(3 x n) + 1 = 16.0\n",
            " \n",
            "16.0 é par\n",
            "n/2 = 8.0\n",
            " \n",
            "8.0 é par\n",
            "n/2 = 4.0\n",
            " \n",
            "4.0 é par\n",
            "n/2 = 2.0\n",
            " \n",
            "2.0 é par\n",
            "n/2 = 1.0\n",
            " \n",
            "1.0\n"
          ]
        }
      ]
    },
    {
      "cell_type": "markdown",
      "metadata": {
        "id": "OYg4SBTNA4FZ"
      },
      "source": [
        "2) Modifique a função ```counter``` para contar o número de vezes que os dígitos 0 e 5 aparecem em um dado número n. Por exemplo, n = 10568, tem 2 dígitos 0 ou 5."
      ]
    },
    {
      "cell_type": "code",
      "metadata": {
        "colab": {
          "base_uri": "https://localhost:8080/"
        },
        "id": "jFymWdC9BCh3",
        "outputId": "fb4c9a4c-7200-49f5-959c-8eff64548e9c"
      },
      "source": [
        "n = 10568\n",
        "c = 0\n",
        "\n",
        "for f in [1, 10, 100, 1000, 10000]:\n",
        "  i = n // f % 10\n",
        "  if i == 0:\n",
        "    c = c + 1\n",
        "  elif i== 5:\n",
        "    c = c + 1\n",
        "\n",
        "if c == 0:\n",
        "  print('Não existem digitos 0 ou 5 nesse número!')\n",
        "\n",
        "elif c == 1:\n",
        "  print('Existem apenas 1 digito 0 ou 5 nesse número!')\n",
        "\n",
        "else:\n",
        "    print('Existem', c,'digitos 0 ou 5 nesse número!')"
      ],
      "execution_count": null,
      "outputs": [
        {
          "output_type": "stream",
          "name": "stdout",
          "text": [
            "Existem 2 digitos 0 ou 5 nesse número!\n"
          ]
        }
      ]
    },
    {
      "cell_type": "markdown",
      "metadata": {
        "id": "rPD6cKalA4Mz"
      },
      "source": [
        "3) Encapsule e generalize a seguinte declaração:\n",
        "\n",
        "\n",
        "\n",
        "```python\n",
        "for i in [12, 16, 17, 24, 29]:\n",
        "    if i % 2 == 1:  # If the number is odd\n",
        "       break        #  ... immediately exit the loop\n",
        "    print(i)\n",
        "print(\"done\")\n",
        "```"
      ]
    },
    {
      "cell_type": "code",
      "metadata": {
        "colab": {
          "base_uri": "https://localhost:8080/"
        },
        "id": "l6Lt5sGHBDFT",
        "outputId": "163c598c-9b3f-422a-fc03-a2685f6395b0"
      },
      "source": [
        "def impar_par (x):\n",
        "  for i in x:\n",
        "    if i % 2 == 1:      \n",
        "      print(i, 'é impar')\n",
        "    elif i % 2 == 0: \n",
        "      print(i, 'é par')\n",
        "    print(' ')\n",
        "\n",
        "x = [12, 16, 17, 24, 29, 30]\n",
        "\n",
        "impar_par(x)"
      ],
      "execution_count": null,
      "outputs": [
        {
          "output_type": "stream",
          "name": "stdout",
          "text": [
            "12 é par\n",
            " \n",
            "16 é par\n",
            " \n",
            "17 é impar\n",
            " \n",
            "24 é par\n",
            " \n",
            "29 é impar\n",
            " \n",
            "30 é par\n",
            " \n"
          ]
        }
      ]
    },
    {
      "cell_type": "markdown",
      "metadata": {
        "id": "DlANgSf501CV"
      },
      "source": [
        "4) **O método de Newton para raiz quadrada**. Suponha que você queira calcular a raiz quadrada de ***n***. Se você começar com quase qualquer aproximação, poderá calcular uma aproximação melhor (mais próxima da resposta real) com a seguinte fórmula: melhor = (approx + n/approx)/2\n",
        "\n",
        "Usando um _loop_ e repetindo esta fórmula até que a melhor aproximação se aproxime o suficiente da anterior (este \"suficiente\" é arbitrario: podemos considerar uma diferença de 0,001), escreva uma função para calcular a raiz quadrada utilizando o método de Newton.\n",
        "\n",
        "Esse é um exemplo de repetição **indefinida**. Com qual tipo de loop você deve escrever o seu programa?"
      ]
    },
    {
      "cell_type": "code",
      "metadata": {
        "colab": {
          "base_uri": "https://localhost:8080/"
        },
        "id": "n0_vSodNBGKd",
        "outputId": "247ad584-a887-4510-8b66-a51e41c1c75b"
      },
      "source": [
        "def r_q(n):\n",
        "    ap = n/2.0\n",
        "    while True:\n",
        "    \tm = (ap + n/ap)/2.0\n",
        "    \tif abs(ap - m) == 0:\n",
        "    \t\treturn m\n",
        "    \tap = m\n",
        "\n",
        "n = int(input('Digite o número que você deseja saber a raiz quadrada: '))\n",
        "\n",
        "print(' ')\n",
        "\n",
        "print('A raiz quadrada de', n, 'é:', r_q(n))\n",
        "\n",
        "print(' ')\n",
        "\n",
        "print('Loop com while')"
      ],
      "execution_count": null,
      "outputs": [
        {
          "output_type": "stream",
          "name": "stdout",
          "text": [
            "Digite o número que você deseja saber a raiz quadrada: 149769\n",
            " \n",
            "A raiz quadrada de 149769 é: 387.0\n",
            " \n",
            "Loop com while\n"
          ]
        }
      ]
    },
    {
      "cell_type": "markdown",
      "metadata": {
        "id": "ukcGc6MUtXl4"
      },
      "source": [
        "## Exercícios Parte 2\n",
        "https://penseallen.github.io/PensePython2e/05-cond-recur.html\n",
        "\n",
        "1) O módulo time fornece uma função, também chamada time, que devolve a Hora Média de Greenwich na “época”, que é um momento arbitrário usado como ponto de referência. Em sistemas UNIX, a época é primeiro de janeiro de 1970."
      ]
    },
    {
      "cell_type": "code",
      "metadata": {
        "id": "_vNAy-wRtXl5"
      },
      "source": [
        "import time\n",
        "time.time()"
      ],
      "execution_count": null,
      "outputs": []
    },
    {
      "cell_type": "markdown",
      "metadata": {
        "id": "6PCPU7YnCYZV"
      },
      "source": [
        "Escreva um script que leia a hora atual e a converta em um tempo em horas, minutos e segundos, mais o número de dias desde a época."
      ]
    },
    {
      "cell_type": "code",
      "metadata": {
        "colab": {
          "base_uri": "https://localhost:8080/"
        },
        "id": "4uUXaCLrBPTi",
        "outputId": "d56402f2-cb89-4d6e-a61a-ec3b2076a401"
      },
      "source": [
        "import time as tm\n",
        "\n",
        "fd = 24*60*60\n",
        "fh = 60*60\n",
        "fm = 60\n",
        "\n",
        "d = tm.time()/fd\n",
        "h = (tm.time() - int(d)*fd )/fh\n",
        "m = (tm.time() - int(d)*fd - int(h)*fh)/fm\n",
        "s = (tm.time() - int(d)*fd - int(h)*fh - int(m)*fm)\n",
        "\n",
        "di = int(d)\n",
        "hi = int(h)\n",
        "mi = int(m)\n",
        "si = int(s)\n",
        "\n",
        "print('São', hi,'hrs,', mi, 'min,', si,'seg, do')\n",
        "print('dia', di,'depois de 01/01/1970,')\n",
        "print('no horário de Greenwich.')"
      ],
      "execution_count": null,
      "outputs": [
        {
          "output_type": "stream",
          "name": "stdout",
          "text": [
            "São 20 hrs, 13 min, 11 seg, do\n",
            "dia 18898 depois de 01/01/1970,\n",
            "no horário de Greenwich.\n"
          ]
        }
      ]
    },
    {
      "cell_type": "markdown",
      "metadata": {
        "id": "0GPsuxs0CZ2f"
      },
      "source": [
        "2) O último teorema de Fermat diz que não existem números inteiros a, b e c tais que `a**n + b**n == c**n` para quaisquer valores de n maiores que 2.\n",
        "   1. Escreva uma função chamada `check_fermat` que receba quatro parâmetros – a, b, c e n – e verifique se o teorema de Fermat se mantém. Se n for maior que 2 e `a**n + b**n == c**n` o programa deve imprimir, “Holy smokes, Fermat was wrong!” Senão o programa deve exibir “No, that doesn’t work.”\n",
        "\n",
        "   1. Escreva uma função que peça ao usuário para digitar valores para a, b, c e n, os converta em números inteiros e use `check_fermat` para verificar se violam o teorema de Fermat."
      ]
    },
    {
      "cell_type": "code",
      "metadata": {
        "id": "AcRULNzCBRPs",
        "colab": {
          "base_uri": "https://localhost:8080/"
        },
        "outputId": "21f86fb8-faf9-4dd4-95d4-dbb31e2bfa0f"
      },
      "source": [
        "def Check_fermat(a,b,c,n):\n",
        "  if n>2 and (a**n + b**n == c**n):\n",
        "    print(\"Holy smokes, Fermat was wrong!\")\n",
        "  else:\n",
        "    print(\"No, that doesn’t work\")\n",
        "\n",
        "Check_fermat(2,2,4,3)"
      ],
      "execution_count": null,
      "outputs": [
        {
          "output_type": "stream",
          "name": "stdout",
          "text": [
            "No, that doesn’t work\n"
          ]
        }
      ]
    },
    {
      "cell_type": "markdown",
      "metadata": {
        "id": "Ccx6RkOjCoG0"
      },
      "source": [
        "3) Há um teste simples para ver se é possível formar um triângulo para quaisquer três comprimentos: Se algum dos três comprimentos for maior que a soma dos outros dois, então você não pode formar um triângulo. Senão, você pode. (Se a soma de dois comprimentos igualar o terceiro, eles formam um triângulo chamado “degenerado”.)\n",
        "   1. Escreva uma função chamada `is_triangle` que receba três números inteiros como argumentos, e que imprima “Yes” ou “No”, dependendo da possibilidade de formar ou não um triângulo de gravetos com os comprimentos dados.\n",
        "   1. Escreva uma função que peça ao usuário para digitar três comprimentos de gravetos, os converta em números inteiros e use `is_triangle` para verificar se os gravetos com os comprimentos dados podem formar um triângulo."
      ]
    },
    {
      "cell_type": "code",
      "metadata": {
        "id": "xcfoE-xmBTmO",
        "colab": {
          "base_uri": "https://localhost:8080/"
        },
        "outputId": "42fbac7e-86c5-4171-d21c-9d724e7b0a1a"
      },
      "source": [
        "def is_triangle(l1,l2,l3):\n",
        "  if (l1 > l2 + l3) or (l2 > l3 + l1) or (l3 > l2 + l1):\n",
        "    print(\"No\")\n",
        "  elif (l1 == l2 + l3) or (l2 == l3 + l1) or (l3 == l2 + l1):\n",
        "    print(\"Yes, degenerate triangle\")\n",
        "  else:\n",
        "    print(\"Yes\")\n",
        "\n",
        "is_triangle(10,5,4)\n",
        "print(' ')\n",
        "is_triangle(10,5,5)\n",
        "print(' ')\n",
        "is_triangle(10,6,5)"
      ],
      "execution_count": null,
      "outputs": [
        {
          "output_type": "stream",
          "name": "stdout",
          "text": [
            "No\n",
            " \n",
            "Yes, degenerate triangle\n",
            " \n",
            "Yes\n"
          ]
        }
      ]
    },
    {
      "cell_type": "markdown",
      "metadata": {
        "id": "y_tsQq67C73t"
      },
      "source": [
        "4) Leia a próxima função e veja se consegue compreender o que ela faz (veja os exemplos no Capítulo 4). Então execute-a e veja se acertou."
      ]
    },
    {
      "cell_type": "code",
      "metadata": {
        "id": "p1LUrtA2C99E"
      },
      "source": [
        "def draw(t, length, n):\n",
        "    '''\n",
        "    t: turtle ou ColabTurtle\n",
        "    length: comprimento da linha\n",
        "    n: número de iterações. deve ser maior que zero.\n",
        "    '''\n",
        "    if n == 0:\n",
        "        return\n",
        "    angle = 50\n",
        "    t.forward(length * n)\n",
        "    t.left(angle)\n",
        "    draw(t, length, n-1)\n",
        "    t.right(2 * angle)\n",
        "    draw(t, length, n-1)\n",
        "    t.left(angle)\n",
        "    t.backward(length * n)"
      ],
      "execution_count": null,
      "outputs": []
    },
    {
      "cell_type": "markdown",
      "metadata": {
        "id": "5Y5MxE27AY5m"
      },
      "source": [
        "Não acertei\n"
      ]
    },
    {
      "cell_type": "markdown",
      "metadata": {
        "id": "WpeZVhIBElfQ"
      },
      "source": [
        "5) A curva de Koch é um fractal que parece com o da Figura abaixo. \n",
        "![](https://github.com/PenseAllen/PensePython2e/raw/master/fig/tnkp_0502.png)\n",
        "\n",
        "Para desenhar uma curva de Koch com o comprimento x, tudo o que você tem que fazer é:\n",
        "\n",
        "1. Desenhe uma curva de Koch com o comprimento x/3.\n",
        "\n",
        "1. Vire 60 graus à esquerda.\n",
        "\n",
        "1. Desenhe uma curva de Koch com o comprimento x/3.\n",
        "\n",
        "1. Vire 120 graus à direita.\n",
        "\n",
        "1. Desenhe uma curva de Koch com o comprimento x/3.\n",
        "\n",
        "1. Vire 60 graus à esquerda.\n",
        "\n",
        "1. Desenhe uma curva de Koch com o comprimento x/3.\n",
        "\n",
        "\n",
        "A exceção é se x for menor que 3: neste caso, você pode desenhar apenas uma linha reta com o comprimento x.\n",
        "\n",
        "1. Escreva uma função chamada `koch` que receba um `turtle` (usar [trinket](https://trinket.io/turtle)) e um comprimento como parâmetros, e use o `turtle` para desenhar uma curva de Koch com o comprimento dado.\n",
        "\n",
        "1. Escreva uma função chamada `snowflake` que desenhe três curvas de Koch para fazer o traçado de um floco de neve.\n",
        "\n",
        "1. A curva de Koch pode ser generalizada de vários modos. Veja exemplos em http://en.wikipedia.org/wiki/Koch_snowflake e implemente o seu favorito."
      ]
    },
    {
      "cell_type": "code",
      "metadata": {
        "id": "9TjNkfJQJW4B"
      },
      "source": [
        "import turtle\n",
        "\n",
        "t = turtle\n",
        "\n",
        "t.penup()\n",
        "t.setpos(-150, 0)\n",
        "t.pendown()\n",
        "t.speed(0)\n",
        "\n",
        "def koch(t, n, l):\n",
        "    if n == 0:\n",
        "        t.forward(l)\n",
        "    else:\n",
        "        for angle in [60, -120, 60, 0]:\n",
        "            koch(t, n - 1, l/3)\n",
        "            t.left(angle)\n",
        "\n",
        "l = 300\n",
        "n = 4  \n",
        "\n",
        "koch(t, n, l)"
      ],
      "execution_count": null,
      "outputs": []
    },
    {
      "cell_type": "markdown",
      "metadata": {
        "id": "K0_Y0Z33JXU4"
      },
      "source": [
        "4. Escreva uma função chamada `snowflake` que desenhe três curvas de Koch para fazer o traçado de um floco de neve."
      ]
    },
    {
      "cell_type": "code",
      "metadata": {
        "id": "-LTn0ft8Eg1Y"
      },
      "source": [
        "import turtle\n",
        "\n",
        "t = turtle\n",
        "\n",
        "t.penup()\n",
        "t.setpos(-150, 100)\n",
        "t.pendown()\n",
        "t.speed(10)\n",
        "\n",
        "def koch (t, n, l):\n",
        "    if n == 0:\n",
        "        t.forward(l)\n",
        "    else:\n",
        "        for ang in [60, -120, 60, 0]:\n",
        "            koch(t, n - 1, l/3)\n",
        "            t.left(ang)\n",
        "\n",
        "def snowflake (t, n, l):\n",
        "  for ang in  [120, 120, 0]:\n",
        "      koch(t, n, l)\n",
        "      t.right(ang)\n",
        "\n",
        "l = 300\n",
        "n = 4   #ultizar de 1 até 5, pois de 6 pra cima fica muito detalhado e demorado\n",
        "\n",
        "snowflake (t, n, l)"
      ],
      "execution_count": null,
      "outputs": []
    }
  ]
}