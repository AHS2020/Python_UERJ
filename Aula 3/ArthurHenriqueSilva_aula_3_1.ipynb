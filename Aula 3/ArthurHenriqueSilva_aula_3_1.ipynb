{
  "nbformat": 4,
  "nbformat_minor": 0,
  "metadata": {
    "colab": {
      "name": "ArthurHenriqueSilva_aula_3_1.ipynb",
      "provenance": [],
      "authorship_tag": "ABX9TyOhcRzX5mIqRWfoc2f9Lszy",
      "include_colab_link": true
    },
    "kernelspec": {
      "name": "python3",
      "display_name": "Python 3"
    }
  },
  "cells": [
    {
      "cell_type": "markdown",
      "metadata": {
        "id": "view-in-github",
        "colab_type": "text"
      },
      "source": [
        "<a href=\"https://colab.research.google.com/github/AHS2020/Python_UERJ/blob/master/Aula%203/ArthurHenriqueSilva_aula_3_1.ipynb\" target=\"_parent\"><img src=\"https://colab.research.google.com/assets/colab-badge.svg\" alt=\"Open In Colab\"/></a>"
      ]
    },
    {
      "cell_type": "code",
      "metadata": {
        "id": "aYGTzAVYeU0F",
        "outputId": "9e1a095c-335f-4ed2-e18f-56db5cc04519",
        "colab": {
          "base_uri": "https://localhost:8080/",
          "height": 156
        }
      },
      "source": [
        "print()\n",
        "\n",
        "print('Aluno - Arthur Henrique Silva')\n",
        "print('Aula - 3')\n",
        "print('Exercício - 1')\n",
        "\n",
        "print()\n",
        "\n",
        "def fun():\n",
        "\tprint('Digite um artgumeto')\n",
        "\tx = input('Argumento: ')\t#Faz a tomada do argumento digitado\n",
        "\ttry:\t\t\t\t#Tenta ver se x pode ser um número inteiro\n",
        "\t\tx = int(x)\t\t\t\n",
        "\t\tprint(x, type(x))\t\t\n",
        "\texcept ValueError:\n",
        "\t\ttry:\t\t\t#Se n for inteiro, tenta ver se ele pode ser um número real\n",
        "\t\t\tx = float(x)\t\t\n",
        "\t\t\tprint(x, type(x))\n",
        "\t\texcept ValueError:\t\t#Se n for nem inteiro nem real, é uma string\n",
        "\t\t\tprint(x, type(x))\n",
        "\n",
        "fun()\n"
      ],
      "execution_count": 1,
      "outputs": [
        {
          "output_type": "stream",
          "text": [
            "\n",
            "Aluno - Arthur Henrique Silva\n",
            "Aula - 3\n",
            "Exercício - 1\n",
            "\n",
            "Digite um artgumeto\n",
            "Argumento: 13.5\n",
            "13.5 <class 'float'>\n"
          ],
          "name": "stdout"
        }
      ]
    }
  ]
}