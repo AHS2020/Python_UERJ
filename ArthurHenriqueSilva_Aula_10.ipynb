{
  "nbformat": 4,
  "nbformat_minor": 0,
  "metadata": {
    "colab": {
      "name": "ArthurHenriqueSilva_Aula_10.ipynb",
      "provenance": [],
      "authorship_tag": "ABX9TyMamHXm+Jyw8rIYDNCwaWCp",
      "include_colab_link": true
    },
    "kernelspec": {
      "name": "python3",
      "display_name": "Python 3"
    },
    "language_info": {
      "name": "python"
    }
  },
  "cells": [
    {
      "cell_type": "markdown",
      "metadata": {
        "id": "view-in-github",
        "colab_type": "text"
      },
      "source": [
        "<a href=\"https://colab.research.google.com/github/AHS2020/Python_UERJ/blob/master/ArthurHenriqueSilva_Aula_10.ipynb\" target=\"_parent\"><img src=\"https://colab.research.google.com/assets/colab-badge.svg\" alt=\"Open In Colab\"/></a>"
      ]
    },
    {
      "cell_type": "markdown",
      "metadata": {
        "id": "zz8ch5fReyxZ"
      },
      "source": [
        "## Exercícios\n",
        "\n",
        "1. Quantos intervalos (ou qual largura de intervalo) é preciso implementar para ter uma precisão de 1% no resultado numérico na integração de $f(x)$ de 0 a 10? \n",
        "\n",
        "$\\dfrac{R_{num}-R_{an}}{R_{an}} \\leq 10\\% $\n"
      ]
    },
    {
      "cell_type": "code",
      "metadata": {
        "colab": {
          "base_uri": "https://localhost:8080/"
        },
        "id": "ozwLNwNa7e2I",
        "outputId": "a239a977-f05d-4f2d-ebb0-b7e301c516cd"
      },
      "source": [
        "import numpy as np\n",
        "import math as mt\n",
        "\n",
        "x_i = 0\n",
        "x_f = 10\n",
        "p = 1\n",
        "S1 = 1\n",
        "\n",
        "for dx in [1,0.1,0.01,0.001,0.0001,0.00001,0.000001]:\n",
        "    if p > (1/100): \n",
        "      n_steps = round((x_f - x_i)/dx)\n",
        "\n",
        "      x = np.arange(x_i,x_f,dx)\n",
        "\n",
        "      S2 = S1\n",
        "\n",
        "      S1= 0\n",
        "      for xi in x:\n",
        "          S1 = S1+ mt.exp(-xi) * dx\n",
        "\n",
        "      print(f\"Soma de {n_steps} caixinhas = \",S1)\n",
        "      \n",
        "      p = (S1-S2)/S2\n",
        "\n",
        "      if p > 0:\n",
        "        p = p\n",
        "      else:\n",
        "        p = -p\n",
        "\n",
        "      print(f\"Largura do intervalo = {dx}\", f\"Precisão = {p}\")\n",
        "      print(' ')\n",
        "      continue\n",
        "\n",
        "    print(f\"A largura de intervalo para ter uma precisão de 1% é dx = {dx}\")\n",
        "    break\n",
        "\n"
      ],
      "execution_count": 22,
      "outputs": [
        {
          "output_type": "stream",
          "name": "stdout",
          "text": [
            "Soma de 10 caixinhas =  1.5819048852379485\n",
            "Largura do intervalo = 1 Precisão = 0.5819048852379485\n",
            " \n",
            "Soma de 100 caixinhas =  1.0507854867242843\n",
            "Largura do intervalo = 0.1 Precisão = 0.3357467338712806\n",
            " \n",
            "Soma de 1000 caixinhas =  1.0049627060117017\n",
            "Largura do intervalo = 0.01 Precisão = 0.04360812105944708\n",
            " \n",
            "Soma de 10000 caixinhas =  1.0004546606998224\n",
            "Largura do intervalo = 0.001 Precisão = 0.004485783686212556\n",
            " \n",
            "A largura de intervalo para ter uma precisão de 1% é dx = 0.0001\n"
          ]
        }
      ]
    },
    {
      "cell_type": "markdown",
      "metadata": {
        "id": "FqK32zIB4-8q"
      },
      "source": [
        "2. Faça a integração numérica pela esquerda da mesma função. Compare o resultado com a integração pela direita."
      ]
    },
    {
      "cell_type": "code",
      "metadata": {
        "colab": {
          "base_uri": "https://localhost:8080/"
        },
        "id": "On95HZQe5poJ",
        "outputId": "aae2d358-1bcc-40ab-c242-50215a57e60a"
      },
      "source": [
        "import numpy as np\n",
        "import math as mt\n",
        "\n",
        "x_i = 0\n",
        "x_f = 10\n",
        "p = 1\n",
        "S1 = 1\n",
        "\n",
        "for dx in [1,0.1,0.01,0.001,0.0001,0.00001,0.000001]:\n",
        "    if p > (1/100): \n",
        "      n_steps = round((x_f - x_i)/dx)\n",
        "\n",
        "      x = np.arange(x_i-dx,x_f-dx,dx)\n",
        "\n",
        "      S2 = S1\n",
        "\n",
        "      S1= 0\n",
        "      for xi in x:\n",
        "          S1 = S1 + mt.exp(-xi) * dx\n",
        "\n",
        "      print(f\"Soma de {n_steps} caixinhas = \",S1)\n",
        "      \n",
        "      p = (S1-S2)/S2\n",
        "\n",
        "      if p > 0:\n",
        "        p = p\n",
        "      else:\n",
        "        p = -p\n",
        "\n",
        "      print(f\"Largura do intervalo = {dx}\", f\"Precisão = {p}\")\n",
        "      print(' ')\n",
        "      continue\n",
        "\n",
        "    print(f\"A largura de intervalo para ter uma precisão de 1% é dx = {dx}\")\n",
        "    break\n",
        "\n"
      ],
      "execution_count": 24,
      "outputs": [
        {
          "output_type": "stream",
          "name": "stdout",
          "text": [
            "Soma de 10 caixinhas =  4.300063303892907\n",
            "Largura do intervalo = 1 Precisão = 3.300063303892907\n",
            " \n",
            "Soma de 100 caixinhas =  1.1612975610636436\n",
            "Largura do intervalo = 0.1 Precisão = 0.7299347756084649\n",
            " \n",
            "Soma de 1000 caixinhas =  1.015062749120476\n",
            "Largura do intervalo = 0.01 Precisão = 0.12592363649608435\n",
            " \n",
            "Soma de 10000 caixinhas =  1.0014556157546364\n",
            "Largura do intervalo = 0.001 Precisão = 0.013405213990593032\n",
            " \n",
            "Soma de 100000 caixinhas =  1.000104604093584\n",
            "Largura do intervalo = 0.0001 Precisão = 0.0013490479655799898\n",
            " \n",
            "A largura de intervalo para ter uma precisão de 1% é dx = 1e-05\n"
          ]
        }
      ]
    },
    {
      "cell_type": "markdown",
      "metadata": {
        "id": "NqF1Ar9o5Bcp"
      },
      "source": [
        "3. Faça a integração por trapézios. Lembre que a área de um trapézio é dada por: $A=\\frac{(a + b)h}{2}$"
      ]
    },
    {
      "cell_type": "code",
      "metadata": {
        "colab": {
          "base_uri": "https://localhost:8080/"
        },
        "id": "RGJ5dj7_5pNY",
        "outputId": "e5e7cf0f-e46d-49ec-c7a1-2c613dbf1bf3"
      },
      "source": [
        "import numpy as np\n",
        "import math as mt\n",
        "\n",
        "x_i = 0\n",
        "x_f = 10\n",
        "p = 1\n",
        "S1 = 1\n",
        "\n",
        "for dx in [1,0.1,0.01,0.001,0.0001,0.00001,0.000001]:\n",
        "    if p > (1/100): \n",
        "      n_steps = round((x_f - x_i)/dx)\n",
        "\n",
        "      x = np.arange(x_i-dx,x_f-dx,dx)\n",
        "\n",
        "      S2 = S1\n",
        "\n",
        "      S1= 0\n",
        "      for xi in x:\n",
        "          S1 = S1 + (mt.exp(-xi+dx) + mt.exp(-xi)) * dx/2\n",
        "\n",
        "      print(f\"Soma de {n_steps} caixinhas = \",S1)\n",
        "      \n",
        "      p = (S1-S2)/S2\n",
        "\n",
        "      if p > 0:\n",
        "        p = p\n",
        "      else:\n",
        "        p = -p\n",
        "\n",
        "      print(f\"Largura do intervalo = {dx}\", f\"Precisão = {p}\")\n",
        "      print(' ')\n",
        "      continue\n",
        "\n",
        "    print(f\"A largura de intervalo para ter uma precisão de 1% é dx = {dx}\")\n",
        "    break"
      ],
      "execution_count": 25,
      "outputs": [
        {
          "output_type": "stream",
          "name": "stdout",
          "text": [
            "Soma de 10 caixinhas =  7.994423622044281\n",
            "Largura do intervalo = 1 Precisão = 6.994423622044281\n",
            " \n",
            "Soma de 100 caixinhas =  1.2223649263916787\n",
            "Largura do intervalo = 0.1 Precisão = 0.8470978041467481\n",
            " \n",
            "Soma de 1000 caixinhas =  1.020163524235262\n",
            "Largura do intervalo = 0.01 Precisão = 0.16541819696455026\n",
            " \n",
            "Soma de 10000 caixinhas =  1.001956594009892\n",
            "Largura do intervalo = 0.001 Precisão = 0.017847070389051936\n",
            " \n",
            "Soma de 100000 caixinhas =  1.0001546118241396\n",
            "Largura do intervalo = 0.0001 Precisão = 0.00179846332318729\n",
            " \n",
            "A largura de intervalo para ter uma precisão de 1% é dx = 1e-05\n"
          ]
        }
      ]
    },
    {
      "cell_type": "markdown",
      "metadata": {
        "id": "cJYEZvJ35FXl"
      },
      "source": [
        "4. Faça a integração numérica das funções trigonométricas $\\sin(x)$ e $\\cos(x)$ num período $0 < x \\leq 2\\pi$."
      ]
    },
    {
      "cell_type": "code",
      "metadata": {
        "colab": {
          "base_uri": "https://localhost:8080/"
        },
        "id": "u9NF0rMqRUsv",
        "outputId": "12dd612c-c6d2-409f-eb4a-ef38667e5f13"
      },
      "source": [
        "import numpy as np\n",
        "import math as mt\n",
        "\n",
        "x_i = 0\n",
        "x_f = 2*mt.pi\n",
        "\n",
        "dx = 0.1\n",
        "\n",
        "n_steps = round((x_f - x_i)/dx)\n",
        "\n",
        "x = np.arange(x_i,x_f,dx)\n",
        "\n",
        "S1= 0\n",
        "\n",
        "for xi in x:\n",
        "  S1 = S1 + mt.sin(xi) * dx\n",
        "\n",
        "print(f\"Soma de {n_steps} caixinhas = {S1:.2f}\")"
      ],
      "execution_count": 47,
      "outputs": [
        {
          "output_type": "stream",
          "name": "stdout",
          "text": [
            "Soma de 63 caixinhas = -0.00\n"
          ]
        }
      ]
    },
    {
      "cell_type": "code",
      "metadata": {
        "colab": {
          "base_uri": "https://localhost:8080/"
        },
        "id": "LtZ0yQA_Smza",
        "outputId": "f9403a77-44bf-4065-fd3a-8f8e56a5fdb3"
      },
      "source": [
        "import numpy as np\n",
        "import math as mt\n",
        "\n",
        "x_i = 0\n",
        "x_f = 2*mt.pi\n",
        "\n",
        "dx = 0.001\n",
        "\n",
        "n_steps = round((x_f - x_i)/dx)\n",
        "\n",
        "x = np.arange(x_i,x_f,dx)\n",
        "\n",
        "S1= 0\n",
        "\n",
        "for xi in x:\n",
        "  S1 = S1 + mt.cos(xi) * dx\n",
        "\n",
        "print(f\"Soma de {n_steps} caixinhas = {S1:.2f}\")"
      ],
      "execution_count": 45,
      "outputs": [
        {
          "output_type": "stream",
          "name": "stdout",
          "text": [
            "Soma de 6283 caixinhas = 0.00\n"
          ]
        }
      ]
    },
    {
      "cell_type": "markdown",
      "metadata": {
        "id": "R0lDzpaY5IOC"
      },
      "source": [
        "5. Faça a integração das funções hiperbólicas  $\\sinh(x)$ e $\\cosh(x)$ no intervalo $0-10$."
      ]
    },
    {
      "cell_type": "code",
      "metadata": {
        "colab": {
          "base_uri": "https://localhost:8080/"
        },
        "id": "tEXS2M365ovv",
        "outputId": "fa0e8f22-221a-4575-9a0f-b3ff22d64f14"
      },
      "source": [
        "import numpy as np\n",
        "import math as mt\n",
        "\n",
        "x_i = 0\n",
        "x_f = 10\n",
        "\n",
        "dx = 0.000001\n",
        "\n",
        "n_steps = round((x_f - x_i)/dx)\n",
        "\n",
        "x = np.arange(x_i,x_f,dx)\n",
        "\n",
        "S1 = 0\n",
        "\n",
        "for xi in x:\n",
        "  S1 = S1 + (mt.exp(xi) - mt.exp(-xi)) * dx/2\n",
        "\n",
        "print(f\"Soma de {n_steps} caixinhas = {S1:.2f}\")"
      ],
      "execution_count": 58,
      "outputs": [
        {
          "output_type": "stream",
          "name": "stdout",
          "text": [
            "Soma de 10000000 caixinhas = 11012.23\n"
          ]
        }
      ]
    },
    {
      "cell_type": "code",
      "metadata": {
        "colab": {
          "base_uri": "https://localhost:8080/"
        },
        "id": "zG7vxkUYUWQJ",
        "outputId": "653b1171-1f61-494c-c9fc-13feddea56b3"
      },
      "source": [
        "import numpy as np\n",
        "import math as mt\n",
        "\n",
        "x_i = 0\n",
        "x_f = 10\n",
        "\n",
        "dx = 0.000001\n",
        "\n",
        "n_steps = round((x_f - x_i)/dx)\n",
        "\n",
        "x = np.arange(x_i,x_f,dx)\n",
        "\n",
        "S1 = 0\n",
        "\n",
        "for xi in x:\n",
        "  S1 = S1 + (mt.exp(xi) + mt.exp(-xi)) * dx/2\n",
        "\n",
        "print(f\"Soma de {n_steps} caixinhas = {S1:.2f}\")"
      ],
      "execution_count": 59,
      "outputs": [
        {
          "output_type": "stream",
          "name": "stdout",
          "text": [
            "Soma de 10000000 caixinhas = 11013.23\n"
          ]
        }
      ]
    },
    {
      "cell_type": "markdown",
      "metadata": {
        "id": "6UKLyVZ7eyxe"
      },
      "source": [
        "### Exercícios extras de resolução numérica de equações diferenciais\n",
        "\n",
        "1. Imagine que tem um/a maratonista treinando, que num trecho de $5 km$ tem velocidade quase constante de $12 km/h$. Produza uma lista distância percorrida em intervalos de 1 minuto.\n"
      ]
    },
    {
      "cell_type": "code",
      "metadata": {
        "colab": {
          "base_uri": "https://localhost:8080/"
        },
        "id": "kBm7UCajYPV5",
        "outputId": "dca02898-a5cf-4863-be88-2b89cc41a9bd"
      },
      "source": [
        "D = 5 #quilometros\n",
        "\n",
        "V = 12 #quilometros por hora\n",
        "\n",
        "def eq_dif_num (D,V):\n",
        "    V_pmin = V / 60  #quilometros por min\n",
        "\n",
        "    n = 1\n",
        "\n",
        "    d = 0\n",
        "\n",
        "    xs = list()\n",
        "\n",
        "    while d < 5:\n",
        "        d = V_pmin * n\n",
        "        print(f' {d:.1f} é adistância percorrida em  {n} minutos')\n",
        "        n = n + 1\n",
        "        xs.append(float(f'{d:.1f}'))\n",
        "    \n",
        "    print(' ')\n",
        "\n",
        "    print(xs)\n",
        "\n",
        "eq_dif_num (D,V)"
      ],
      "execution_count": 2,
      "outputs": [
        {
          "output_type": "stream",
          "name": "stdout",
          "text": [
            " 0.2 é adistância percorrida em  1 minutos\n",
            " 0.4 é adistância percorrida em  2 minutos\n",
            " 0.6 é adistância percorrida em  3 minutos\n",
            " 0.8 é adistância percorrida em  4 minutos\n",
            " 1.0 é adistância percorrida em  5 minutos\n",
            " 1.2 é adistância percorrida em  6 minutos\n",
            " 1.4 é adistância percorrida em  7 minutos\n",
            " 1.6 é adistância percorrida em  8 minutos\n",
            " 1.8 é adistância percorrida em  9 minutos\n",
            " 2.0 é adistância percorrida em  10 minutos\n",
            " 2.2 é adistância percorrida em  11 minutos\n",
            " 2.4 é adistância percorrida em  12 minutos\n",
            " 2.6 é adistância percorrida em  13 minutos\n",
            " 2.8 é adistância percorrida em  14 minutos\n",
            " 3.0 é adistância percorrida em  15 minutos\n",
            " 3.2 é adistância percorrida em  16 minutos\n",
            " 3.4 é adistância percorrida em  17 minutos\n",
            " 3.6 é adistância percorrida em  18 minutos\n",
            " 3.8 é adistância percorrida em  19 minutos\n",
            " 4.0 é adistância percorrida em  20 minutos\n",
            " 4.2 é adistância percorrida em  21 minutos\n",
            " 4.4 é adistância percorrida em  22 minutos\n",
            " 4.6 é adistância percorrida em  23 minutos\n",
            " 4.8 é adistância percorrida em  24 minutos\n",
            " 5.0 é adistância percorrida em  25 minutos\n",
            " \n",
            "[0.2, 0.4, 0.6, 0.8, 1.0, 1.2, 1.4, 1.6, 1.8, 2.0, 2.2, 2.4, 2.6, 2.8, 3.0, 3.2, 3.4, 3.6, 3.8, 4.0, 4.2, 4.4, 4.6, 4.8, 5.0]\n"
          ]
        }
      ]
    },
    {
      "cell_type": "markdown",
      "metadata": {
        "id": "_9_nyEzN5Qxk"
      },
      "source": [
        "2. O/A mesmo/a atleta no seguinte trecho acelera por $200$ metros até chegar em $15 km/h$ por $2 km$. Queremos obter uma tabela ou gráfico da distância percorrida en função do tempo e o tempo total para chegar em $7 km$, faça isto utilizando listas."
      ]
    },
    {
      "cell_type": "code",
      "metadata": {
        "colab": {
          "base_uri": "https://localhost:8080/",
          "height": 392
        },
        "id": "WEJKsbly5oC1",
        "outputId": "826229e4-93d6-4e86-d70f-29568036c603"
      },
      "source": [
        "import matplotlib.pyplot as plt\n",
        "\n",
        "v_1 = 12 #quilometros por hora\n",
        "\n",
        "v_2 = 15 #quilometros por hora\n",
        "\n",
        "d_a = 0.2 #200 metros de aceleração entre v_1 e v_2\n",
        "\n",
        "T = []\n",
        "D = []\n",
        "\n",
        "def creating_list (v_1,v_2,d_a):\n",
        "    vm_1 = v_1 / 60  #quilometros por min\n",
        "    vm_2 = v_2 / 60  #quilometros por min\n",
        "\n",
        "    a = (vm_2**2 - vm_1**2)/(2*d_a)\n",
        "\n",
        "    d = 0\n",
        "    t = 0\n",
        "    t0 = 0\n",
        "    t1 = 20.8\n",
        "    dt = 0.01\n",
        "\n",
        "    for n in range(10000):\n",
        "      if d < 7:\n",
        "        if d < 5:\n",
        "          d = vm_1*t\n",
        "          D.append(float(f'{d:.3f}'))\n",
        "          T.append(float(f'{t:.3f}'))\n",
        "          t = t + dt\n",
        "        elif d < 5.2:\n",
        "          t0 = t0 + dt\n",
        "          d = vm_1*t + a*(t0**2)\n",
        "          D.append(float(f'{d:.3f}'))\n",
        "          T.append(float(f'{t:.3f}'))\n",
        "          t = t + dt\n",
        "        else:\n",
        "          t1 = t1 + dt\n",
        "          d = vm_2*t1\n",
        "          D.append(float(f'{d:.3f}'))\n",
        "          T.append(float(f'{t:.3f}'))\n",
        "          t = t + dt\n",
        "\n",
        "def plot_list (T,D):\n",
        "    plt.figure(figsize=(8, 6))\n",
        "    plt.xlabel('Tempo em min')\n",
        "    plt.ylabel('Distância em km')\n",
        "    plt.xlim(0, 35)\n",
        "    plt.ylim(0, 7)\n",
        "    plt.plot(T,D)\n",
        "    plt.grid()\n",
        "    plt.savefig('list.png')\n",
        "    plt.show()\n",
        "\n",
        "creating_list (v_1,v_2,d_a)\n",
        "#print(T)\n",
        "#print(D)\n",
        "plot_list (T,D)"
      ],
      "execution_count": 3,
      "outputs": [
        {
          "output_type": "display_data",
          "data": {
            "image/png": "[encoded data removed]",
            "text/plain": [
              "<Figure size 576x432 with 1 Axes>"
            ]
          },
          "metadata": {
            "needs_background": "light"
          }
        }
      ]
    },
    {
      "cell_type": "markdown",
      "metadata": {
        "id": "HQV2KHYt5VSJ"
      },
      "source": [
        "3. Considere um péndulo simples num plano. O comprimento da linha é $1$ metro, a massa é $0,2 kg$ e a aceleração de gravidade $9,8 m/s^2$. Faça um gráfico ou crie uma tabela para a posição em coordenadas cartesianas em função do tempo, utilizando listas.\n",
        "\n",
        "\n",
        "- (opcional) Pesquise sobre o pacote numpy e os objetos desse pacote chamados array, tente utilizálos ao invés de listas para resolver os exercícios.\n",
        "\n",
        "- (opcional) Pesquise sobre o pacote scipy e seu modulo integrate para resolver integrações ou equações diferenciais numéricamente."
      ]
    },
    {
      "cell_type": "code",
      "metadata": {
        "colab": {
          "base_uri": "https://localhost:8080/",
          "height": 279
        },
        "id": "Q7PO5aQK5nuK",
        "outputId": "44d9e200-9ba9-4f00-f8a0-7218eebdbad0"
      },
      "source": [
        "from math import *\n",
        "import matplotlib.pyplot as plt\n",
        "\n",
        "# Propriedades do pêndulo\n",
        "l = 1                                             # comprimento do fio em (m)\n",
        "m = 0.2                                           # massa do objeto em (kg)\n",
        "g = 9.8                                           # aceleração gravitacional em (m/s²)\n",
        "\n",
        "# Condições iniciais\n",
        "theta = radians(30)                               # ângulo inicial de 30 graus\n",
        "vx = 0                                            # velocidade inicial na direção x (m/s)\n",
        "vy = 0                                            # velocidade inicial em y (m/s)\n",
        "w = 0                                             # velocidade angular inicial em (rad/s)\n",
        "t = 0                                             # tempo inicial (s)\n",
        "tf = 30                                           # tempo final (s)\n",
        "dt = 0.0001                                       # time-step (s)\n",
        "\n",
        "# Posições cartesianas iniciais\n",
        "x = l*sin(theta)                                  # posição x (m)\n",
        "y = l*cos(theta)                                  # posição y (m)\n",
        "\n",
        "# Criando as listas vazias\n",
        "T = []                                            # lista para os valores de tempo\n",
        "X = []                                            # lista para os valores de x\n",
        "Y = []                                            # lista para os valores de y\n",
        "\n",
        "# Atualizando os valores do movimento\n",
        "while t <= tf:\n",
        "\tx = l*sin(theta)                                # atualiza os valores de x (coordenada cartesiana x)\n",
        "\ty = l*cos(theta)                                # atualiza os valores de y (coordenadas cartesiana y)\n",
        "\ta = -(g/l)*sin(theta)                           # atualiza os valores de alfa (aceleração angular)\n",
        "\tw = w + a*dt                                    # atualiza os valores de w (velocidade angular)\n",
        "\ttheta = theta + w*dt                            # atualiza os valores de theta (posição angular)\n",
        "\tt = t + dt                                      # atualiza os valores de t (tempo)\n",
        "\n",
        "\tT.append(t)                                     # acrescenta a lista t_list o valor de t\n",
        "\tX.append(x)                                     # acrescenta a lista x_list o valor de x\n",
        "\tY.append(-y)                                     # acrescenta a lista z_list o valor de y\n",
        "\n",
        "def plot_gráfico(x,f,x_label,f_label):            # função que faz o plotting com o gráfico convencional\n",
        "  fig, ax = plt.subplots()                        # parametro para ser usado na linha a baixo\n",
        "  ax.xaxis.tick_top()                             # coloca o eixo x no topo do gráfico\n",
        "  plt.plot(x,f)                                   # plot (x,f(x))\n",
        "  plt.xlabel(x_label)                             # da nome ao eixo inferior\n",
        "  plt.ylabel(f_label)                             # da nome ao eixo superior\n",
        "  plt.grid()                                      # coloca uma grade no gráfico\n",
        "  plt.savefig('fig.png')                          # salva a figura como fig.png  \n",
        "  plt.show()                                      # mostrar o gráfico na tela\n",
        "\n",
        "plot_gráfico(X,Y,'Posição x (m)','Posição y (m)')"
      ],
      "execution_count": 4,
      "outputs": [
        {
          "output_type": "display_data",
          "data": {
            "image/png": "[encoded data removed]",
            "text/plain": [
              "<Figure size 432x288 with 1 Axes>"
            ]
          },
          "metadata": {
            "needs_background": "light"
          }
        }
      ]
    }
  ]
}