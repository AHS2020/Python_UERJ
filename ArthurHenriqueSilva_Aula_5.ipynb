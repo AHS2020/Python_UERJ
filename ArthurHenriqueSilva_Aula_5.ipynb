{
  "nbformat": 4,
  "nbformat_minor": 0,
  "metadata": {
    "colab": {
      "name": "ArthurHenriqueSilva_Aula_5.ipynb",
      "provenance": [],
      "collapsed_sections": [],
      "authorship_tag": "ABX9TyMadbGXQ9OWzr3VqZgkfLCP",
      "include_colab_link": true
    },
    "kernelspec": {
      "name": "python3",
      "display_name": "Python 3"
    },
    "language_info": {
      "name": "python"
    }
  },
  "cells": [
    {
      "cell_type": "markdown",
      "metadata": {
        "id": "view-in-github",
        "colab_type": "text"
      },
      "source": [
        "<a href=\"https://colab.research.google.com/github/AHS2020/Python_UERJ/blob/master/ArthurHenriqueSilva_Aula_5.ipynb\" target=\"_parent\"><img src=\"https://colab.research.google.com/assets/colab-badge.svg\" alt=\"Open In Colab\"/></a>"
      ]
    },
    {
      "cell_type": "markdown",
      "metadata": {
        "id": "9qxCNQPhyhl2"
      },
      "source": [
        "### Exercícios:\n",
        "1. Modifique o programa da tartaruga (primeiro exemplo) para que, antes de criar a janela, ele solicite que o usuário insira a cor de fundo desejada. Ele deve armazenar as respostas do usuário em uma variável e modificar a cor da janela de acordo com os desejos do usuário. \n",
        "   * ***Dicas***: faça uso da função ***input***, built-in do python\n",
        "   * você pode encontrar uma lista de nomes de cores permitidos em http://www.tcl.tk/man/tcl8.4/TkCmd/colors.htm. Inclui alguns bem incomuns, como “peach puff” e “HotPink” ”***"
      ]
    },
    {
      "cell_type": "code",
      "metadata": {
        "id": "KVQgRr127kkO"
      },
      "source": [
        "import turtle            \n",
        "jn = turtle.Screen()      \n",
        "joana = turtle.Turtle()    \n",
        "\n",
        "prompt = 'Digite o nome de uma cor dentre as encontradas em: \"http://www.tcl.tk/man/tcl8.4/TkCmd/colors.html\", para ser a tela de fundo. \\n'\n",
        "\n",
        "jn.bgcolor(input(prompt)) \n",
        "joana.forward(50)         \n",
        "joana.left(90)             \n",
        "joana.forward(30)          \n",
        "\n",
        "jn.mainloop()             "
      ],
      "execution_count": null,
      "outputs": []
    },
    {
      "cell_type": "markdown",
      "metadata": {
        "id": "90C-2jkc7Gww"
      },
      "source": [
        "2. Faça modificações similares para permitir que o usuário mude a cor da tartaruga durante a execução do programa.\n",
        "   1. Faça o mesmo para a largura da caneta da tartaruga. *Dica: seu diálogo com o usuário retornará uma string, mas o método **pensize** espera que seu argumento seja um **int**. Então, você precisará converter a **string** em um **int** antes de passá-la para **pensize**.*"
      ]
    },
    {
      "cell_type": "code",
      "metadata": {
        "id": "ze2W1eoA7kDQ"
      },
      "source": [
        "import turtle                     \n",
        "jn = turtle.Screen()               \n",
        "joana = turtle.Turtle()            \n",
        "\n",
        "print('As cores utilizadas aqui são encontradas em: \"http://www.tcl.tk/man/tcl8.4/TkCmd/colors.html\".')\n",
        "\n",
        "print(' ')\n",
        "print(' ')\n",
        "\n",
        "prompt1 = 'Digite o nome de uma cor para ser a cor de fundo da janela: \\n'\n",
        "prompt2 = 'Digite o nome de uma cor diferente da anterior para ser a cor da tartaruga: \\n'\n",
        "prompt3 = 'Digite um numerointeiro para ser a largura da caneta: \\n'\n",
        "\n",
        "jn.bgcolor(input(prompt1))\n",
        "print(' ')        \n",
        "joana.color(input(prompt2))\n",
        "print(' ')        \n",
        "joana.pensize(int(input(prompt3))) \n",
        "\n",
        "joana.forward(50)                 \n",
        "joana.left(90)                   \n",
        "joana.forward(30)                \n",
        " \n",
        "jn.mainloop()                    "
      ],
      "execution_count": null,
      "outputs": []
    },
    {
      "cell_type": "markdown",
      "metadata": {
        "id": "YV7YRTJJ7G6-"
      },
      "source": [
        "3. Investiguem os métodos e tipos do módulo turtle;"
      ]
    },
    {
      "cell_type": "code",
      "metadata": {
        "colab": {
          "base_uri": "https://localhost:8080/"
        },
        "id": "lqF-UnQD7jtu",
        "outputId": "5e43c080-7054-4b6e-926b-b75b89ad232b"
      },
      "source": [
        "print('Leia o site \"https://docs.python.org/3/library/turtle.html\"')"
      ],
      "execution_count": null,
      "outputs": [
        {
          "output_type": "stream",
          "name": "stdout",
          "text": [
            "Leia o site \"https://docs.python.org/3/library/turtle.html\"\n"
          ]
        }
      ]
    },
    {
      "cell_type": "markdown",
      "metadata": {
        "id": "43UTr9m77HCA"
      },
      "source": [
        "4. Desenhe um quadrado, usando a forma de tartaruga, ao invés da flecha, para desenhar.\n",
        "   1. mude a velocidade com que a tartaruga faz o desenho"
      ]
    },
    {
      "cell_type": "code",
      "metadata": {
        "id": "BeNEqvKb7jDA"
      },
      "source": [
        "import turtle                     \n",
        "jn = turtle.Screen()               \n",
        "joana = turtle.Turtle()     \n",
        "joana.shape(\"turtle\")\n",
        "\n",
        "jn.bgcolor(\"white\")\n",
        "joana.color(\"blue violet\")\n",
        "joana.pensize(3)\n",
        "\n",
        "joana.up()\n",
        "joana.left(180)\n",
        "joana.forward(50)\n",
        "joana.left(90)\n",
        "joana.forward(50)\n",
        "joana.left(90)\n",
        "joana.down()\n",
        "\n",
        "for i in range(4):\n",
        "    joana.forward(100)\n",
        "    joana.left(90)\n",
        "    \n",
        "jn.mainloop()"
      ],
      "execution_count": null,
      "outputs": []
    },
    {
      "cell_type": "markdown",
      "metadata": {
        "id": "XE3qiaW37HJC"
      },
      "source": [
        "5. Sabendo que o ângulo interno da ponta de uma estrela de 5 pontas é de 36 graus, desenhe uma estrela em uma janela.\n",
        "\n",
        "![title](https://github.com/malbouis/Python_intro/blob/master/aulas_2019/pics/estrela.png?raw=1)"
      ]
    },
    {
      "cell_type": "code",
      "metadata": {
        "id": "A34QAcgi7f-3"
      },
      "source": [
        "import turtle\n",
        "import math\n",
        "\n",
        "jn = turtle.Screen()               \n",
        "joana = turtle.Turtle()     \n",
        "joana.shape(\"turtle\")\n",
        "\n",
        "jn.bgcolor(\"white\")\n",
        "joana.color(\"blue violet\")\n",
        "joana.pensize(3)\n",
        "\n",
        "l = 100\n",
        "\n",
        "a = (l/2)/math.tan(math.radians(36))\n",
        "\n",
        "L = l*math.sqrt(2*(1-math.cos(math.radians(108))))\n",
        "\n",
        "joana.up()\n",
        "joana.left(180)\n",
        "joana.forward(l/2)\n",
        "joana.left(90)\n",
        "joana.forward(a)\n",
        "joana.left(90)\n",
        "joana.down()\n",
        "\n",
        "joana.left((180-36)/2)\n",
        "\n",
        "for i in range(5):\n",
        "    joana.forward(L)\n",
        "    joana.left(180+36)\n",
        "    \n",
        "jn.mainloop()"
      ],
      "execution_count": null,
      "outputs": []
    },
    {
      "cell_type": "markdown",
      "metadata": {
        "id": "Dq8GSo537HO2"
      },
      "source": [
        "6. Sabendo o ângulo interno da ponta de uma estrela, desenhe quatro estrelas em uma janela, com uma certa distância entre elas. Dica: use a função penup() e pendown() do módulo turtle"
      ]
    },
    {
      "cell_type": "code",
      "metadata": {
        "id": "awwRHfrB7ioM"
      },
      "source": [
        "import turtle\n",
        "import math\n",
        "\n",
        "jn = turtle.Screen()               \n",
        "joana = turtle.Turtle()     \n",
        "joana.shape(\"turtle\")\n",
        "\n",
        "jn.bgcolor(\"white\")\n",
        "joana.color(\"blue violet\")\n",
        "joana.pensize(3)\n",
        "\n",
        "l = 100\n",
        "\n",
        "a = (l/2)/math.tan(math.radians(36))\n",
        "\n",
        "L = l*math.sqrt(2*(1-math.cos(math.radians(108))))\n",
        "\n",
        "joana.up()\n",
        "joana.left(180)\n",
        "joana.forward(2*l)\n",
        "joana.left(90)\n",
        "joana.forward(a)\n",
        "joana.left(90)\n",
        "joana.down()\n",
        "\n",
        "joana.left((180-36)/2)\n",
        "\n",
        "for i in range(5):\n",
        "    joana.forward(L)\n",
        "    joana.left(180+36)\n",
        "\n",
        "joana.right((180-36)/2)\n",
        "\n",
        "joana.up()\n",
        "joana.forward(2*l)\n",
        "joana.down()\n",
        "\n",
        "joana.left((180-36)/2)\n",
        "\n",
        "for i in range(5):\n",
        "    joana.forward(L)\n",
        "    joana.left(180+36)\n",
        "\n",
        "joana.right((180-36)/2)\n",
        "\n",
        "joana.up()\n",
        "joana.right(90)\n",
        "joana.forward(2*l)\n",
        "joana.left(90)\n",
        "joana.down()\n",
        "\n",
        "joana.left((180-36)/2)\n",
        "\n",
        "for i in range(5):\n",
        "    joana.forward(L)\n",
        "    joana.left(180+36)\n",
        "\n",
        "joana.right((180-36)/2)\n",
        "\n",
        "joana.up()\n",
        "joana.right(180)\n",
        "joana.forward(2*l)\n",
        "joana.left(180)\n",
        "joana.down()\n",
        "\n",
        "joana.left((180-36)/2)\n",
        "\n",
        "for i in range(5):\n",
        "    joana.forward(L)\n",
        "    joana.left(180+36)\n",
        "\n",
        "joana.right((180-36)/2)\n",
        "\n",
        "jn.mainloop()"
      ],
      "execution_count": null,
      "outputs": []
    },
    {
      "cell_type": "markdown",
      "metadata": {
        "id": "b2s6FcByyhl-"
      },
      "source": [
        "### Exercícios em preparação para os próximos capítulos\n",
        "\n",
        "1. Escreva uma função chamada `square`, que toma um parâmetro `t`, que é uma `Turtle`. Essa função deve usar o `turtle` para desenhar um quadrado. Escreva uma chamada de função que passe `joana` como argumento para `square` e rode o programa novamente."
      ]
    },
    {
      "cell_type": "code",
      "metadata": {
        "id": "86uFLYcc9uEp"
      },
      "source": [
        "import turtle\n",
        "import math\n",
        "\n",
        "jn = turtle.Screen()               \n",
        "joana = turtle.Turtle()     \n",
        "joana.shape(\"turtle\")\n",
        "\n",
        "jn.bgcolor(\"white\")\n",
        "joana.color(\"blue violet\")\n",
        "joana.pensize(3)\n",
        "\n",
        "def square (t):\n",
        "  joana.up()\n",
        "  t.left(180)\n",
        "  t.forward(50)\n",
        "  t.left(90)\n",
        "  t.forward(50)\n",
        "  t.left(90)\n",
        "  t.down()\n",
        "\n",
        "  for i in range(4):\n",
        "    t.forward(100)\n",
        "    t.left(90)\n",
        "  \n",
        "  joana.up()\n",
        "  t.left(90)\n",
        "  t.forward(50)\n",
        "  t.right(90)\n",
        "  t.forward(50)\n",
        "  t.down()\n",
        "  \n",
        "square(joana)\n",
        "\n",
        "jn.mainloop()            "
      ],
      "execution_count": null,
      "outputs": []
    },
    {
      "cell_type": "markdown",
      "metadata": {
        "id": "FD6pjtJ49fBe"
      },
      "source": [
        "2. Adicione um outro parâmetro, chamado `length`, à função `square`. Modifique o corpo da função de tal forma que o comprimento dos lados do quadrado seja `length` e então modifique a chamada da função para que seja passado o segundo argumento. Rode o programa novamente. Teste o seu programa com diversos valores para `length`."
      ]
    },
    {
      "cell_type": "code",
      "metadata": {
        "id": "4R39rsDW9tu8"
      },
      "source": [
        "import turtle\n",
        "import math\n",
        "\n",
        "jn = turtle.Screen()               \n",
        "joana = turtle.Turtle()     \n",
        "joana.shape(\"turtle\")\n",
        "\n",
        "jn.bgcolor(\"white\")\n",
        "joana.color(\"blue violet\")\n",
        "joana.pensize(3)\n",
        "\n",
        "def square (t, length):\n",
        "  joana.up()\n",
        "  t.left(180)\n",
        "  t.forward(length/2)\n",
        "  t.left(90)\n",
        "  t.forward(length/2)\n",
        "  t.left(90)\n",
        "  t.down()\n",
        "\n",
        "  for i in range(4):\n",
        "    t.forward(length)\n",
        "    t.left(90)\n",
        "  \n",
        "  joana.up()\n",
        "  t.left(90)\n",
        "  t.forward(length/2)\n",
        "  t.right(90)\n",
        "  t.forward(length/2)\n",
        "  t.down()\n",
        "  \n",
        "square(joana, 250)\n",
        "jn.mainloop()    "
      ],
      "execution_count": null,
      "outputs": []
    },
    {
      "cell_type": "markdown",
      "metadata": {
        "id": "KM9BBweA9fu0"
      },
      "source": [
        "3. Faça uma cópia da função `square` e mude o nome para `polygon`. Adicione um outro parâmetro chamado `n` e modifique o corpo da função para que ela desenhe um polígono regular de `n` lados. Dica: Os ângulos externos de um polígono regular de `n` lados são de `360/n` graus."
      ]
    },
    {
      "cell_type": "code",
      "metadata": {
        "id": "YSt0slGW9tfi"
      },
      "source": [
        "import turtle\n",
        "import math\n",
        "\n",
        "jn = turtle.Screen()               \n",
        "joana = turtle.Turtle()     \n",
        "joana.shape(\"turtle\")\n",
        "\n",
        "jn.bgcolor(\"white\")\n",
        "joana.color(\"blue violet\")\n",
        "joana.pensize(3)\n",
        "\n",
        "def polygon (t, n, length):\n",
        "  \n",
        "  a = (length/2)/math.tan(math.pi/n)\n",
        "  \n",
        "  joana.up()\n",
        "  t.left(180)\n",
        "  t.forward(length/2)\n",
        "  t.left(90)\n",
        "  t.forward(a)\n",
        "  t.left(90)\n",
        "  t.down()\n",
        "\n",
        "  for i in range(n):\n",
        "    t.forward(length)\n",
        "    t.left(360/n)\n",
        "  \n",
        "  joana.up()\n",
        "  t.left(90)\n",
        "  t.forward(a)\n",
        "  t.right(90)\n",
        "  t.forward(length/2)\n",
        "  t.down()\n",
        "  \n",
        "polygon(joana, 10, 75)\n",
        "jn.mainloop()                 "
      ],
      "execution_count": null,
      "outputs": []
    },
    {
      "cell_type": "markdown",
      "metadata": {
        "id": "ubCoLI-B9f0e"
      },
      "source": [
        "4. Escreva uma função chamada `circle` que toma como argumento uma `Turtle`, `t`, e um raio, `r`, e desenha um círculo aproximado ao chamar a função `polygon` com `length` e número `n` de lados apropriados. Teste sua função com um intervalo de valores de `r`. Dica: Determine a circunferência do círculo e se certifique que `comprimento * n = circunferência`."
      ]
    },
    {
      "cell_type": "code",
      "metadata": {
        "id": "Bn8mwFr59tI8"
      },
      "source": [
        "import turtle\n",
        "import math\n",
        "\n",
        "jn = turtle.Screen()               \n",
        "joana = turtle.Turtle()     \n",
        "joana.shape(\"turtle\")\n",
        "\n",
        "jn.bgcolor(\"white\")\n",
        "joana.color(\"blue violet\")\n",
        "joana.pensize(3)\n",
        "joana.speed(10)\n",
        "\n",
        "def circle (t, r, n):\n",
        "  \n",
        "  joana.up()\n",
        "  t.right(90)\n",
        "  t.forward(r)\n",
        "  t.left(90)\n",
        "  t.down()\n",
        "  \n",
        "\n",
        "  for i in range(n):\n",
        "    t.left(360/n)\n",
        "    t.forward(r*math.sqrt(2*(1-math.cos((2*math.pi)/n))))\n",
        "  \n",
        "  joana.up()\n",
        "  t.left(90)\n",
        "  t.forward(r)\n",
        "  t.right(90)\n",
        "  t.down()\n",
        "  \n",
        "circle(joana, 200, 200)\n",
        "jn.mainloop()"
      ],
      "execution_count": null,
      "outputs": []
    },
    {
      "cell_type": "markdown",
      "metadata": {
        "id": "wiGfaLuf9f62"
      },
      "source": [
        "5. Faça uma versão mais geral da função `circle`, chamada `arc`, que toma um parâmetro adicional, `angle`, que determina qual a fração do circulo a ser desenhada. `angle` está em unidades de graus, logo quando `angle=360`, a função `arc` deve desenhar um cículo completo."
      ]
    },
    {
      "cell_type": "code",
      "metadata": {
        "id": "NLt56bGq9s7b"
      },
      "source": [
        "import turtle\n",
        "import math\n",
        "\n",
        "jn = turtle.Screen()               \n",
        "joana = turtle.Turtle()     \n",
        "joana.shape(\"turtle\")\n",
        "\n",
        "jn.bgcolor(\"white\")\n",
        "joana.color(\"blue violet\")\n",
        "joana.pensize(3)\n",
        "joana.speed(10)\n",
        "\n",
        "def circle (t, r, ang):\n",
        "\n",
        "  for i in range(ang):\n",
        "    t.left(1)\n",
        "    t.forward(r*math.sqrt(2*(1-math.cos((2*math.pi)/360))))\n",
        "  \n",
        "  \n",
        "circle(joana, 50, 90)\n",
        "jn.mainloop()"
      ],
      "execution_count": null,
      "outputs": []
    },
    {
      "cell_type": "markdown",
      "metadata": {
        "id": "Nrky4VThKyZS"
      },
      "source": [
        "## Exercícios - Parte 2:\n",
        "  \n",
        "1. Escreva um conjunto apropriadamente geral de funções que possam desenhar flores como na Figura abaixo:\n",
        "![flowers](https://github.com/malbouis/Python_intro/blob/master/aulas_2019/pics/flowers.png?raw=1)\n"
      ]
    },
    {
      "cell_type": "code",
      "metadata": {
        "id": "D6NOgG6v-f5E"
      },
      "source": [
        "import turtle\n",
        "import math\n",
        "\n",
        "jn = turtle.Screen()               \n",
        "joana = turtle.Turtle()     \n",
        "joana.shape(\"turtle\")\n",
        "\n",
        "jn.bgcolor(\"white\")\n",
        "joana.color(\"blue violet\")\n",
        "joana.pensize(3)\n",
        "joana.speed(10)\n",
        "\n",
        "def petala (t, r, ang):\n",
        "\n",
        "  for i in range(ang):\n",
        "    t.left(1)\n",
        "    t.forward(r*math.sqrt(2*(1-math.cos((2*math.pi)/360))))\n",
        "\n",
        "  t.left(180 - ang)\n",
        "\n",
        "  for i in range(ang):\n",
        "    t.left(1)\n",
        "    t.forward(r*math.sqrt(2*(1-math.cos((2*math.pi)/360))))\n",
        "  \n",
        "  t.left(180 - ang)\n",
        "\n",
        "def flor (t, r, ang, n):\n",
        "  \n",
        "  for i in range(n):\n",
        "    petala (t, r, ang)\n",
        "    t.right (360/n)\n",
        "  \n",
        "flor (joana, 100, 30, 10)\n",
        "\n",
        "jn.mainloop()            "
      ],
      "execution_count": null,
      "outputs": []
    },
    {
      "cell_type": "markdown",
      "metadata": {
        "id": "TEGwWc5B-a3y"
      },
      "source": [
        "2. Escreva um conjunto apropriadamente geral de funções que podem desenhar formas como na figura:\n",
        "![shapes](https://github.com/malbouis/Python_intro/blob/master/aulas_2019/pics/shapes_turtle.png?raw=1)\n",
        "\n",
        "  Veja mais exercícios em: http://greenteapress.com/thinkpython2/html/thinkpython2005.html#sec42\n",
        "e: http://dfnae.fis.uerj.br/twiki/bin/view/DFNAE/IntroPython#Aula_6"
      ]
    },
    {
      "cell_type": "code",
      "metadata": {
        "id": "SMDk4gkm-9aD"
      },
      "source": [
        "import turtle\n",
        "import math\n",
        "\n",
        "jn = turtle.Screen()               \n",
        "joana = turtle.Turtle()     \n",
        "joana.shape(\"turtle\")\n",
        "\n",
        "jn.bgcolor(\"white\")\n",
        "joana.color(\"blue violet\")\n",
        "joana.pensize(3)\n",
        "joana.speed(10)\n",
        "\n",
        "def polygon (t, n, l):\n",
        "  \n",
        "  a = (l/2)/math.tan(math.pi/n)\n",
        "  \n",
        "  joana.up()\n",
        "  t.left(180)\n",
        "  t.forward(l/2)\n",
        "  t.left(90)\n",
        "  t.forward(a)\n",
        "  t.left(90)\n",
        "  t.down()\n",
        "\n",
        "  for i in range(n):\n",
        "    t.forward(l)\n",
        "    t.left(360/n)\n",
        "    t.left(((n-2)*180)/(2*n))\n",
        "    t.forward(l/(math.sqrt(2*(1-math.cos((2*math.pi)/n)))))\n",
        "    t.left(180)\n",
        "    t.up()\n",
        "    t.forward(l/(math.sqrt(2*(1-math.cos((2*math.pi)/n)))))\n",
        "    t.down()\n",
        "    t.left(((n-2)*180)/(2*n))\n",
        "    t.left(360/n)\n",
        "  \n",
        "  joana.up()\n",
        "  t.left(90)\n",
        "  t.forward(a)\n",
        "  t.right(90)\n",
        "  t.forward(l/2)\n",
        "  t.down()\n",
        "  \n",
        "polygon(joana, 10, 75)\n",
        "jn.mainloop()"
      ],
      "execution_count": null,
      "outputs": []
    },
    {
      "cell_type": "markdown",
      "metadata": {
        "id": "rUYZ9kyy-bDS"
      },
      "source": [
        "3. Adicione instruções para desenhar o talo e folha da flor. Faça a refatoração apropriada para a interface da flor completa ficar \"limpa\"."
      ]
    },
    {
      "cell_type": "code",
      "metadata": {
        "id": "BkQ5zcQ4_AHg"
      },
      "source": [
        "import turtle\n",
        "import math\n",
        "\n",
        "jn = turtle.Screen()               \n",
        "joana = turtle.Turtle()     \n",
        "joana.shape(\"turtle\")\n",
        "\n",
        "jn.bgcolor(\"white\")\n",
        "joana.color(\"blue violet\")\n",
        "joana.pensize(3)\n",
        "joana.speed(10)\n",
        "\n",
        "def petala (t, r, ang):\n",
        "\n",
        "  for i in range(ang):\n",
        "    t.left(1)\n",
        "    t.forward(r*math.sqrt(2*(1-math.cos((2*math.pi)/360))))\n",
        "\n",
        "  t.left(180 - ang)\n",
        "\n",
        "  for i in range(ang):\n",
        "    t.left(1)\n",
        "    t.forward(r*math.sqrt(2*(1-math.cos((2*math.pi)/360))))\n",
        "  \n",
        "  t.left(180 - ang)\n",
        "\n",
        "def flor (t, r, ang, n, c):\n",
        "  \n",
        "  for i in range(n):\n",
        "    petala (t, r, ang)\n",
        "    t.right (360/n)\n",
        "  \n",
        "  t.right(90)\n",
        "  t.forward(3*c/5)\n",
        "  t.left(90)\n",
        "  petala(t,  r/2, ang)\n",
        "  t.right(90)\n",
        "  t.forward(2*c/5)\n",
        "  t.left(180)\n",
        "  t.up()\n",
        "  t.forward(c)\n",
        "  t.down()\n",
        "  t.right(90)\n",
        "  \n",
        "flor (joana, 100, 30, 5,100)\n",
        "\n",
        "jn.mainloop()    "
      ],
      "execution_count": null,
      "outputs": []
    },
    {
      "cell_type": "markdown",
      "metadata": {
        "id": "Fw5OsPgT-bLa"
      },
      "source": [
        "4. As letras do alfabeto podem ser construídas a partir de um número moderado de elementos básicos, como linhas verticais e horizontais e algumas curvas. Projete um alfabeto que possa ser desenhado com um número mínimo de elementos básicos e depois escreva funções que desenhem as letras.\n",
        "   1. Você deve escrever uma função para cada letra, com os nomes ```draw_a_```, ```_draw_b_```, etc., e colocar suas funções em um arquivo chamado ```letters.py```. Você pode baixar uma “turtle typewriter” de http://thinkpython2.com/code/typewriter.py para ajudá-lo a testar seu código.\n",
        "   1. Você pode obter uma solução em http://thinkpython2.com/code/letters.py; também requer http://thinkpython2.com/code/polygon.py."
      ]
    },
    {
      "cell_type": "code",
      "metadata": {
        "colab": {
          "base_uri": "https://localhost:8080/"
        },
        "id": "84JjlY2d_FIV",
        "outputId": "d48c3b58-9b35-4436-a1ed-a54fdd8cdce4"
      },
      "source": [
        "print('Não foi feito')"
      ],
      "execution_count": null,
      "outputs": [
        {
          "output_type": "stream",
          "name": "stdout",
          "text": [
            "Não foi feito\n"
          ]
        }
      ]
    },
    {
      "cell_type": "markdown",
      "metadata": {
        "id": "Qe1JXnMq-bSL"
      },
      "source": [
        "5. Leia sobre espirais em http://en.wikipedia.org/wiki/Spiral; em seguida, escreva um programa que desenhe uma espiral arquimediana (ou um dos outros tipos). Solução: http://thinkpython2.com/code/spiral.py."
      ]
    },
    {
      "cell_type": "code",
      "metadata": {
        "id": "R85Q3Jno_IWz"
      },
      "source": [
        "import turtle\n",
        "import math\n",
        "\n",
        "jn = turtle.Screen()               \n",
        "joana = turtle.Turtle()     \n",
        "joana.shape(\"turtle\")\n",
        "\n",
        "jn.bgcolor(\"white\")\n",
        "joana.color(\"blue violet\")\n",
        "joana.pensize(3)\n",
        "joana.speed(10)\n",
        "\n",
        "import turtle\n",
        "\n",
        "def draw_spiral(t, n, l=3, a=0.1, b=0.0002):\n",
        "    theta = 0.0\n",
        "\n",
        "    for i in range(n):\n",
        "        t.fd(l)\n",
        "        dtheta = 1 / (a + b * theta)\n",
        "\n",
        "        t.lt(dtheta)\n",
        "        theta += dtheta\n",
        "\n",
        "draw_spiral(joana, n=500)\n",
        "\n",
        "jn.mainloop()"
      ],
      "execution_count": null,
      "outputs": []
    }
  ]
}