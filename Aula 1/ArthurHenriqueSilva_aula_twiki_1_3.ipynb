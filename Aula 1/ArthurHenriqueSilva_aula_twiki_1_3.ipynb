{
  "nbformat": 4,
  "nbformat_minor": 0,
  "metadata": {
    "colab": {
      "name": "ArthurHenriqueSilva_aula_twiki_1_3.ipynb",
      "provenance": [],
      "authorship_tag": "ABX9TyPyCpX5ZozSzmSYsWzidPEP",
      "include_colab_link": true
    },
    "kernelspec": {
      "name": "python3",
      "display_name": "Python 3"
    }
  },
  "cells": [
    {
      "cell_type": "markdown",
      "metadata": {
        "id": "view-in-github",
        "colab_type": "text"
      },
      "source": [
        "<a href=\"https://colab.research.google.com/github/AHS2020/Python_UERJ/blob/master/ArthurHenriqueSilva_aula_twiki_1_3.ipynb\" target=\"_parent\"><img src=\"https://colab.research.google.com/assets/colab-badge.svg\" alt=\"Open In Colab\"/></a>"
      ]
    },
    {
      "cell_type": "code",
      "metadata": {
        "id": "GHMCmFuQUoAn",
        "outputId": "96dc4d83-c656-48b4-d14b-7ba0a0e72132",
        "colab": {
          "base_uri": "https://localhost:8080/",
          "height": 228
        }
      },
      "source": [
        "print()\n",
        "\n",
        "print('Aluno - Arthur Henrique Silva')\n",
        "print('Aula(Twiki) - 1')\n",
        "print('Exercício - 3')\n",
        "\n",
        "print()\n",
        "\n",
        "print('Pergunta:')\n",
        "\n",
        "print('''\t   Ache os zeros da função y = 3x\\u00B2 - 4x - 10.''')\n",
        "\n",
        "print()\n",
        "\n",
        "print('Resposta:')\n",
        "\n",
        "D= (-4)**2 - 4*3*(-10)\n",
        "x1 = (-(-4) + D**(0.5))/(2*3)\n",
        "x2 = (-(-4) - D**(0.5))/(2*3)\n",
        "\n",
        "print(f'''\t Utilizando a fórmula de baskara x\\u208A = (-b + \\u221A\\u0394)\\u2215(2a) e x\\u208B = (-b - \\u221A\\u0394)\\u2215(2a) onde \\u0394 = b\\u00B2 - 4ac e y= ax\\u00B2 + bx + c, obtem-se primeiro \\u0394 = (-4)\\u00B2 - 4.3.(-10) = {D:.00f}, substiduindo os valores em x\\u208A = (-(-4) + \\u221A{D:.00f})\\u2215(2.3) = {x1:.02f} e em x\\u208B = (-(-4) - \\u221A{D:.00f})\\u2215(2.3) = {x2:.02f} onde x\\u208A e x\\u208B são os zeros da função.''')\n",
        "\n",
        "print()\n",
        "\n",
        "#print(f'''{D**(0.5):.48f}''')\n",
        "#print(f'''{x1:.51f}''')\n",
        "#print(f'''{x2:.49f}''')\n",
        "#print(' ')\n",
        "#Delta = \\u0394\n",
        "#Superscript two = \\u00B2\n",
        "#Division slash = \\u2215\n",
        "#Subscript plus sign = \\u208A\n",
        "#Subscript minus sign = \\u208B\n",
        "#Square root = \\u221A "
      ],
      "execution_count": 1,
      "outputs": [
        {
          "output_type": "stream",
          "text": [
            "\n",
            "Aluno - Arthur Henrique Silva\n",
            "Aula(Twiki) - 1\n",
            "Exercício - 3\n",
            "\n",
            "Pergunta:\n",
            "\t   Ache os zeros da função y = 3x² - 4x - 10.\n",
            "\n",
            "Resposta:\n",
            "\t Utilizando a fórmula de baskara x₊ = (-b + √Δ)∕(2a) e x₋ = (-b - √Δ)∕(2a) onde Δ = b² - 4ac e y= ax² + bx + c, obtem-se primeiro Δ = (-4)² - 4.3.(-10) = 136, substiduindo os valores em x₊ = (-(-4) + √136)∕(2.3) = 2.61 e em x₋ = (-(-4) - √136)∕(2.3) = -1.28 onde x₊ e x₋ são os zeros da função.\n",
            "\n"
          ],
          "name": "stdout"
        }
      ]
    }
  ]
}
