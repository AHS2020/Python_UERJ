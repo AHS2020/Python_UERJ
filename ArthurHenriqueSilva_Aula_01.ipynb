{
  "nbformat": 4,
  "nbformat_minor": 0,
  "metadata": {
    "colab": {
      "name": "ArthurHenriqueSilva_Aula_01.ipynb",
      "provenance": [],
      "collapsed_sections": [],
      "authorship_tag": "ABX9TyN8G/4yMgwgeiUJYbZ9XSdG",
      "include_colab_link": true
    },
    "kernelspec": {
      "name": "python3",
      "display_name": "Python 3"
    },
    "language_info": {
      "name": "python"
    }
  },
  "cells": [
    {
      "cell_type": "markdown",
      "metadata": {
        "id": "view-in-github",
        "colab_type": "text"
      },
      "source": [
        "<a href=\"https://colab.research.google.com/github/AHS2020/Python_UERJ/blob/master/ArthurHenriqueSilva_Aula_01.ipynb\" target=\"_parent\"><img src=\"https://colab.research.google.com/assets/colab-badge.svg\" alt=\"Open In Colab\"/></a>"
      ]
    },
    {
      "cell_type": "markdown",
      "metadata": {
        "id": "AorQXEEymp38"
      },
      "source": [
        "# Exercícios\n",
        "\n",
        "### Exercício 1:\n",
        "Escreva na tela do modo prompt: \"mundo, mundo, vasto mundo\""
      ]
    },
    {
      "cell_type": "code",
      "metadata": {
        "id": "TzxULfpyys_P",
        "colab": {
          "base_uri": "https://localhost:8080/"
        },
        "outputId": "078498ee-2c20-4395-c617-459cfb61bb57"
      },
      "source": [
        "print(\"mundo, mundo, vasto mundo\")"
      ],
      "execution_count": null,
      "outputs": [
        {
          "output_type": "stream",
          "name": "stdout",
          "text": [
            "mundo, mundo, vasto mundo\n"
          ]
        }
      ]
    },
    {
      "cell_type": "markdown",
      "metadata": {
        "id": "dVoNJP3rmp4D"
      },
      "source": [
        "### Exercício 2:\n",
        "Imprima na tela a documentação da função *print*"
      ]
    },
    {
      "cell_type": "code",
      "metadata": {
        "id": "eSJAjV5myyxf",
        "colab": {
          "base_uri": "https://localhost:8080/"
        },
        "outputId": "612ffd4b-dc98-4d64-f88f-4911334612d5"
      },
      "source": [
        "help('print')"
      ],
      "execution_count": null,
      "outputs": [
        {
          "output_type": "stream",
          "name": "stdout",
          "text": [
            "Help on built-in function print in module builtins:\n",
            "\n",
            "print(...)\n",
            "    print(value, ..., sep=' ', end='\\n', file=sys.stdout, flush=False)\n",
            "    \n",
            "    Prints the values to a stream, or to sys.stdout by default.\n",
            "    Optional keyword arguments:\n",
            "    file:  a file-like object (stream); defaults to the current sys.stdout.\n",
            "    sep:   string inserted between values, default a space.\n",
            "    end:   string appended after the last value, default a newline.\n",
            "    flush: whether to forcibly flush the stream.\n",
            "\n"
          ]
        }
      ]
    },
    {
      "cell_type": "markdown",
      "metadata": {
        "id": "sE4F0ZW6mp4H"
      },
      "source": [
        "### Exercício 3:\n",
        "Inicie o interpretador Python e use-o como uma calculadora. A sintaxe do Python para operações matemáticas é quase igual à notação matemática padrão: \n",
        "* adição: + \n",
        "* subtração: - \n",
        "* divisão: /\n",
        "* multiplicação: *\n",
        "   \n",
        "   \n",
        "***Se você fizer uma corrida de 10 quilômetros em 43 minutos e 30 segundos, qual será seu tempo médio por milha? Qual é a sua velocidade média em milhas por hora? (Dica: há 1,61 quilômetros em uma milha).***"
      ]
    },
    {
      "cell_type": "code",
      "metadata": {
        "id": "YMFZeg2yy9_2",
        "colab": {
          "base_uri": "https://localhost:8080/"
        },
        "outputId": "adbd79c0-ffa9-48a1-a76c-b95031946830"
      },
      "source": [
        "dkm = float(input('Insira a distância em quilometros:  '))\n",
        "\n",
        "tmin = float(input('Insira o tempo decorrido em minutos utilizando \".\" no lugar da vírgula:  '))\n",
        "\n",
        "dmi = dkm/1.61\n",
        "\n",
        "Tmed = tmin/dmi\n",
        "\n",
        "th = tmin/60\n",
        "\n",
        "Vmed = dmi/th\n",
        "\n",
        "print('')\n",
        "\n",
        "print(f'Tempo médio por milha =  {Tmed:.2f} minutos/milha')\n",
        "\n",
        "print('')\n",
        "\n",
        "print(f'Velocidade média =  {Vmed:.2f} milhas/hora')"
      ],
      "execution_count": null,
      "outputs": [
        {
          "output_type": "stream",
          "name": "stdout",
          "text": [
            "Insira a distância em quilometros:  10\n",
            "Insira o tempo decorrido em minutos utilizando \".\" no lugar da vírgula:  43.5\n",
            "\n",
            "Tempo médio por milha =  7.00 minutos/milha\n",
            "\n",
            "Velocidade média =  8.57 milhas/hora\n"
          ]
        }
      ]
    }
  ]
}