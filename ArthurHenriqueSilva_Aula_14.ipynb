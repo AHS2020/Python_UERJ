{
  "nbformat": 4,
  "nbformat_minor": 0,
  "metadata": {
    "colab": {
      "name": "ArthurHenriqueSilva_Aula_14.ipynb",
      "provenance": [],
      "collapsed_sections": [],
      "authorship_tag": "ABX9TyMG2eAl+ww7OOLQPn9KN1gw",
      "include_colab_link": true
    },
    "kernelspec": {
      "name": "python3",
      "display_name": "Python 3"
    },
    "language_info": {
      "name": "python"
    }
  },
  "cells": [
    {
      "cell_type": "markdown",
      "metadata": {
        "id": "view-in-github",
        "colab_type": "text"
      },
      "source": [
        "<a href=\"https://colab.research.google.com/github/AHS2020/Python_UERJ/blob/master/ArthurHenriqueSilva_Aula_14.ipynb\" target=\"_parent\"><img src=\"https://colab.research.google.com/assets/colab-badge.svg\" alt=\"Open In Colab\"/></a>"
      ]
    },
    {
      "cell_type": "code",
      "metadata": {
        "id": "aRtRICTSlz2a"
      },
      "source": [
        "class  Ponto: \n",
        "    \"\"\" Cria um novo Ponto, com coordenadas x, y \"\"\"\n",
        "    def __init__(self, x=0, y=0):\n",
        "        \"\"\" Inicializa em x, y o novo ponto criado pela classe \"\"\"\n",
        "        self.x = x\n",
        "        self.y = y\n",
        "        \n",
        "    def __str__(self):\n",
        "        return \"({0}, {1})\".format(self.x, self.y)\n",
        "    # outros métodos previamente definidos aqui ... blah blah\n",
        "    \n",
        "    def  reverse ( self ): \n",
        "        \"\"\" Função que inverte as coordenadas do ponto x<->y\"\"\"\n",
        "        ( self.x  ,  self.y )  =  ( self.y ,  self.x )"
      ],
      "execution_count": null,
      "outputs": []
    },
    {
      "cell_type": "code",
      "metadata": {
        "id": "Zj8myZnomAIT"
      },
      "source": [
        "class  MeuTempo : \n",
        "    # Métodos previamente definidos aqui ... \n",
        "    def  __init__ ( self ,  hrs = 0 ,  mins = 0 ,  segs = 0 ): \n",
        "        \"\"\" Criar um novo objeto MeuTempo inicializado para hrs, min, segs. \n",
        "           Os valores de mins e segs podem estar fora do intervalo de 0-59, \n",
        "           mas o objecto MeuTempo resultante será normalizado.  \"\"\" \n",
        "        # Calcular total de segundos para representar \n",
        "        self.totalsegs =  hrs * 3600  +  mins * 60  +  segs \n",
        "        self.horas =  self.totalsegs  //  3600         # Divisão em h, m, s \n",
        "        restosegs =  self.totalsegs  %  3600 \n",
        "        self.minutos  =  restosegs  //  60 \n",
        "        self.segundos  =  restosegs  %  60\n",
        "        if self.horas >=24:\n",
        "            self.horas = self.horas%24\n",
        "\n",
        "    def  to_seconds ( self ): \n",
        "        \"\" \"Retorna o número de segundos representados por esta instância \" \"\" \n",
        "        return  self.totalsegs\n",
        "    \n",
        "    def  __add__ ( self ,  other ): \n",
        "        \"\"\" Retorna a soma do tempo atual e outro, para utilizar com o simbolo + \"\"\"\n",
        "        return  MeuTempo ( 0 ,  0 ,  self.to_seconds()  +  other.to_seconds())\n",
        "    \n",
        "    def __str__(self):\n",
        "        \"\"\"Retorna uma representação do objeto como string, legível para humanos.\"\"\"\n",
        "        return '%.2d:%.2d:%.2d' % (self.horas, self.minutos, self.segundos)\n",
        "        \n",
        "    def entre(self, t1, t2):\n",
        "        \"\"\" MeuTempo está entre t1 e t2? Sendo que t1 <= t2. \"\"\"\n",
        "        if self.totalsegs < t2.totalsegs:\n",
        "          if self.totalsegs >= t1.totalsegs:\n",
        "            return \"True\"\n",
        "          else:\n",
        "            return \"False\"\n",
        "        else:\n",
        "          return \"False\""
      ],
      "execution_count": null,
      "outputs": []
    },
    {
      "cell_type": "markdown",
      "metadata": {
        "id": "8p6Ps61XKT4L"
      },
      "source": [
        "##  Exercícios \n",
        "1. Escreva uma função booleana  chamada `entre`  que tome dois objetos MeuTempo, t1 e t2 , como argumentos, e retorne `True` se um terceiro objeto MeuTempo invocado estiver entre os dois tempos. Suponha que o tempo t1 <= t2 , e faça o teste fechado no limite inferior e abra no limite superior, isto é, retorne True se t1 <= obj < t2."
      ]
    },
    {
      "cell_type": "code",
      "metadata": {
        "id": "_lSpSuzElkgL"
      },
      "source": [
        "def entre(self, t1, t2):\n",
        "  \"\"\" MeuTempo está entre t1 e t2? Sendo que t1 <= t2. \"\"\"\n",
        "  if self.totalsegs < t2.totalsegs:\n",
        "    if self.totalsegs >= t1.totalsegs:\n",
        "      return \"True\"\n",
        "    else:\n",
        "      return \"False\"\n",
        "  else:\n",
        "    return \"False\""
      ],
      "execution_count": null,
      "outputs": []
    },
    {
      "cell_type": "code",
      "metadata": {
        "colab": {
          "base_uri": "https://localhost:8080/",
          "height": 36
        },
        "id": "iVEgMuGJnT3p",
        "outputId": "668b329b-8c6b-429d-c20e-945a1943beff"
      },
      "source": [
        "MT = MeuTempo(10,150,67)\n",
        "t1 = MeuTempo(5,15,76)\n",
        "t2 = MeuTempo(11,230,61)\n",
        "\n",
        "entre(MT, t1, t2)"
      ],
      "execution_count": null,
      "outputs": [
        {
          "output_type": "execute_result",
          "data": {
            "application/vnd.google.colaboratory.intrinsic+json": {
              "type": "string"
            },
            "text/plain": [
              "'True'"
            ]
          },
          "metadata": {},
          "execution_count": 4
        }
      ]
    },
    {
      "cell_type": "code",
      "metadata": {
        "colab": {
          "base_uri": "https://localhost:8080/",
          "height": 36
        },
        "id": "USXEcUZ2nlSG",
        "outputId": "3f6aab94-f19d-4a77-adff-9ab1e4f1801d"
      },
      "source": [
        "MT = MeuTempo(15,150,67)\n",
        "t1 = MeuTempo(5,15,76)\n",
        "t2 = MeuTempo(11,230,61)\n",
        "\n",
        "entre(MT, t1, t2)"
      ],
      "execution_count": null,
      "outputs": [
        {
          "output_type": "execute_result",
          "data": {
            "application/vnd.google.colaboratory.intrinsic+json": {
              "type": "string"
            },
            "text/plain": [
              "'False'"
            ]
          },
          "metadata": {},
          "execution_count": 5
        }
      ]
    },
    {
      "cell_type": "code",
      "metadata": {
        "colab": {
          "base_uri": "https://localhost:8080/",
          "height": 36
        },
        "id": "gNEEGpzanlJ4",
        "outputId": "14e62f3e-bbe0-4477-e9d0-88f909f7d2ca"
      },
      "source": [
        "MT = MeuTempo(2,150,67)\n",
        "t1 = MeuTempo(5,15,76)\n",
        "t2 = MeuTempo(11,230,61)\n",
        "\n",
        "entre(MT, t1, t2)"
      ],
      "execution_count": null,
      "outputs": [
        {
          "output_type": "execute_result",
          "data": {
            "application/vnd.google.colaboratory.intrinsic+json": {
              "type": "string"
            },
            "text/plain": [
              "'False'"
            ]
          },
          "metadata": {},
          "execution_count": 6
        }
      ]
    },
    {
      "cell_type": "markdown",
      "metadata": {
        "id": "akRhaFbWlYur"
      },
      "source": [
        "2. Transforme a função acima em um método na classe MeuTempo."
      ]
    },
    {
      "cell_type": "code",
      "metadata": {
        "id": "fNoUd3QrlkLx"
      },
      "source": [
        "class  MeuTempo : \n",
        "    # Métodos previamente definidos aqui ... \n",
        "    def  __init__ ( self ,  hrs = 0 ,  mins = 0 ,  segs = 0 ): \n",
        "        \"\"\" Criar um novo objeto MeuTempo inicializado para hrs, min, segs. \n",
        "           Os valores de mins e segs podem estar fora do intervalo de 0-59, \n",
        "           mas o objecto MeuTempo resultante será normalizado.  \"\"\" \n",
        "        # Calcular total de segundos para representar \n",
        "        self.totalsegs =  hrs * 3600  +  mins * 60  +  segs \n",
        "        self.horas =  self.totalsegs  //  3600         # Divisão em h, m, s \n",
        "        restosegs =  self.totalsegs  %  3600 \n",
        "        self.minutos  =  restosegs  //  60 \n",
        "        self.segundos  =  restosegs  %  60\n",
        "        if self.horas >=24:\n",
        "            self.horas = self.horas%24\n",
        "\n",
        "    def  to_seconds ( self ): \n",
        "        \"\" \"Retorna o número de segundos representados por esta instância \" \"\" \n",
        "        return  self.totalsegs\n",
        "    \n",
        "    def  __add__ ( self ,  other ): \n",
        "        \"\"\" Retorna a soma do tempo atual e outro, para utilizar com o simbolo + \"\"\"\n",
        "        return  MeuTempo ( 0 ,  0 ,  self.to_seconds()  +  other.to_seconds())\n",
        "    \n",
        "    def __str__(self):\n",
        "        \"\"\"Retorna uma representação do objeto como string, legível para humanos.\"\"\"\n",
        "        return '%.2d:%.2d:%.2d' % (self.horas, self.minutos, self.segundos)\n",
        "        \n",
        "    def entre(self, t1, t2):\n",
        "        \"\"\" MeuTempo está entre t1 e t2? Sendo que t1 <= t2. \"\"\"\n",
        "        if self.totalsegs < t2.totalsegs:\n",
        "          if self.totalsegs >= t1.totalsegs:\n",
        "            return \"True\"\n",
        "          else:\n",
        "            return \"False\"\n",
        "        else:\n",
        "          return \"False\""
      ],
      "execution_count": null,
      "outputs": []
    },
    {
      "cell_type": "code",
      "metadata": {
        "colab": {
          "base_uri": "https://localhost:8080/",
          "height": 36
        },
        "id": "gF_OKMYezTZG",
        "outputId": "e7068897-8210-4941-ce66-b99b4ed008b4"
      },
      "source": [
        "MT = MeuTempo(10,150,67)\n",
        "t1 = MeuTempo(5,15,76)\n",
        "t2 = MeuTempo(11,230,61)\n",
        "\n",
        "MT.entre(t1, t2)"
      ],
      "execution_count": null,
      "outputs": [
        {
          "output_type": "execute_result",
          "data": {
            "application/vnd.google.colaboratory.intrinsic+json": {
              "type": "string"
            },
            "text/plain": [
              "'True'"
            ]
          },
          "metadata": {},
          "execution_count": 8
        }
      ]
    },
    {
      "cell_type": "code",
      "metadata": {
        "colab": {
          "base_uri": "https://localhost:8080/",
          "height": 36
        },
        "id": "hRDuMbR7zW_7",
        "outputId": "8df168d4-f8a2-463b-a6b0-c9de73519048"
      },
      "source": [
        "MT = MeuTempo(15,150,67)\n",
        "t1 = MeuTempo(5,15,76)\n",
        "t2 = MeuTempo(11,230,61)\n",
        "\n",
        "MT.entre(t1, t2)"
      ],
      "execution_count": null,
      "outputs": [
        {
          "output_type": "execute_result",
          "data": {
            "application/vnd.google.colaboratory.intrinsic+json": {
              "type": "string"
            },
            "text/plain": [
              "'False'"
            ]
          },
          "metadata": {},
          "execution_count": 9
        }
      ]
    },
    {
      "cell_type": "code",
      "metadata": {
        "colab": {
          "base_uri": "https://localhost:8080/",
          "height": 36
        },
        "id": "2ZoXDsvezaZ5",
        "outputId": "cdca86bd-78eb-4ade-bb77-0ef96b523f77"
      },
      "source": [
        "MT = MeuTempo(2,150,67)\n",
        "t1 = MeuTempo(5,15,76)\n",
        "t2 = MeuTempo(11,230,61)\n",
        "\n",
        "MT.entre(t1, t2)"
      ],
      "execution_count": null,
      "outputs": [
        {
          "output_type": "execute_result",
          "data": {
            "application/vnd.google.colaboratory.intrinsic+json": {
              "type": "string"
            },
            "text/plain": [
              "'False'"
            ]
          },
          "metadata": {},
          "execution_count": 10
        }
      ]
    },
    {
      "cell_type": "markdown",
      "metadata": {
        "id": "ktiw2HWrlb6x"
      },
      "source": [
        "3. Sobrecarregue o(s) operador(es) necessário(s)  --ver a lista de métodos especiais em https://docs.python.org/3/reference/datamodel.html#special-method-names -- para que, em vez de ter que escrever :\n",
        "```python\n",
        "if t1.depois( t2 ):  \n",
        "     ...\n",
        "```\n",
        "possamos usar o mais conveniente:\n",
        "```python\n",
        "if t1  >  t2 :  \n",
        "     ...\n",
        "```"
      ]
    },
    {
      "cell_type": "markdown",
      "metadata": {
        "id": "Kl1_kgKCleoW"
      },
      "source": [
        "4. Defina um novo tipo de tartaruga, TurtleGTX, que venha com alguns recursos extras: ela pode saltar para uma determinada distância, e tem um odômetro que rastreia até onde a tartaruga viajou desde que saiu da linha de produção. (A classe base tem vários sinônimos como `fd` e `forward` ; `back` , `backward` e `bk` : para este exercício, concentre-se **apenas** em colocar essa funcionalidade no método `forward`.) Pense cuidadosamente sobre como contar a distância se a tartaruga for solicitada a avançar por um valor negativo. (Não gostaríamos de comprar uma tartaruga de segunda mão cuja leitura do odômetro foi falsificada porque seu proprietário anterior a levou para trás ao redor do quarteirão com muita frequência. Tente isso em um carro perto de você e veja se o odômetro do carro conta para cima ou para baixo quando você marcha ré.)"
      ]
    },
    {
      "cell_type": "code",
      "metadata": {
        "id": "Br1jD88vljYJ",
        "colab": {
          "base_uri": "https://localhost:8080/"
        },
        "outputId": "b5f28b86-d33f-4af0-f287-01e861b7c54b"
      },
      "source": [
        "!pip3 install ColabTurtle\n",
        "import ColabTurtle\n",
        "import ColabTurtle.Turtle as t "
      ],
      "execution_count": 1,
      "outputs": [
        {
          "output_type": "stream",
          "name": "stdout",
          "text": [
            "Requirement already satisfied: ColabTurtle in /usr/local/lib/python3.7/dist-packages (2.1.0)\n"
          ]
        }
      ]
    },
    {
      "cell_type": "code",
      "metadata": {
        "id": "GHmpC4o32ZWH"
      },
      "source": [
        "b = []\n",
        "\n",
        "class TurtleGTX:    \n",
        "    def fd(t, l):\n",
        "      \"\"\" Anda pra frente e conta quanto andou \"\"\"\n",
        "      t.forward(l)\n",
        "      b.append(abs(l))\n",
        "      \n",
        "    def bk(t, l):\n",
        "      \"\"\" Anda pra trás e conta quanto andou \"\"\"\n",
        "      t.backward(l)\n",
        "      b.append(abs(l))\n",
        "\n",
        "    def distancia_percorrida():\n",
        "      \"\"\" Calcula a distância total percorrida \"\"\"\n",
        "      S = 0\n",
        "      for i in b:\n",
        "         S = S + i\n",
        "      b.clear()\n",
        "      return print(f\"A distância percorrida foi {S} t.u.\")\n",
        "    \n",
        "    def saltar(t,x,y):\n",
        "      \"\"\" Salta para o ponto dado \"\"\"\n",
        "      mx = 400 + x\n",
        "      my = 250 - y\n",
        "\n",
        "      t.up()\n",
        "      t.goto(mx,my)\n",
        "      t.down()"
      ],
      "execution_count": 22,
      "outputs": []
    },
    {
      "cell_type": "code",
      "metadata": {
        "colab": {
          "base_uri": "https://localhost:8080/",
          "height": 557
        },
        "id": "TkA0xcVO5rfv",
        "outputId": "b4c302df-8790-403a-ca48-9eeec1f964a7"
      },
      "source": [
        "t.initializeTurtle()\n",
        "\n",
        "TurtleGTX.fd(t,50)\n",
        "TurtleGTX.bk(t,50)\n",
        "TurtleGTX.saltar(t,150,100)\n",
        "\n",
        "print(\" \")\n",
        "TurtleGTX.distancia_percorrida()"
      ],
      "execution_count": 23,
      "outputs": [
        {
          "output_type": "display_data",
          "data": {
            "text/html": [
              "\n",
              "      <svg width=\"800\" height=\"500\">\n",
              "        <rect width=\"100%\" height=\"100%\" fill=\"black\"/>\n",
              "        <line x1=\"400\" y1=\"250\" x2=\"400.0\" y2=\"200.0\" stroke-linecap=\"round\" style=\"stroke:white;stroke-width:4\"/><line x1=\"400.0\" y1=\"200.0\" x2=\"400.0\" y2=\"250.0\" stroke-linecap=\"round\" style=\"stroke:white;stroke-width:4\"/>\n",
              "        <g visibility=visible transform=\"rotate(360,550,150) translate(532, 132)\">\n",
              "<path style=\" stroke:none;fill-rule:evenodd;fill:white;fill-opacity:1;\" d=\"M 18.214844 0.632812 C 16.109375 1.800781 15.011719 4.074219 15.074219 7.132812 L 15.085938 7.652344 L 14.785156 7.496094 C 13.476562 6.824219 11.957031 6.671875 10.40625 7.066406 C 8.46875 7.550781 6.515625 9.15625 4.394531 11.992188 C 3.0625 13.777344 2.679688 14.636719 3.042969 15.027344 L 3.15625 15.152344 L 3.519531 15.152344 C 4.238281 15.152344 4.828125 14.886719 8.1875 13.039062 C 9.386719 12.378906 10.371094 11.839844 10.378906 11.839844 C 10.386719 11.839844 10.355469 11.929688 10.304688 12.035156 C 9.832031 13.09375 9.257812 14.820312 8.96875 16.078125 C 7.914062 20.652344 8.617188 24.53125 11.070312 27.660156 C 11.351562 28.015625 11.363281 27.914062 10.972656 28.382812 C 8.925781 30.84375 7.945312 33.28125 8.238281 35.1875 C 8.289062 35.527344 8.28125 35.523438 8.917969 35.523438 C 10.941406 35.523438 13.074219 34.207031 15.136719 31.6875 C 15.359375 31.417969 15.328125 31.425781 15.5625 31.574219 C 16.292969 32.042969 18.023438 32.964844 18.175781 32.964844 C 18.335938 32.964844 19.941406 32.210938 20.828125 31.71875 C 20.996094 31.625 21.136719 31.554688 21.136719 31.558594 C 21.203125 31.664062 21.898438 32.414062 22.222656 32.730469 C 23.835938 34.300781 25.5625 35.132812 27.582031 35.300781 C 27.90625 35.328125 27.9375 35.308594 28.007812 34.984375 C 28.382812 33.242188 27.625 30.925781 25.863281 28.425781 L 25.542969 27.96875 L 25.699219 27.785156 C 28.945312 23.960938 29.132812 18.699219 26.257812 11.96875 L 26.207031 11.84375 L 27.945312 12.703125 C 31.53125 14.476562 32.316406 14.800781 33.03125 14.800781 C 33.976562 14.800781 33.78125 13.9375 32.472656 12.292969 C 28.519531 7.355469 25.394531 5.925781 21.921875 7.472656 L 21.558594 7.636719 L 21.578125 7.542969 C 21.699219 6.992188 21.761719 5.742188 21.699219 5.164062 C 21.496094 3.296875 20.664062 1.964844 19.003906 0.855469 C 18.480469 0.503906 18.457031 0.5 18.214844 0.632812\"/>\n",
              "</g>\n",
              "      </svg>\n",
              "    "
            ],
            "text/plain": [
              "<IPython.core.display.HTML object>"
            ]
          },
          "metadata": {}
        },
        {
          "output_type": "stream",
          "name": "stdout",
          "text": [
            " \n",
            "A distância percorrida foi 100 t.u.\n"
          ]
        }
      ]
    },
    {
      "cell_type": "markdown",
      "metadata": {
        "id": "X_AoBvanlgm8"
      },
      "source": [
        "5. Depois de percorrer uma distância aleatória, sua tartaruga deve quebrar com um pneu furado. Depois disso, aumente uma exceção sempre que `forward` for chamado. Também forneça um método `trocar_pneu` que possa consertar o pneu furado e eliminar a exceção para a tartaruga continuar seu percorso."
      ]
    },
    {
      "cell_type": "code",
      "metadata": {
        "id": "jQXE0MyCljEp"
      },
      "source": [
        "d = []\n",
        "\n",
        "class TurtleGTX:\n",
        "    def fd(t, l):\n",
        "      \"\"\" Anda pra frente e conta quanto andou \"\"\"\n",
        "      t.forward(l)\n",
        "      d.append(abs(l))\n",
        "\n",
        "      S = 0\n",
        "      for i in d:\n",
        "         S = S + i\n",
        "\n",
        "      if S >= 1000:\n",
        "        print(\"O Pneu furou\")\n",
        "        print(\"A troca de pneu será efetuada\")\n",
        "        TurtleGTX.trocar_pneu(t)\n",
        "      \n",
        "    def bk(t, l):\n",
        "      \"\"\" Anda pra trás e conta quanto andou \"\"\"\n",
        "      t.backward(l)\n",
        "      d.append(abs(l))\n",
        "\n",
        "      S = 0\n",
        "      for i in d:\n",
        "         S = S + i\n",
        "\n",
        "      if S >= 1000:\n",
        "        print(\"O Pneu furou\")\n",
        "        print(\"A troca de pneu será efetuada\")\n",
        "        TurtleGTX.trocar_pneu(t)\n",
        "\n",
        "    def distancia_percorrida():\n",
        "      \"\"\" Calcula a distância total percorrida \"\"\"\n",
        "      S = 0\n",
        "      for i in d:\n",
        "         S = S + i\n",
        "      d.clear()\n",
        "      return print(f\"A distância percorrida foi {S} t.u.\")\n",
        "    \n",
        "    def saltar(t,x,y):\n",
        "      \"\"\" Salta para o ponto dado \"\"\"\n",
        "      mx = 400 + x\n",
        "      my = 250 - y\n",
        "\n",
        "      t.up()\n",
        "      t.goto(mx,my)\n",
        "      t.down()\n",
        "    \n",
        "    def trocar_pneu(t):\n",
        "      d.clear()\n",
        "      print(\"A troca de pneu efetuada\")"
      ],
      "execution_count": 26,
      "outputs": []
    },
    {
      "cell_type": "code",
      "metadata": {
        "colab": {
          "base_uri": "https://localhost:8080/",
          "height": 613
        },
        "id": "fFahblnCA1iV",
        "outputId": "8e48b141-349f-4e01-dcfa-b5e32775222d"
      },
      "source": [
        "t.initializeTurtle()\n",
        "\n",
        "TurtleGTX.fd(t,1000)\n",
        "TurtleGTX.bk(t,750)\n",
        "TurtleGTX.saltar(t,150,100)\n",
        "\n",
        "print(\" \")\n",
        "TurtleGTX.distancia_percorrida()"
      ],
      "execution_count": 27,
      "outputs": [
        {
          "output_type": "display_data",
          "data": {
            "text/html": [
              "\n",
              "      <svg width=\"800\" height=\"500\">\n",
              "        <rect width=\"100%\" height=\"100%\" fill=\"black\"/>\n",
              "        <line x1=\"400\" y1=\"250\" x2=\"400.0\" y2=\"-750.0\" stroke-linecap=\"round\" style=\"stroke:white;stroke-width:4\"/><line x1=\"400.0\" y1=\"-750.0\" x2=\"400.0\" y2=\"0.0\" stroke-linecap=\"round\" style=\"stroke:white;stroke-width:4\"/>\n",
              "        <g visibility=visible transform=\"rotate(360,550,150) translate(532, 132)\">\n",
              "<path style=\" stroke:none;fill-rule:evenodd;fill:white;fill-opacity:1;\" d=\"M 18.214844 0.632812 C 16.109375 1.800781 15.011719 4.074219 15.074219 7.132812 L 15.085938 7.652344 L 14.785156 7.496094 C 13.476562 6.824219 11.957031 6.671875 10.40625 7.066406 C 8.46875 7.550781 6.515625 9.15625 4.394531 11.992188 C 3.0625 13.777344 2.679688 14.636719 3.042969 15.027344 L 3.15625 15.152344 L 3.519531 15.152344 C 4.238281 15.152344 4.828125 14.886719 8.1875 13.039062 C 9.386719 12.378906 10.371094 11.839844 10.378906 11.839844 C 10.386719 11.839844 10.355469 11.929688 10.304688 12.035156 C 9.832031 13.09375 9.257812 14.820312 8.96875 16.078125 C 7.914062 20.652344 8.617188 24.53125 11.070312 27.660156 C 11.351562 28.015625 11.363281 27.914062 10.972656 28.382812 C 8.925781 30.84375 7.945312 33.28125 8.238281 35.1875 C 8.289062 35.527344 8.28125 35.523438 8.917969 35.523438 C 10.941406 35.523438 13.074219 34.207031 15.136719 31.6875 C 15.359375 31.417969 15.328125 31.425781 15.5625 31.574219 C 16.292969 32.042969 18.023438 32.964844 18.175781 32.964844 C 18.335938 32.964844 19.941406 32.210938 20.828125 31.71875 C 20.996094 31.625 21.136719 31.554688 21.136719 31.558594 C 21.203125 31.664062 21.898438 32.414062 22.222656 32.730469 C 23.835938 34.300781 25.5625 35.132812 27.582031 35.300781 C 27.90625 35.328125 27.9375 35.308594 28.007812 34.984375 C 28.382812 33.242188 27.625 30.925781 25.863281 28.425781 L 25.542969 27.96875 L 25.699219 27.785156 C 28.945312 23.960938 29.132812 18.699219 26.257812 11.96875 L 26.207031 11.84375 L 27.945312 12.703125 C 31.53125 14.476562 32.316406 14.800781 33.03125 14.800781 C 33.976562 14.800781 33.78125 13.9375 32.472656 12.292969 C 28.519531 7.355469 25.394531 5.925781 21.921875 7.472656 L 21.558594 7.636719 L 21.578125 7.542969 C 21.699219 6.992188 21.761719 5.742188 21.699219 5.164062 C 21.496094 3.296875 20.664062 1.964844 19.003906 0.855469 C 18.480469 0.503906 18.457031 0.5 18.214844 0.632812\"/>\n",
              "</g>\n",
              "      </svg>\n",
              "    "
            ],
            "text/plain": [
              "<IPython.core.display.HTML object>"
            ]
          },
          "metadata": {}
        },
        {
          "output_type": "stream",
          "name": "stdout",
          "text": [
            "O Pneu furou\n",
            "A troca de pneu será efetuada\n",
            "A troca de pneu efetuada\n",
            " \n",
            "A distância percorrida foi 750 t.u.\n"
          ]
        }
      ]
    }
  ]
}