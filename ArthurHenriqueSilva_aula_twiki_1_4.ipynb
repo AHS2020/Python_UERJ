{
  "nbformat": 4,
  "nbformat_minor": 0,
  "metadata": {
    "colab": {
      "name": "ArthurHenriqueSilva_aula_twiki_1_4.ipynb",
      "provenance": [],
      "authorship_tag": "ABX9TyPBwJjEqRcLdKMZ+V5znAZ9",
      "include_colab_link": true
    },
    "kernelspec": {
      "name": "python3",
      "display_name": "Python 3"
    }
  },
  "cells": [
    {
      "cell_type": "markdown",
      "metadata": {
        "id": "view-in-github",
        "colab_type": "text"
      },
      "source": [
        "<a href=\"https://colab.research.google.com/github/AHS2020/Python_UERJ/blob/master/ArthurHenriqueSilva_aula_twiki_1_4.ipynb\" target=\"_parent\"><img src=\"https://colab.research.google.com/assets/colab-badge.svg\" alt=\"Open In Colab\"/></a>"
      ]
    },
    {
      "cell_type": "code",
      "metadata": {
        "id": "8ky2paHJUzYT",
        "outputId": "2d4447c4-dce6-4017-8e03-75e77d2fa9ac",
        "colab": {
          "base_uri": "https://localhost:8080/",
          "height": 228
        }
      },
      "source": [
        "print()\n",
        "\n",
        "print('Aluno - Arthur Henrique Silva')\n",
        "print('Aula(Twiki) - 1')\n",
        "print('Exercício - 4')\n",
        "\n",
        "print()\n",
        "\n",
        "print('Pergunta:')\n",
        "\n",
        "print('''\t   Se, ao meio dia, a sombra de um poste de 5 m de altura tem apenas 50 cm de comprimento no chão, qual o ângulo zenital do sol?''')\n",
        "\n",
        "print()\n",
        "\n",
        "print('Resposta:')\n",
        "\n",
        "import numpy as np\n",
        "\n",
        "print(f'''\t  Nomeando o angulo zenital como \\u03B8, tem-se tan(\\u03B8) = 0.5\\u22155, logo, \\u03B8 = arctan(0.5\\u22155) = {np.degrees(np.arctan(0.5/5)):.02f}\\u00B0.''')\n",
        "\n",
        "print()\n",
        "\n",
        "#Division slash = \\u2215\n",
        "#theta = \\u03B8\n",
        "#Theta = \\u03F4\n",
        "#Degrees sing = \\u00B0\n"
      ],
      "execution_count": 1,
      "outputs": [
        {
          "output_type": "stream",
          "text": [
            "\n",
            "Aluno - Arthur Henrique Silva\n",
            "Aula(Twiki) - 1\n",
            "Exercício - 4\n",
            "\n",
            "Pergunta:\n",
            "\t   Se, ao meio dia, a sombra de um poste de 5 m de altura tem apenas 50 cm de comprimento no chão, qual o ângulo zenital do sol?\n",
            "\n",
            "Resposta:\n",
            "\t  Nomeando o angulo zenital como θ, tem-se tan(θ) = 0.5∕5, logo, θ = arctan(0.5∕5) = 5.71°.\n",
            "\n"
          ],
          "name": "stdout"
        }
      ]
    }
  ]
}