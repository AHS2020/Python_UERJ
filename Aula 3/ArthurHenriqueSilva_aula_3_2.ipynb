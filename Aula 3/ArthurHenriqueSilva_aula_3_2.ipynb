{
  "nbformat": 4,
  "nbformat_minor": 0,
  "metadata": {
    "colab": {
      "name": "Aula 3/ArthurHenriqueSilva_aula_3_2.ipynb",
      "provenance": [],
      "authorship_tag": "ABX9TyN0fUuZlfLfaEPmSMiXufwK",
      "include_colab_link": true
    },
    "kernelspec": {
      "name": "python3",
      "display_name": "Python 3"
    }
  },
  "cells": [
    {
      "cell_type": "markdown",
      "metadata": {
        "id": "view-in-github",
        "colab_type": "text"
      },
      "source": [
        "<a href=\"https://colab.research.google.com/github/AHS2020/Python_UERJ/blob/master/Aula%203/ArthurHenriqueSilva_aula_3_2.ipynb\" target=\"_parent\"><img src=\"https://colab.research.google.com/assets/colab-badge.svg\" alt=\"Open In Colab\"/></a>"
      ]
    },
    {
      "cell_type": "code",
      "metadata": {
        "id": "yOVPKo74euaY",
        "outputId": "d171ca13-46d5-4888-c48a-38346c323034",
        "colab": {
          "base_uri": "https://localhost:8080/",
          "height": 298
        }
      },
      "source": [
        "print()\n",
        "\n",
        "print('Aluno - Arthur Henrique Silva')\n",
        "print('Aula - 3')\n",
        "print('Exercício - 2')\n",
        "\n",
        "print()\n",
        "\n",
        "def fun():\n",
        "\tprint('Esse programa calcula velocidade media de um objeto a partir de uma posição inicial, a final e o tempo transcorrido e a velocidade instantânea de um objeto a partir da velocidade inicial, da aceleração constante e do tempo.')\n",
        "\tprint()\n",
        "\tSi = float(input('Digite a posição inicial em m: '))\n",
        "\tSf = float(input('Digite a posição final em m: '))\n",
        "\tT = float(input('Digite o tempo transcorrido em s: '))\n",
        "\tVm = (Sf - Si)/T\n",
        "\tprint(f'A velocidade média é {Vm:.01f}m/s ou {3.6*Vm:.01f}km/h')\t\n",
        "\tVi = float(input('Digite a velocidade inicial em m/s: ')) \n",
        "\ta = float(input('Digite a aceleração em m/s²: '))\n",
        "\tt = float(input('Digite o tempo s: '))\n",
        "\tV = Vi + a*t\n",
        "\tprint(f'A velocidade no instante t = {t:.0f}s é {V:.01f}m/s ou {3.6*V:.01f}km/h')\n",
        "\n",
        "fun()\n"
      ],
      "execution_count": 6,
      "outputs": [
        {
          "output_type": "stream",
          "text": [
            "\n",
            "Aluno - Arthur Henrique Silva\n",
            "Aula - 3\n",
            "Exercício - 2\n",
            "\n",
            "Esse programa calcula velocidade media de um objeto a partir de uma posição inicial, a final e o tempo transcorrido e a velocidade instantânea de um objeto a partir da velocidade inicial, da aceleração constante e do tempo.\n",
            "\n",
            "Digite a posição inicial em m: 5\n",
            "Digite a posição final em m: 10\n",
            "Digite o tempo transcorrido em s: 2\n",
            "A velocidade média é 2.5m/s ou 9.0km/h\n",
            "Digite a velocidade inicial em m/s: 3.6\n",
            "Digite a aceleração em m/s²: 9.81\n",
            "Digite o tempo s: 5\n",
            "A velocidade no instante t = 5s é 52.7m/s ou 189.5km/h\n"
          ],
          "name": "stdout"
        }
      ]
    }
  ]
}