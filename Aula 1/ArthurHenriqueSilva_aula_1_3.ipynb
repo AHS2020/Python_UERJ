{
  "nbformat": 4,
  "nbformat_minor": 0,
  "metadata": {
    "colab": {
      "name": "ArthurHenriqueSilva_aula_1_3.ipynb",
      "provenance": [],
      "authorship_tag": "ABX9TyOt9m/VuLWxV+pIwqxzPR0/",
      "include_colab_link": true
    },
    "kernelspec": {
      "name": "python3",
      "display_name": "Python 3"
    }
  },
  "cells": [
    {
      "cell_type": "markdown",
      "metadata": {
        "id": "view-in-github",
        "colab_type": "text"
      },
      "source": [
        "<a href=\"https://colab.research.google.com/github/AHS2020/Python_UERJ/blob/master/ArthurHenriqueSilva_aula_1_3.ipynb\" target=\"_parent\"><img src=\"https://colab.research.google.com/assets/colab-badge.svg\" alt=\"Open In Colab\"/></a>"
      ]
    },
    {
      "cell_type": "code",
      "metadata": {
        "id": "EySVVvraBxYr",
        "colab_type": "code",
        "colab": {
          "base_uri": "https://localhost:8080/",
          "height": 434
        },
        "outputId": "6edcf8a1-f40c-41f6-9153-f8fe8b8a7496"
      },
      "source": [
        "print(\" \")\n",
        "\n",
        "print(\"Aluno - Arthur Henrique Silva\")\n",
        "print(\"Aula - 1\")\n",
        "print(\"Exercício - 3\")\n",
        "\n",
        "print(\" \")\n",
        "\n",
        "print(\"Pergunta:\")\n",
        "\n",
        "print(\"\t  Se você fizer uma corrida de 10 quilômetros em 43 minutos\")\n",
        "print(\"\t  e 30 segundos, qual será seu tempo médio por milha?\")\n",
        "print(\"\t  Qual é a sua velocidade média em milhas por hora?\") \n",
        "print(\"\t  (Dica: há 1,61 quilômetros em uma milha).\")\n",
        "\n",
        "print(\" \")\n",
        "\n",
        "print(\"Resposta:\")\n",
        "\n",
        "print(f\"\t  Primeiramente transformamos quilometros em milhas onde\")\n",
        "print(f\"\t  1 milha = 1.61 km, então, 1 km = {1/1.61:.03f} milhas. Logo,\")\n",
        "s = 10/1.61\n",
        "print(f\"\t  10 km = {s:.02f} milhas. Temos então s = {s:.02f} milhas como\")\n",
        "t = 43.5\n",
        "print(f\"\t  o espaço percorrido. Também temos t = 43.5 min como tempo\")\n",
        "print(f\"\t  decorrido.\")\n",
        "print(f\"\t  A partir disso achamos tempo médio por milha exatamente\")\n",
        "print(f\"\t  como t dividido por s - t/s = {t/s:.02f} min por milha.\")\n",
        "print(f\"\t  Já para acharmos a velocidade média, devemos fazer a\")\n",
        "print(f\"\t  operação contrária s/t, mas antes devemos passar o tempo\")\n",
        "t2 = t/60\n",
        "print(f\"\t  para horas dividindo por 60, onde t2 = t/60 = {t2:.03f} horas.\")\n",
        "print(f\"\t  Fazendo s divido por t2 - s/t2 = {s/t2:.02f} milhas por hora.\") \n",
        "\n",
        "print(\" \")"
      ],
      "execution_count": 1,
      "outputs": [
        {
          "output_type": "stream",
          "text": [
            " \n",
            "Aluno - Arthur Henrique Silva\n",
            "Aula - 1\n",
            "Exercício - 3\n",
            " \n",
            "Pergunta:\n",
            "\t  Se você fizer uma corrida de 10 quilômetros em 43 minutos\n",
            "\t  e 30 segundos, qual será seu tempo médio por milha?\n",
            "\t  Qual é a sua velocidade média em milhas por hora?\n",
            "\t  (Dica: há 1,61 quilômetros em uma milha).\n",
            " \n",
            "Resposta:\n",
            "\t  Primeiramente transformamos quilometros em milhas onde\n",
            "\t  1 milha = 1.61 km, então, 1 km = 0.621 milhas. Logo,\n",
            "\t  10 km = 6.21 milhas. Temos então s = 6.21 milhas como\n",
            "\t  o espaço percorrido. Também temos t = 43.5 min como tempo\n",
            "\t  decorrido.\n",
            "\t  A partir disso achamos tempo médio por milha exatamente\n",
            "\t  como t dividido por s - t/s = 7.00 min por milha.\n",
            "\t  Já para acharmos a velocidade média, devemos fazer a\n",
            "\t  operação contrária s/t, mas antes devemos passar o tempo\n",
            "\t  para horas dividindo por 60, onde t2 = t/60 = 0.725 horas.\n",
            "\t  Fazendo s divido por t2 - s/t2 = 8.57 milhas por hora.\n",
            " \n"
          ],
          "name": "stdout"
        }
      ]
    }
  ]
}
